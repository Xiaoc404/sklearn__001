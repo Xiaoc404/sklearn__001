{
 "cells": [
  {
   "cell_type": "code",
   "execution_count": 1,
   "metadata": {
    "collapsed": true
   },
   "outputs": [],
   "source": [
    "import numpy as np\n",
    "from sklearn import datasets"
   ]
  },
  {
   "cell_type": "code",
   "execution_count": 3,
   "metadata": {
    "collapsed": true
   },
   "outputs": [],
   "source": [
    "datasets.load_*?"
   ]
  },
  {
   "cell_type": "code",
   "execution_count": 4,
   "metadata": {},
   "outputs": [
    {
     "name": "stdout",
     "output_type": "stream",
     "text": [
      "Boston House Prices dataset\n",
      "===========================\n",
      "\n",
      "Notes\n",
      "------\n",
      "Data Set Characteristics:  \n",
      "\n",
      "    :Number of Instances: 506 \n",
      "\n",
      "    :Number of Attributes: 13 numeric/categorical predictive\n",
      "    \n",
      "    :Median Value (attribute 14) is usually the target\n",
      "\n",
      "    :Attribute Information (in order):\n",
      "        - CRIM     per capita crime rate by town\n",
      "        - ZN       proportion of residential land zoned for lots over 25,000 sq.ft.\n",
      "        - INDUS    proportion of non-retail business acres per town\n",
      "        - CHAS     Charles River dummy variable (= 1 if tract bounds river; 0 otherwise)\n",
      "        - NOX      nitric oxides concentration (parts per 10 million)\n",
      "        - RM       average number of rooms per dwelling\n",
      "        - AGE      proportion of owner-occupied units built prior to 1940\n",
      "        - DIS      weighted distances to five Boston employment centres\n",
      "        - RAD      index of accessibility to radial highways\n",
      "        - TAX      full-value property-tax rate per $10,000\n",
      "        - PTRATIO  pupil-teacher ratio by town\n",
      "        - B        1000(Bk - 0.63)^2 where Bk is the proportion of blacks by town\n",
      "        - LSTAT    % lower status of the population\n",
      "        - MEDV     Median value of owner-occupied homes in $1000's\n",
      "\n",
      "    :Missing Attribute Values: None\n",
      "\n",
      "    :Creator: Harrison, D. and Rubinfeld, D.L.\n",
      "\n",
      "This is a copy of UCI ML housing dataset.\n",
      "http://archive.ics.uci.edu/ml/datasets/Housing\n",
      "\n",
      "\n",
      "This dataset was taken from the StatLib library which is maintained at Carnegie Mellon University.\n",
      "\n",
      "The Boston house-price data of Harrison, D. and Rubinfeld, D.L. 'Hedonic\n",
      "prices and the demand for clean air', J. Environ. Economics & Management,\n",
      "vol.5, 81-102, 1978.   Used in Belsley, Kuh & Welsch, 'Regression diagnostics\n",
      "...', Wiley, 1980.   N.B. Various transformations are used in the table on\n",
      "pages 244-261 of the latter.\n",
      "\n",
      "The Boston house-price data has been used in many machine learning papers that address regression\n",
      "problems.   \n",
      "     \n",
      "**References**\n",
      "\n",
      "   - Belsley, Kuh & Welsch, 'Regression diagnostics: Identifying Influential Data and Sources of Collinearity', Wiley, 1980. 244-261.\n",
      "   - Quinlan,R. (1993). Combining Instance-Based and Model-Based Learning. In Proceedings on the Tenth International Conference of Machine Learning, 236-243, University of Massachusetts, Amherst. Morgan Kaufmann.\n",
      "   - many more! (see http://archive.ics.uci.edu/ml/datasets/Housing)\n",
      "\n"
     ]
    }
   ],
   "source": [
    "boston = datasets.load_boston()\n",
    "print(boston.DESCR)"
   ]
  },
  {
   "cell_type": "code",
   "execution_count": 5,
   "metadata": {},
   "outputs": [
    {
     "name": "stderr",
     "output_type": "stream",
     "text": [
      "Downloading Cal. housing from https://ndownloader.figshare.com/files/5976036 to C:\\Users\\13884\\scikit_learn_data\n"
     ]
    },
    {
     "name": "stdout",
     "output_type": "stream",
     "text": [
      "California housing dataset.\n",
      "\n",
      "The original database is available from StatLib\n",
      "\n",
      "    http://lib.stat.cmu.edu/datasets/\n",
      "\n",
      "The data contains 20,640 observations on 9 variables.\n",
      "\n",
      "This dataset contains the average house value as target variable\n",
      "and the following input variables (features): average income,\n",
      "housing average age, average rooms, average bedrooms, population,\n",
      "average occupation, latitude, and longitude in that order.\n",
      "\n",
      "References\n",
      "----------\n",
      "\n",
      "Pace, R. Kelley and Ronald Barry, Sparse Spatial Autoregressions,\n",
      "Statistics and Probability Letters, 33 (1997) 291-297.\n",
      "\n",
      "\n"
     ]
    }
   ],
   "source": [
    "housing = datasets.fetch_california_housing()\n",
    "print(housing.DESCR)"
   ]
  },
  {
   "cell_type": "code",
   "execution_count": 6,
   "metadata": {
    "collapsed": true
   },
   "outputs": [],
   "source": [
    "X,y = boston.data, boston.target"
   ]
  },
  {
   "cell_type": "code",
   "execution_count": 13,
   "metadata": {},
   "outputs": [
    {
     "data": {
      "text/plain": [
       "'C:\\\\Users\\\\13884\\\\scikit_learn_data'"
      ]
     },
     "execution_count": 13,
     "metadata": {},
     "output_type": "execute_result"
    }
   ],
   "source": [
    "datasets.get_data_home()"
   ]
  },
  {
   "cell_type": "code",
   "execution_count": 14,
   "metadata": {
    "collapsed": true
   },
   "outputs": [],
   "source": [
    "from sklearn import datasets\n",
    "datasets.make*?"
   ]
  },
  {
   "cell_type": "code",
   "execution_count": 16,
   "metadata": {},
   "outputs": [
    {
     "data": {
      "text/plain": [
       "((100, 100), (100,))"
      ]
     },
     "execution_count": 16,
     "metadata": {},
     "output_type": "execute_result"
    }
   ],
   "source": [
    "reg_data = datasets.make_regression()\n",
    "reg_data[0].shape,reg_data[1].shape"
   ]
  },
  {
   "cell_type": "code",
   "execution_count": 22,
   "metadata": {},
   "outputs": [
    {
     "data": {
      "text/plain": [
       "((1000, 10), (1000, 2))"
      ]
     },
     "execution_count": 22,
     "metadata": {},
     "output_type": "execute_result"
    }
   ],
   "source": [
    "complex_reg_data = datasets.make_regression(n_samples=1000, n_features=10, n_informative=5, n_targets=2, bias=0.2, effective_rank=None, \n",
    "                                            tail_strength=0.5, noise=0.0, shuffle=True, coef=False, random_state=None)\n",
    "complex_reg_data[0].shape,complex_reg_data[1].shape"
   ]
  },
  {
   "cell_type": "code",
   "execution_count": 32,
   "metadata": {
    "scrolled": false
   },
   "outputs": [
    {
     "name": "stdout",
     "output_type": "stream",
     "text": [
      "Help on function make_blobs in module sklearn.datasets.samples_generator:\n",
      "\n",
      "make_blobs(n_samples=100, n_features=2, centers=3, cluster_std=1.0, center_box=(-10.0, 10.0), shuffle=True, random_state=None)\n",
      "    Generate isotropic Gaussian blobs for clustering.\n",
      "    \n",
      "    Read more in the :ref:`User Guide <sample_generators>`.\n",
      "    \n",
      "    Parameters\n",
      "    ----------\n",
      "    n_samples : int, optional (default=100)\n",
      "        The total number of points equally divided among clusters.\n",
      "    \n",
      "    n_features : int, optional (default=2)\n",
      "        The number of features for each sample.\n",
      "    \n",
      "    centers : int or array of shape [n_centers, n_features], optional\n",
      "        (default=3)\n",
      "        The number of centers to generate, or the fixed center locations.\n",
      "    \n",
      "    cluster_std : float or sequence of floats, optional (default=1.0)\n",
      "        The standard deviation of the clusters.\n",
      "    \n",
      "    center_box : pair of floats (min, max), optional (default=(-10.0, 10.0))\n",
      "        The bounding box for each cluster center when centers are\n",
      "        generated at random.\n",
      "    \n",
      "    shuffle : boolean, optional (default=True)\n",
      "        Shuffle the samples.\n",
      "    \n",
      "    random_state : int, RandomState instance or None, optional (default=None)\n",
      "        If int, random_state is the seed used by the random number generator;\n",
      "        If RandomState instance, random_state is the random number generator;\n",
      "        If None, the random number generator is the RandomState instance used\n",
      "        by `np.random`.\n",
      "    \n",
      "    Returns\n",
      "    -------\n",
      "    X : array of shape [n_samples, n_features]\n",
      "        The generated samples.\n",
      "    \n",
      "    y : array of shape [n_samples]\n",
      "        The integer labels for cluster membership of each sample.\n",
      "    \n",
      "    Examples\n",
      "    --------\n",
      "    >>> from sklearn.datasets.samples_generator import make_blobs\n",
      "    >>> X, y = make_blobs(n_samples=10, centers=3, n_features=2,\n",
      "    ...                   random_state=0)\n",
      "    >>> print(X.shape)\n",
      "    (10, 2)\n",
      "    >>> y\n",
      "    array([0, 0, 1, 0, 2, 2, 2, 1, 1, 0])\n",
      "    \n",
      "    See also\n",
      "    --------\n",
      "    make_classification: a more intricate variant\n",
      "\n"
     ]
    }
   ],
   "source": [
    "help(datasets.make_blobs)"
   ]
  },
  {
   "cell_type": "code",
   "execution_count": 27,
   "metadata": {},
   "outputs": [
    {
     "data": {
      "text/plain": [
       "array([20, 80], dtype=int64)"
      ]
     },
     "execution_count": 27,
     "metadata": {},
     "output_type": "execute_result"
    }
   ],
   "source": [
    "classification_set = datasets.make_classification(weights=[0.2])\n",
    "np.bincount(classification_set[1])"
   ]
  },
  {
   "cell_type": "code",
   "execution_count": 34,
   "metadata": {},
   "outputs": [
    {
     "data": {
      "text/plain": [
       "<matplotlib.collections.PathCollection at 0x1c4b95e2c18>"
      ]
     },
     "execution_count": 34,
     "metadata": {},
     "output_type": "execute_result"
    },
    {
     "data": {
      "image/png": "[encoded data removed]",
      "text/plain": [
       "<matplotlib.figure.Figure at 0x1c4b6fcf668>"
      ]
     },
     "metadata": {},
     "output_type": "display_data"
    }
   ],
   "source": [
    "%matplotlib inline\n",
    "import numpy as np\n",
    "import sklearn.datasets as d\n",
    "import matplotlib.pyplot as plt\n",
    "import matplotlib\n",
    "\n",
    "blobs = d.make_blobs(200)\n",
    "f = plt.figure(figsize=(8, 4))\n",
    "ax = f.add_subplot(111)\n",
    "ax.set_title(\"A blob with 3 centers\")\n",
    "colors = np.array(['r', 'g', 'b'])\n",
    "ax.scatter(blobs[0][:, 0], blobs[0][:, 1], color=colors[blobs[1]\n",
    ".astype(int)], alpha=0.75)"
   ]
  },
  {
   "cell_type": "code",
   "execution_count": 44,
   "metadata": {
    "collapsed": true,
    "scrolled": false
   },
   "outputs": [],
   "source": [
    "from sklearn import preprocessing\n",
    "import numpy as np"
   ]
  },
  {
   "cell_type": "code",
   "execution_count": 46,
   "metadata": {
    "collapsed": true
   },
   "outputs": [],
   "source": [
    "from sklearn import datasets\n",
    "boston = datasets.load_boston()\n",
    "x,y = boston.data, boston.target"
   ]
  },
  {
   "cell_type": "code",
   "execution_count": 69,
   "metadata": {},
   "outputs": [
    {
     "data": {
      "text/plain": [
       "0.0"
      ]
     },
     "execution_count": 69,
     "metadata": {},
     "output_type": "execute_result"
    }
   ],
   "source": [
    "x.max()\n",
    "x.min()"
   ]
  },
  {
   "cell_type": "code",
   "execution_count": 49,
   "metadata": {},
   "outputs": [
    {
     "data": {
      "text/plain": [
       "array([ 3.59376071, 11.36363636, 11.13677866])"
      ]
     },
     "execution_count": 49,
     "metadata": {},
     "output_type": "execute_result"
    }
   ],
   "source": [
    "x[:, :3].mean(axis=0)"
   ]
  },
  {
   "cell_type": "code",
   "execution_count": 50,
   "metadata": {},
   "outputs": [
    {
     "data": {
      "text/plain": [
       "array([ 8.58828355, 23.29939569,  6.85357058])"
      ]
     },
     "execution_count": 50,
     "metadata": {},
     "output_type": "execute_result"
    }
   ],
   "source": [
    "x[:, :3].std(axis=0)"
   ]
  },
  {
   "cell_type": "code",
   "execution_count": 51,
   "metadata": {
    "collapsed": true
   },
   "outputs": [],
   "source": [
    "z_score = (x[:,:3] - x[:, :3].mean(axis=0))/x[:, :3].std(axis=0)"
   ]
  },
  {
   "cell_type": "code",
   "execution_count": 52,
   "metadata": {},
   "outputs": [
    {
     "data": {
      "text/plain": [
       "array([[-0.41771335,  0.28482986, -1.2879095 ],\n",
       "       [-0.41526932, -0.48772236, -0.59338101],\n",
       "       [-0.41527165, -0.48772236, -0.59338101],\n",
       "       ...,\n",
       "       [-0.41137448, -0.48772236,  0.11573841],\n",
       "       [-0.40568883, -0.48772236,  0.11573841],\n",
       "       [-0.41292893, -0.48772236,  0.11573841]])"
      ]
     },
     "execution_count": 52,
     "metadata": {},
     "output_type": "execute_result"
    }
   ],
   "source": [
    "z_score"
   ]
  },
  {
   "cell_type": "code",
   "execution_count": 53,
   "metadata": {
    "collapsed": true
   },
   "outputs": [],
   "source": [
    "x_2 = preprocessing.scale(x[:,:3])"
   ]
  },
  {
   "cell_type": "code",
   "execution_count": 54,
   "metadata": {},
   "outputs": [
    {
     "data": {
      "text/plain": [
       "array([[-0.41771335,  0.28482986, -1.2879095 ],\n",
       "       [-0.41526932, -0.48772236, -0.59338101],\n",
       "       [-0.41527165, -0.48772236, -0.59338101],\n",
       "       ...,\n",
       "       [-0.41137448, -0.48772236,  0.11573841],\n",
       "       [-0.40568883, -0.48772236,  0.11573841],\n",
       "       [-0.41292893, -0.48772236,  0.11573841]])"
      ]
     },
     "execution_count": 54,
     "metadata": {},
     "output_type": "execute_result"
    }
   ],
   "source": [
    "x_2"
   ]
  },
  {
   "cell_type": "code",
   "execution_count": 56,
   "metadata": {},
   "outputs": [
    {
     "data": {
      "text/plain": [
       "array([ 6.34099712e-17, -6.34319123e-16, -2.68291099e-15])"
      ]
     },
     "execution_count": 56,
     "metadata": {},
     "output_type": "execute_result"
    }
   ],
   "source": [
    "x_2.mean(axis=0)"
   ]
  },
  {
   "cell_type": "code",
   "execution_count": 58,
   "metadata": {},
   "outputs": [
    {
     "data": {
      "text/plain": [
       "array([1., 1., 1.])"
      ]
     },
     "execution_count": 58,
     "metadata": {},
     "output_type": "execute_result"
    }
   ],
   "source": [
    "x_2.std(axis=0)"
   ]
  },
  {
   "cell_type": "code",
   "execution_count": 61,
   "metadata": {},
   "outputs": [
    {
     "data": {
      "text/plain": [
       "array([ 6.34099712e-17, -6.34319123e-16, -2.68291099e-15])"
      ]
     },
     "execution_count": 61,
     "metadata": {},
     "output_type": "execute_result"
    }
   ],
   "source": [
    "my_scaler = preprocessing.StandardScaler()\n",
    "my_scaler.fit(x[:,:3])\n",
    "my_scaler.transform(x[:, :3]).mean(axis=0)"
   ]
  },
  {
   "cell_type": "code",
   "execution_count": 65,
   "metadata": {},
   "outputs": [
    {
     "data": {
      "text/plain": [
       "array([0.09653024, 0.23299396, 0.25123059])"
      ]
     },
     "execution_count": 65,
     "metadata": {},
     "output_type": "execute_result"
    }
   ],
   "source": [
    "minmax_scaler = preprocessing.MinMaxScaler()\n",
    "minmax_scaler.fit(x[:,:3])\n",
    "minmax_scaler.transform(x[:,:3]).std(axis=0)"
   ]
  },
  {
   "cell_type": "code",
   "execution_count": 71,
   "metadata": {},
   "outputs": [
    {
     "data": {
      "text/plain": [
       "array([ 27.11246136,  80.04545455, 280.57456707])"
      ]
     },
     "execution_count": 71,
     "metadata": {},
     "output_type": "execute_result"
    }
   ],
   "source": [
    "my_odd_scaler = preprocessing.MinMaxScaler(feature_range=(-2,\n",
    "720))\n",
    "my_odd_scaler.fit(x[:, :3])\n",
    "my_odd_scaler.transform(x[:, :3]).mean(axis=0)"
   ]
  },
  {
   "cell_type": "code",
   "execution_count": 73,
   "metadata": {
    "collapsed": true
   },
   "outputs": [],
   "source": [
    "normalized_x = preprocessing.normalize(x[:, :3])"
   ]
  },
  {
   "cell_type": "code",
   "execution_count": 77,
   "metadata": {},
   "outputs": [
    {
     "data": {
      "text/plain": [
       "0.3798666031745737"
      ]
     },
     "execution_count": 77,
     "metadata": {},
     "output_type": "execute_result"
    }
   ],
   "source": [
    "normalized_X.max()\n",
    "normalized_X.min()\n",
    "normalized_X.mean()"
   ]
  },
  {
   "cell_type": "code",
   "execution_count": 79,
   "metadata": {},
   "outputs": [
    {
     "data": {
      "text/plain": [
       "True"
      ]
     },
     "execution_count": 79,
     "metadata": {},
     "output_type": "execute_result"
    }
   ],
   "source": [
    "my_useless_scaler = preprocessing.StandardScaler(with_mean=False\n",
    ", with_std=False)\n",
    "transformed_sd = my_useless_scaler.fit_transform(X[:, :3]).std(axis=0)\n",
    "original_sd = X[:, :3].std(axis=0)\n",
    "np.array_equal(transformed_sd, original_sd)"
   ]
  },
  {
   "cell_type": "code",
   "execution_count": 1,
   "metadata": {
    "collapsed": true
   },
   "outputs": [],
   "source": [
    "from sklearn import datasets\n",
    "import numpy as np\n",
    "boston = datasets.load_boston()"
   ]
  },
  {
   "cell_type": "code",
   "execution_count": 11,
   "metadata": {},
   "outputs": [
    {
     "ename": "ValueError",
     "evalue": "Expected 2D array, got 1D array instead:\narray=[24.  21.6 34.7 33.4 36.2 28.7 22.9 27.1 16.5 18.9 15.  18.9 21.7 20.4\n 18.2 19.9 23.1 17.5 20.2 18.2 13.6 19.6 15.2 14.5 15.6 13.9 16.6 14.8\n 18.4 21.  12.7 14.5 13.2 13.1 13.5 18.9 20.  21.  24.7 30.8 34.9 26.6\n 25.3 24.7 21.2 19.3 20.  16.6 14.4 19.4 19.7 20.5 25.  23.4 18.9 35.4\n 24.7 31.6 23.3 19.6 18.7 16.  22.2 25.  33.  23.5 19.4 22.  17.4 20.9\n 24.2 21.7 22.8 23.4 24.1 21.4 20.  20.8 21.2 20.3 28.  23.9 24.8 22.9\n 23.9 26.6 22.5 22.2 23.6 28.7 22.6 22.  22.9 25.  20.6 28.4 21.4 38.7\n 43.8 33.2 27.5 26.5 18.6 19.3 20.1 19.5 19.5 20.4 19.8 19.4 21.7 22.8\n 18.8 18.7 18.5 18.3 21.2 19.2 20.4 19.3 22.  20.3 20.5 17.3 18.8 21.4\n 15.7 16.2 18.  14.3 19.2 19.6 23.  18.4 15.6 18.1 17.4 17.1 13.3 17.8\n 14.  14.4 13.4 15.6 11.8 13.8 15.6 14.6 17.8 15.4 21.5 19.6 15.3 19.4\n 17.  15.6 13.1 41.3 24.3 23.3 27.  50.  50.  50.  22.7 25.  50.  23.8\n 23.8 22.3 17.4 19.1 23.1 23.6 22.6 29.4 23.2 24.6 29.9 37.2 39.8 36.2\n 37.9 32.5 26.4 29.6 50.  32.  29.8 34.9 37.  30.5 36.4 31.1 29.1 50.\n 33.3 30.3 34.6 34.9 32.9 24.1 42.3 48.5 50.  22.6 24.4 22.5 24.4 20.\n 21.7 19.3 22.4 28.1 23.7 25.  23.3 28.7 21.5 23.  26.7 21.7 27.5 30.1\n 44.8 50.  37.6 31.6 46.7 31.5 24.3 31.7 41.7 48.3 29.  24.  25.1 31.5\n 23.7 23.3 22.  20.1 22.2 23.7 17.6 18.5 24.3 20.5 24.5 26.2 24.4 24.8\n 29.6 42.8 21.9 20.9 44.  50.  36.  30.1 33.8 43.1 48.8 31.  36.5 22.8\n 30.7 50.  43.5 20.7 21.1 25.2 24.4 35.2 32.4 32.  33.2 33.1 29.1 35.1\n 45.4 35.4 46.  50.  32.2 22.  20.1 23.2 22.3 24.8 28.5 37.3 27.9 23.9\n 21.7 28.6 27.1 20.3 22.5 29.  24.8 22.  26.4 33.1 36.1 28.4 33.4 28.2\n 22.8 20.3 16.1 22.1 19.4 21.6 23.8 16.2 17.8 19.8 23.1 21.  23.8 23.1\n 20.4 18.5 25.  24.6 23.  22.2 19.3 22.6 19.8 17.1 19.4 22.2 20.7 21.1\n 19.5 18.5 20.6 19.  18.7 32.7 16.5 23.9 31.2 17.5 17.2 23.1 24.5 26.6\n 22.9 24.1 18.6 30.1 18.2 20.6 17.8 21.7 22.7 22.6 25.  19.9 20.8 16.8\n 21.9 27.5 21.9 23.1 50.  50.  50.  50.  50.  13.8 13.8 15.  13.9 13.3\n 13.1 10.2 10.4 10.9 11.3 12.3  8.8  7.2 10.5  7.4 10.2 11.5 15.1 23.2\n  9.7 13.8 12.7 13.1 12.5  8.5  5.   6.3  5.6  7.2 12.1  8.3  8.5  5.\n 11.9 27.9 17.2 27.5 15.  17.2 17.9 16.3  7.   7.2  7.5 10.4  8.8  8.4\n 16.7 14.2 20.8 13.4 11.7  8.3 10.2 10.9 11.   9.5 14.5 14.1 16.1 14.3\n 11.7 13.4  9.6  8.7  8.4 12.8 10.5 17.1 18.4 15.4 10.8 11.8 14.9 12.6\n 14.1 13.  13.4 15.2 16.1 17.8 14.9 14.1 12.7 13.5 14.9 20.  16.4 17.7\n 19.5 20.2 21.4 19.9 19.  19.1 19.1 20.1 19.9 19.6 23.2 29.8 13.8 13.3\n 16.7 12.  14.6 21.4 23.  23.7 25.  21.8 20.6 21.2 19.1 20.6 15.2  7.\n  8.1 13.6 20.1 21.8 24.5 23.1 19.7 18.3 21.2 17.5 16.8 22.4 20.6 23.9\n 22.  11.9].\nReshape your data either using array.reshape(-1, 1) if your data has a single feature or array.reshape(1, -1) if it contains a single sample.",
     "output_type": "error",
     "traceback": [
      "\u001b[1;31m---------------------------------------------------------------------------\u001b[0m",
      "\u001b[1;31mValueError\u001b[0m                                Traceback (most recent call last)",
      "\u001b[1;32m<ipython-input-11-e9d3718b0908>\u001b[0m in \u001b[0;36m<module>\u001b[1;34m()\u001b[0m\n\u001b[0;32m      1\u001b[0m \u001b[1;32mfrom\u001b[0m \u001b[0msklearn\u001b[0m \u001b[1;32mimport\u001b[0m \u001b[0mpreprocessing\u001b[0m\u001b[1;33m\u001b[0m\u001b[0m\n\u001b[0;32m      2\u001b[0m \u001b[0mbin\u001b[0m \u001b[1;33m=\u001b[0m \u001b[0mpreprocessing\u001b[0m\u001b[1;33m.\u001b[0m\u001b[0mBinarizer\u001b[0m\u001b[1;33m(\u001b[0m\u001b[0mboston\u001b[0m\u001b[1;33m.\u001b[0m\u001b[0mtarget\u001b[0m\u001b[1;33m.\u001b[0m\u001b[0mmean\u001b[0m\u001b[1;33m(\u001b[0m\u001b[1;33m)\u001b[0m\u001b[1;33m)\u001b[0m\u001b[1;33m\u001b[0m\u001b[0m\n\u001b[1;32m----> 3\u001b[1;33m \u001b[0mnew_target\u001b[0m \u001b[1;33m=\u001b[0m \u001b[0mbin\u001b[0m\u001b[1;33m.\u001b[0m\u001b[0mfit_transform\u001b[0m\u001b[1;33m(\u001b[0m\u001b[0mboston\u001b[0m\u001b[1;33m.\u001b[0m\u001b[0mtarget\u001b[0m\u001b[1;33m)\u001b[0m\u001b[1;33m\u001b[0m\u001b[0m\n\u001b[0m",
      "\u001b[1;32mD:\\Users\\13884\\lib\\site-packages\\sklearn\\base.py\u001b[0m in \u001b[0;36mfit_transform\u001b[1;34m(self, X, y, **fit_params)\u001b[0m\n\u001b[0;32m    515\u001b[0m         \u001b[1;32mif\u001b[0m \u001b[0my\u001b[0m \u001b[1;32mis\u001b[0m \u001b[1;32mNone\u001b[0m\u001b[1;33m:\u001b[0m\u001b[1;33m\u001b[0m\u001b[0m\n\u001b[0;32m    516\u001b[0m             \u001b[1;31m# fit method of arity 1 (unsupervised transformation)\u001b[0m\u001b[1;33m\u001b[0m\u001b[1;33m\u001b[0m\u001b[0m\n\u001b[1;32m--> 517\u001b[1;33m             \u001b[1;32mreturn\u001b[0m \u001b[0mself\u001b[0m\u001b[1;33m.\u001b[0m\u001b[0mfit\u001b[0m\u001b[1;33m(\u001b[0m\u001b[0mX\u001b[0m\u001b[1;33m,\u001b[0m \u001b[1;33m**\u001b[0m\u001b[0mfit_params\u001b[0m\u001b[1;33m)\u001b[0m\u001b[1;33m.\u001b[0m\u001b[0mtransform\u001b[0m\u001b[1;33m(\u001b[0m\u001b[0mX\u001b[0m\u001b[1;33m)\u001b[0m\u001b[1;33m\u001b[0m\u001b[0m\n\u001b[0m\u001b[0;32m    518\u001b[0m         \u001b[1;32melse\u001b[0m\u001b[1;33m:\u001b[0m\u001b[1;33m\u001b[0m\u001b[0m\n\u001b[0;32m    519\u001b[0m             \u001b[1;31m# fit method of arity 2 (supervised transformation)\u001b[0m\u001b[1;33m\u001b[0m\u001b[1;33m\u001b[0m\u001b[0m\n",
      "\u001b[1;32mD:\\Users\\13884\\lib\\site-packages\\sklearn\\preprocessing\\data.py\u001b[0m in \u001b[0;36mfit\u001b[1;34m(self, X, y)\u001b[0m\n\u001b[0;32m   1630\u001b[0m         \u001b[0mX\u001b[0m \u001b[1;33m:\u001b[0m \u001b[0marray\u001b[0m\u001b[1;33m-\u001b[0m\u001b[0mlike\u001b[0m\u001b[1;33m\u001b[0m\u001b[0m\n\u001b[0;32m   1631\u001b[0m         \"\"\"\n\u001b[1;32m-> 1632\u001b[1;33m         \u001b[0mcheck_array\u001b[0m\u001b[1;33m(\u001b[0m\u001b[0mX\u001b[0m\u001b[1;33m,\u001b[0m \u001b[0maccept_sparse\u001b[0m\u001b[1;33m=\u001b[0m\u001b[1;34m'csr'\u001b[0m\u001b[1;33m)\u001b[0m\u001b[1;33m\u001b[0m\u001b[0m\n\u001b[0m\u001b[0;32m   1633\u001b[0m         \u001b[1;32mreturn\u001b[0m \u001b[0mself\u001b[0m\u001b[1;33m\u001b[0m\u001b[0m\n\u001b[0;32m   1634\u001b[0m \u001b[1;33m\u001b[0m\u001b[0m\n",
      "\u001b[1;32mD:\\Users\\13884\\lib\\site-packages\\sklearn\\utils\\validation.py\u001b[0m in \u001b[0;36mcheck_array\u001b[1;34m(array, accept_sparse, dtype, order, copy, force_all_finite, ensure_2d, allow_nd, ensure_min_samples, ensure_min_features, warn_on_dtype, estimator)\u001b[0m\n\u001b[0;32m    439\u001b[0m                     \u001b[1;34m\"Reshape your data either using array.reshape(-1, 1) if \"\u001b[0m\u001b[1;33m\u001b[0m\u001b[0m\n\u001b[0;32m    440\u001b[0m                     \u001b[1;34m\"your data has a single feature or array.reshape(1, -1) \"\u001b[0m\u001b[1;33m\u001b[0m\u001b[0m\n\u001b[1;32m--> 441\u001b[1;33m                     \"if it contains a single sample.\".format(array))\n\u001b[0m\u001b[0;32m    442\u001b[0m             \u001b[0marray\u001b[0m \u001b[1;33m=\u001b[0m \u001b[0mnp\u001b[0m\u001b[1;33m.\u001b[0m\u001b[0matleast_2d\u001b[0m\u001b[1;33m(\u001b[0m\u001b[0marray\u001b[0m\u001b[1;33m)\u001b[0m\u001b[1;33m\u001b[0m\u001b[0m\n\u001b[0;32m    443\u001b[0m             \u001b[1;31m# To ensure that array flags are maintained\u001b[0m\u001b[1;33m\u001b[0m\u001b[1;33m\u001b[0m\u001b[0m\n",
      "\u001b[1;31mValueError\u001b[0m: Expected 2D array, got 1D array instead:\narray=[24.  21.6 34.7 33.4 36.2 28.7 22.9 27.1 16.5 18.9 15.  18.9 21.7 20.4\n 18.2 19.9 23.1 17.5 20.2 18.2 13.6 19.6 15.2 14.5 15.6 13.9 16.6 14.8\n 18.4 21.  12.7 14.5 13.2 13.1 13.5 18.9 20.  21.  24.7 30.8 34.9 26.6\n 25.3 24.7 21.2 19.3 20.  16.6 14.4 19.4 19.7 20.5 25.  23.4 18.9 35.4\n 24.7 31.6 23.3 19.6 18.7 16.  22.2 25.  33.  23.5 19.4 22.  17.4 20.9\n 24.2 21.7 22.8 23.4 24.1 21.4 20.  20.8 21.2 20.3 28.  23.9 24.8 22.9\n 23.9 26.6 22.5 22.2 23.6 28.7 22.6 22.  22.9 25.  20.6 28.4 21.4 38.7\n 43.8 33.2 27.5 26.5 18.6 19.3 20.1 19.5 19.5 20.4 19.8 19.4 21.7 22.8\n 18.8 18.7 18.5 18.3 21.2 19.2 20.4 19.3 22.  20.3 20.5 17.3 18.8 21.4\n 15.7 16.2 18.  14.3 19.2 19.6 23.  18.4 15.6 18.1 17.4 17.1 13.3 17.8\n 14.  14.4 13.4 15.6 11.8 13.8 15.6 14.6 17.8 15.4 21.5 19.6 15.3 19.4\n 17.  15.6 13.1 41.3 24.3 23.3 27.  50.  50.  50.  22.7 25.  50.  23.8\n 23.8 22.3 17.4 19.1 23.1 23.6 22.6 29.4 23.2 24.6 29.9 37.2 39.8 36.2\n 37.9 32.5 26.4 29.6 50.  32.  29.8 34.9 37.  30.5 36.4 31.1 29.1 50.\n 33.3 30.3 34.6 34.9 32.9 24.1 42.3 48.5 50.  22.6 24.4 22.5 24.4 20.\n 21.7 19.3 22.4 28.1 23.7 25.  23.3 28.7 21.5 23.  26.7 21.7 27.5 30.1\n 44.8 50.  37.6 31.6 46.7 31.5 24.3 31.7 41.7 48.3 29.  24.  25.1 31.5\n 23.7 23.3 22.  20.1 22.2 23.7 17.6 18.5 24.3 20.5 24.5 26.2 24.4 24.8\n 29.6 42.8 21.9 20.9 44.  50.  36.  30.1 33.8 43.1 48.8 31.  36.5 22.8\n 30.7 50.  43.5 20.7 21.1 25.2 24.4 35.2 32.4 32.  33.2 33.1 29.1 35.1\n 45.4 35.4 46.  50.  32.2 22.  20.1 23.2 22.3 24.8 28.5 37.3 27.9 23.9\n 21.7 28.6 27.1 20.3 22.5 29.  24.8 22.  26.4 33.1 36.1 28.4 33.4 28.2\n 22.8 20.3 16.1 22.1 19.4 21.6 23.8 16.2 17.8 19.8 23.1 21.  23.8 23.1\n 20.4 18.5 25.  24.6 23.  22.2 19.3 22.6 19.8 17.1 19.4 22.2 20.7 21.1\n 19.5 18.5 20.6 19.  18.7 32.7 16.5 23.9 31.2 17.5 17.2 23.1 24.5 26.6\n 22.9 24.1 18.6 30.1 18.2 20.6 17.8 21.7 22.7 22.6 25.  19.9 20.8 16.8\n 21.9 27.5 21.9 23.1 50.  50.  50.  50.  50.  13.8 13.8 15.  13.9 13.3\n 13.1 10.2 10.4 10.9 11.3 12.3  8.8  7.2 10.5  7.4 10.2 11.5 15.1 23.2\n  9.7 13.8 12.7 13.1 12.5  8.5  5.   6.3  5.6  7.2 12.1  8.3  8.5  5.\n 11.9 27.9 17.2 27.5 15.  17.2 17.9 16.3  7.   7.2  7.5 10.4  8.8  8.4\n 16.7 14.2 20.8 13.4 11.7  8.3 10.2 10.9 11.   9.5 14.5 14.1 16.1 14.3\n 11.7 13.4  9.6  8.7  8.4 12.8 10.5 17.1 18.4 15.4 10.8 11.8 14.9 12.6\n 14.1 13.  13.4 15.2 16.1 17.8 14.9 14.1 12.7 13.5 14.9 20.  16.4 17.7\n 19.5 20.2 21.4 19.9 19.  19.1 19.1 20.1 19.9 19.6 23.2 29.8 13.8 13.3\n 16.7 12.  14.6 21.4 23.  23.7 25.  21.8 20.6 21.2 19.1 20.6 15.2  7.\n  8.1 13.6 20.1 21.8 24.5 23.1 19.7 18.3 21.2 17.5 16.8 22.4 20.6 23.9\n 22.  11.9].\nReshape your data either using array.reshape(-1, 1) if your data has a single feature or array.reshape(1, -1) if it contains a single sample."
     ]
    }
   ],
   "source": [
    "from sklearn import preprocessing\n",
    "bin = preprocessing.Binarizer(boston.target.mean())\n",
    "new_target = bin.fit_transform(boston.target)\n"
   ]
  },
  {
   "cell_type": "code",
   "execution_count": 5,
   "metadata": {},
   "outputs": [
    {
     "name": "stdout",
     "output_type": "stream",
     "text": [
      "Help on function binarize in module sklearn.preprocessing.data:\n",
      "\n",
      "binarize(X, threshold=0.0, copy=True)\n",
      "    Boolean thresholding of array-like or scipy.sparse matrix\n",
      "    \n",
      "    Read more in the :ref:`User Guide <preprocessing_binarization>`.\n",
      "    \n",
      "    Parameters\n",
      "    ----------\n",
      "    X : {array-like, sparse matrix}, shape [n_samples, n_features]\n",
      "        The data to binarize, element by element.\n",
      "        scipy.sparse matrices should be in CSR or CSC format to avoid an\n",
      "        un-necessary copy.\n",
      "    \n",
      "    threshold : float, optional (0.0 by default)\n",
      "        Feature values below or equal to this are replaced by 0, above it by 1.\n",
      "        Threshold may not be less than 0 for operations on sparse matrices.\n",
      "    \n",
      "    copy : boolean, optional, default True\n",
      "        set to False to perform inplace binarization and avoid a copy\n",
      "        (if the input is already a numpy array or a scipy.sparse CSR / CSC\n",
      "        matrix and if axis is 1).\n",
      "    \n",
      "    See also\n",
      "    --------\n",
      "    Binarizer: Performs binarization using the ``Transformer`` API\n",
      "        (e.g. as part of a preprocessing :class:`sklearn.pipeline.Pipeline`).\n",
      "\n"
     ]
    }
   ],
   "source": [
    "help(preprocessing.binarize)"
   ]
  },
  {
   "cell_type": "code",
   "execution_count": 12,
   "metadata": {
    "collapsed": true
   },
   "outputs": [],
   "source": [
    "from scipy.sparse import coo\n",
    "spar = coo.coo_matrix(np.random.binomial(1, .25, 100))"
   ]
  },
  {
   "cell_type": "code",
   "execution_count": 16,
   "metadata": {},
   "outputs": [
    {
     "ename": "ValueError",
     "evalue": "Cannot binarize a sparse matrix with threshold < 0",
     "output_type": "error",
     "traceback": [
      "\u001b[1;31m---------------------------------------------------------------------------\u001b[0m",
      "\u001b[1;31mValueError\u001b[0m                                Traceback (most recent call last)",
      "\u001b[1;32m<ipython-input-16-f9cb1ddd1fc5>\u001b[0m in \u001b[0;36m<module>\u001b[1;34m()\u001b[0m\n\u001b[1;32m----> 1\u001b[1;33m \u001b[0mpreprocessing\u001b[0m\u001b[1;33m.\u001b[0m\u001b[0mbinarize\u001b[0m\u001b[1;33m(\u001b[0m\u001b[0mspar\u001b[0m\u001b[1;33m,\u001b[0m \u001b[0mthreshold\u001b[0m\u001b[1;33m=\u001b[0m\u001b[1;33m-\u001b[0m\u001b[1;36m1\u001b[0m\u001b[1;33m)\u001b[0m\u001b[1;33m\u001b[0m\u001b[0m\n\u001b[0m",
      "\u001b[1;32mD:\\Users\\13884\\lib\\site-packages\\sklearn\\preprocessing\\data.py\u001b[0m in \u001b[0;36mbinarize\u001b[1;34m(X, threshold, copy)\u001b[0m\n\u001b[0;32m   1561\u001b[0m     \u001b[1;32mif\u001b[0m \u001b[0msparse\u001b[0m\u001b[1;33m.\u001b[0m\u001b[0missparse\u001b[0m\u001b[1;33m(\u001b[0m\u001b[0mX\u001b[0m\u001b[1;33m)\u001b[0m\u001b[1;33m:\u001b[0m\u001b[1;33m\u001b[0m\u001b[0m\n\u001b[0;32m   1562\u001b[0m         \u001b[1;32mif\u001b[0m \u001b[0mthreshold\u001b[0m \u001b[1;33m<\u001b[0m \u001b[1;36m0\u001b[0m\u001b[1;33m:\u001b[0m\u001b[1;33m\u001b[0m\u001b[0m\n\u001b[1;32m-> 1563\u001b[1;33m             raise ValueError('Cannot binarize a sparse matrix with threshold '\n\u001b[0m\u001b[0;32m   1564\u001b[0m                              '< 0')\n\u001b[0;32m   1565\u001b[0m         \u001b[0mcond\u001b[0m \u001b[1;33m=\u001b[0m \u001b[0mX\u001b[0m\u001b[1;33m.\u001b[0m\u001b[0mdata\u001b[0m \u001b[1;33m>\u001b[0m \u001b[0mthreshold\u001b[0m\u001b[1;33m\u001b[0m\u001b[0m\n",
      "\u001b[1;31mValueError\u001b[0m: Cannot binarize a sparse matrix with threshold < 0"
     ]
    }
   ],
   "source": [
    "preprocessing.binarize(spar, threshold=-1)"
   ]
  },
  {
   "cell_type": "code",
   "execution_count": 20,
   "metadata": {
    "scrolled": true
   },
   "outputs": [
    {
     "name": "stdout",
     "output_type": "stream",
     "text": [
      "Help on module scipy.sparse.coo in scipy.sparse:\n",
      "\n",
      "NAME\n",
      "    scipy.sparse.coo - A sparse matrix in COOrdinate or 'triplet' format\n",
      "\n",
      "CLASSES\n",
      "    scipy.sparse.data._data_matrix(scipy.sparse.base.spmatrix)\n",
      "        coo_matrix(scipy.sparse.data._data_matrix, scipy.sparse.data._minmax_mixin)\n",
      "    scipy.sparse.data._minmax_mixin(builtins.object)\n",
      "        coo_matrix(scipy.sparse.data._data_matrix, scipy.sparse.data._minmax_mixin)\n",
      "    \n",
      "    class coo_matrix(scipy.sparse.data._data_matrix, scipy.sparse.data._minmax_mixin)\n",
      "     |  A sparse matrix in COOrdinate format.\n",
      "     |  \n",
      "     |  Also known as the 'ijv' or 'triplet' format.\n",
      "     |  \n",
      "     |  This can be instantiated in several ways:\n",
      "     |      coo_matrix(D)\n",
      "     |          with a dense matrix D\n",
      "     |  \n",
      "     |      coo_matrix(S)\n",
      "     |          with another sparse matrix S (equivalent to S.tocoo())\n",
      "     |  \n",
      "     |      coo_matrix((M, N), [dtype])\n",
      "     |          to construct an empty matrix with shape (M, N)\n",
      "     |          dtype is optional, defaulting to dtype='d'.\n",
      "     |  \n",
      "     |      coo_matrix((data, (i, j)), [shape=(M, N)])\n",
      "     |          to construct from three arrays:\n",
      "     |              1. data[:]   the entries of the matrix, in any order\n",
      "     |              2. i[:]      the row indices of the matrix entries\n",
      "     |              3. j[:]      the column indices of the matrix entries\n",
      "     |  \n",
      "     |          Where ``A[i[k], j[k]] = data[k]``.  When shape is not\n",
      "     |          specified, it is inferred from the index arrays\n",
      "     |  \n",
      "     |  Attributes\n",
      "     |  ----------\n",
      "     |  dtype : dtype\n",
      "     |      Data type of the matrix\n",
      "     |  shape : 2-tuple\n",
      "     |      Shape of the matrix\n",
      "     |  ndim : int\n",
      "     |      Number of dimensions (this is always 2)\n",
      "     |  nnz\n",
      "     |      Number of nonzero elements\n",
      "     |  data\n",
      "     |      COO format data array of the matrix\n",
      "     |  row\n",
      "     |      COO format row index array of the matrix\n",
      "     |  col\n",
      "     |      COO format column index array of the matrix\n",
      "     |  \n",
      "     |  Notes\n",
      "     |  -----\n",
      "     |  \n",
      "     |  Sparse matrices can be used in arithmetic operations: they support\n",
      "     |  addition, subtraction, multiplication, division, and matrix power.\n",
      "     |  \n",
      "     |  Advantages of the COO format\n",
      "     |      - facilitates fast conversion among sparse formats\n",
      "     |      - permits duplicate entries (see example)\n",
      "     |      - very fast conversion to and from CSR/CSC formats\n",
      "     |  \n",
      "     |  Disadvantages of the COO format\n",
      "     |      - does not directly support:\n",
      "     |          + arithmetic operations\n",
      "     |          + slicing\n",
      "     |  \n",
      "     |  Intended Usage\n",
      "     |      - COO is a fast format for constructing sparse matrices\n",
      "     |      - Once a matrix has been constructed, convert to CSR or\n",
      "     |        CSC format for fast arithmetic and matrix vector operations\n",
      "     |      - By default when converting to CSR or CSC format, duplicate (i,j)\n",
      "     |        entries will be summed together.  This facilitates efficient\n",
      "     |        construction of finite element matrices and the like. (see example)\n",
      "     |  \n",
      "     |  Examples\n",
      "     |  --------\n",
      "     |  >>> from scipy.sparse import coo_matrix\n",
      "     |  >>> coo_matrix((3, 4), dtype=np.int8).toarray()\n",
      "     |  array([[0, 0, 0, 0],\n",
      "     |         [0, 0, 0, 0],\n",
      "     |         [0, 0, 0, 0]], dtype=int8)\n",
      "     |  \n",
      "     |  >>> row  = np.array([0, 3, 1, 0])\n",
      "     |  >>> col  = np.array([0, 3, 1, 2])\n",
      "     |  >>> data = np.array([4, 5, 7, 9])\n",
      "     |  >>> coo_matrix((data, (row, col)), shape=(4, 4)).toarray()\n",
      "     |  array([[4, 0, 9, 0],\n",
      "     |         [0, 7, 0, 0],\n",
      "     |         [0, 0, 0, 0],\n",
      "     |         [0, 0, 0, 5]])\n",
      "     |  \n",
      "     |  >>> # example with duplicates\n",
      "     |  >>> row  = np.array([0, 0, 1, 3, 1, 0, 0])\n",
      "     |  >>> col  = np.array([0, 2, 1, 3, 1, 0, 0])\n",
      "     |  >>> data = np.array([1, 1, 1, 1, 1, 1, 1])\n",
      "     |  >>> coo_matrix((data, (row, col)), shape=(4, 4)).toarray()\n",
      "     |  array([[3, 0, 1, 0],\n",
      "     |         [0, 2, 0, 0],\n",
      "     |         [0, 0, 0, 0],\n",
      "     |         [0, 0, 0, 1]])\n",
      "     |  \n",
      "     |  Method resolution order:\n",
      "     |      coo_matrix\n",
      "     |      scipy.sparse.data._data_matrix\n",
      "     |      scipy.sparse.base.spmatrix\n",
      "     |      scipy.sparse.data._minmax_mixin\n",
      "     |      builtins.object\n",
      "     |  \n",
      "     |  Methods defined here:\n",
      "     |  \n",
      "     |  __init__(self, arg1, shape=None, dtype=None, copy=False)\n",
      "     |      Initialize self.  See help(type(self)) for accurate signature.\n",
      "     |  \n",
      "     |  diagonal(self)\n",
      "     |      Returns the main diagonal of the matrix\n",
      "     |  \n",
      "     |  eliminate_zeros(self)\n",
      "     |      Remove zero entries from the matrix\n",
      "     |      \n",
      "     |      This is an *in place* operation\n",
      "     |  \n",
      "     |  getnnz(self, axis=None)\n",
      "     |      Number of stored values, including explicit zeros.\n",
      "     |      \n",
      "     |      Parameters\n",
      "     |      ----------\n",
      "     |      axis : None, 0, or 1\n",
      "     |          Select between the number of values across the whole matrix, in\n",
      "     |          each column, or in each row.\n",
      "     |      \n",
      "     |      See also\n",
      "     |      --------\n",
      "     |      count_nonzero : Number of non-zero entries\n",
      "     |  \n",
      "     |  sum_duplicates(self)\n",
      "     |      Eliminate duplicate matrix entries by adding them together\n",
      "     |      \n",
      "     |      This is an *in place* operation\n",
      "     |  \n",
      "     |  toarray(self, order=None, out=None)\n",
      "     |      See the docstring for `spmatrix.toarray`.\n",
      "     |  \n",
      "     |  tocoo(self, copy=False)\n",
      "     |      Convert this matrix to COOrdinate format.\n",
      "     |      \n",
      "     |      With copy=False, the data/indices may be shared between this matrix and\n",
      "     |      the resultant coo_matrix.\n",
      "     |  \n",
      "     |  tocsc(self, copy=False)\n",
      "     |      Convert this matrix to Compressed Sparse Column format\n",
      "     |      \n",
      "     |      Duplicate entries will be summed together.\n",
      "     |      \n",
      "     |      Examples\n",
      "     |      --------\n",
      "     |      >>> from numpy import array\n",
      "     |      >>> from scipy.sparse import coo_matrix\n",
      "     |      >>> row  = array([0, 0, 1, 3, 1, 0, 0])\n",
      "     |      >>> col  = array([0, 2, 1, 3, 1, 0, 0])\n",
      "     |      >>> data = array([1, 1, 1, 1, 1, 1, 1])\n",
      "     |      >>> A = coo_matrix((data, (row, col)), shape=(4, 4)).tocsc()\n",
      "     |      >>> A.toarray()\n",
      "     |      array([[3, 0, 1, 0],\n",
      "     |             [0, 2, 0, 0],\n",
      "     |             [0, 0, 0, 0],\n",
      "     |             [0, 0, 0, 1]])\n",
      "     |  \n",
      "     |  tocsr(self, copy=False)\n",
      "     |      Convert this matrix to Compressed Sparse Row format\n",
      "     |      \n",
      "     |      Duplicate entries will be summed together.\n",
      "     |      \n",
      "     |      Examples\n",
      "     |      --------\n",
      "     |      >>> from numpy import array\n",
      "     |      >>> from scipy.sparse import coo_matrix\n",
      "     |      >>> row  = array([0, 0, 1, 3, 1, 0, 0])\n",
      "     |      >>> col  = array([0, 2, 1, 3, 1, 0, 0])\n",
      "     |      >>> data = array([1, 1, 1, 1, 1, 1, 1])\n",
      "     |      >>> A = coo_matrix((data, (row, col)), shape=(4, 4)).tocsr()\n",
      "     |      >>> A.toarray()\n",
      "     |      array([[3, 0, 1, 0],\n",
      "     |             [0, 2, 0, 0],\n",
      "     |             [0, 0, 0, 0],\n",
      "     |             [0, 0, 0, 1]])\n",
      "     |  \n",
      "     |  todia(self, copy=False)\n",
      "     |      Convert this matrix to sparse DIAgonal format.\n",
      "     |      \n",
      "     |      With copy=False, the data/indices may be shared between this matrix and\n",
      "     |      the resultant dia_matrix.\n",
      "     |  \n",
      "     |  todok(self, copy=False)\n",
      "     |      Convert this matrix to Dictionary Of Keys format.\n",
      "     |      \n",
      "     |      With copy=False, the data/indices may be shared between this matrix and\n",
      "     |      the resultant dok_matrix.\n",
      "     |  \n",
      "     |  transpose(self, axes=None, copy=False)\n",
      "     |      Reverses the dimensions of the sparse matrix.\n",
      "     |      \n",
      "     |      Parameters\n",
      "     |      ----------\n",
      "     |      axes : None, optional\n",
      "     |          This argument is in the signature *solely* for NumPy\n",
      "     |          compatibility reasons. Do not pass in anything except\n",
      "     |          for the default value.\n",
      "     |      copy : bool, optional\n",
      "     |          Indicates whether or not attributes of `self` should be\n",
      "     |          copied whenever possible. The degree to which attributes\n",
      "     |          are copied varies depending on the type of sparse matrix\n",
      "     |          being used.\n",
      "     |      \n",
      "     |      Returns\n",
      "     |      -------\n",
      "     |      p : `self` with the dimensions reversed.\n",
      "     |      \n",
      "     |      See Also\n",
      "     |      --------\n",
      "     |      np.matrix.transpose : NumPy's implementation of 'transpose'\n",
      "     |                            for matrices\n",
      "     |  \n",
      "     |  ----------------------------------------------------------------------\n",
      "     |  Data and other attributes defined here:\n",
      "     |  \n",
      "     |  format = 'coo'\n",
      "     |  \n",
      "     |  ----------------------------------------------------------------------\n",
      "     |  Methods inherited from scipy.sparse.data._data_matrix:\n",
      "     |  \n",
      "     |  __abs__(self)\n",
      "     |  \n",
      "     |  __imul__(self, other)\n",
      "     |  \n",
      "     |  __itruediv__(self, other)\n",
      "     |  \n",
      "     |  __neg__(self)\n",
      "     |  \n",
      "     |  arcsin(self)\n",
      "     |      Element-wise arcsin.\n",
      "     |      \n",
      "     |      See numpy.arcsin for more information.\n",
      "     |  \n",
      "     |  arcsinh(self)\n",
      "     |      Element-wise arcsinh.\n",
      "     |      \n",
      "     |      See numpy.arcsinh for more information.\n",
      "     |  \n",
      "     |  arctan(self)\n",
      "     |      Element-wise arctan.\n",
      "     |      \n",
      "     |      See numpy.arctan for more information.\n",
      "     |  \n",
      "     |  arctanh(self)\n",
      "     |      Element-wise arctanh.\n",
      "     |      \n",
      "     |      See numpy.arctanh for more information.\n",
      "     |  \n",
      "     |  astype(self, t)\n",
      "     |      Cast the matrix elements to a specified type.\n",
      "     |      \n",
      "     |      The data will be copied.\n",
      "     |      \n",
      "     |      Parameters\n",
      "     |      ----------\n",
      "     |      t : string or numpy dtype\n",
      "     |          Typecode or data-type to which to cast the data.\n",
      "     |  \n",
      "     |  ceil(self)\n",
      "     |      Element-wise ceil.\n",
      "     |      \n",
      "     |      See numpy.ceil for more information.\n",
      "     |  \n",
      "     |  conj(self)\n",
      "     |      Element-wise complex conjugation.\n",
      "     |      \n",
      "     |      If the matrix is of non-complex data type, then this method does\n",
      "     |      nothing and the data is not copied.\n",
      "     |  \n",
      "     |  copy(self)\n",
      "     |      Returns a copy of this matrix.\n",
      "     |      \n",
      "     |      No data/indices will be shared between the returned value and current\n",
      "     |      matrix.\n",
      "     |  \n",
      "     |  count_nonzero(self)\n",
      "     |      Number of non-zero entries, equivalent to\n",
      "     |      \n",
      "     |      np.count_nonzero(a.toarray())\n",
      "     |      \n",
      "     |      Unlike getnnz() and the nnz property, which return the number of stored\n",
      "     |      entries (the length of the data attribute), this method counts the\n",
      "     |      actual number of non-zero entries in data.\n",
      "     |  \n",
      "     |  deg2rad(self)\n",
      "     |      Element-wise deg2rad.\n",
      "     |      \n",
      "     |      See numpy.deg2rad for more information.\n",
      "     |  \n",
      "     |  expm1(self)\n",
      "     |      Element-wise expm1.\n",
      "     |      \n",
      "     |      See numpy.expm1 for more information.\n",
      "     |  \n",
      "     |  floor(self)\n",
      "     |      Element-wise floor.\n",
      "     |      \n",
      "     |      See numpy.floor for more information.\n",
      "     |  \n",
      "     |  log1p(self)\n",
      "     |      Element-wise log1p.\n",
      "     |      \n",
      "     |      See numpy.log1p for more information.\n",
      "     |  \n",
      "     |  power(self, n, dtype=None)\n",
      "     |      This function performs element-wise power.\n",
      "     |      \n",
      "     |      Parameters\n",
      "     |      ----------\n",
      "     |      n : n is a scalar\n",
      "     |      \n",
      "     |      dtype : If dtype is not specified, the current dtype will be preserved.\n",
      "     |  \n",
      "     |  rad2deg(self)\n",
      "     |      Element-wise rad2deg.\n",
      "     |      \n",
      "     |      See numpy.rad2deg for more information.\n",
      "     |  \n",
      "     |  rint(self)\n",
      "     |      Element-wise rint.\n",
      "     |      \n",
      "     |      See numpy.rint for more information.\n",
      "     |  \n",
      "     |  sign(self)\n",
      "     |      Element-wise sign.\n",
      "     |      \n",
      "     |      See numpy.sign for more information.\n",
      "     |  \n",
      "     |  sin(self)\n",
      "     |      Element-wise sin.\n",
      "     |      \n",
      "     |      See numpy.sin for more information.\n",
      "     |  \n",
      "     |  sinh(self)\n",
      "     |      Element-wise sinh.\n",
      "     |      \n",
      "     |      See numpy.sinh for more information.\n",
      "     |  \n",
      "     |  sqrt(self)\n",
      "     |      Element-wise sqrt.\n",
      "     |      \n",
      "     |      See numpy.sqrt for more information.\n",
      "     |  \n",
      "     |  tan(self)\n",
      "     |      Element-wise tan.\n",
      "     |      \n",
      "     |      See numpy.tan for more information.\n",
      "     |  \n",
      "     |  tanh(self)\n",
      "     |      Element-wise tanh.\n",
      "     |      \n",
      "     |      See numpy.tanh for more information.\n",
      "     |  \n",
      "     |  trunc(self)\n",
      "     |      Element-wise trunc.\n",
      "     |      \n",
      "     |      See numpy.trunc for more information.\n",
      "     |  \n",
      "     |  ----------------------------------------------------------------------\n",
      "     |  Data descriptors inherited from scipy.sparse.data._data_matrix:\n",
      "     |  \n",
      "     |  dtype\n",
      "     |  \n",
      "     |  ----------------------------------------------------------------------\n",
      "     |  Methods inherited from scipy.sparse.base.spmatrix:\n",
      "     |  \n",
      "     |  __add__(self, other)\n",
      "     |  \n",
      "     |  __bool__(self)\n",
      "     |  \n",
      "     |  __div__(self, other)\n",
      "     |  \n",
      "     |  __eq__(self, other)\n",
      "     |      Return self==value.\n",
      "     |  \n",
      "     |  __ge__(self, other)\n",
      "     |      Return self>=value.\n",
      "     |  \n",
      "     |  __getattr__(self, attr)\n",
      "     |  \n",
      "     |  __gt__(self, other)\n",
      "     |      Return self>value.\n",
      "     |  \n",
      "     |  __iadd__(self, other)\n",
      "     |  \n",
      "     |  __idiv__(self, other)\n",
      "     |  \n",
      "     |  __isub__(self, other)\n",
      "     |  \n",
      "     |  __iter__(self)\n",
      "     |  \n",
      "     |  __le__(self, other)\n",
      "     |      Return self<=value.\n",
      "     |  \n",
      "     |  __len__(self)\n",
      "     |      # What should len(sparse) return? For consistency with dense matrices,\n",
      "     |      # perhaps it should be the number of rows?  But for some uses the number of\n",
      "     |      # non-zeros is more important.  For now, raise an exception!\n",
      "     |  \n",
      "     |  __lt__(self, other)\n",
      "     |      Return self<value.\n",
      "     |  \n",
      "     |  __matmul__(self, other)\n",
      "     |  \n",
      "     |  __mul__(self, other)\n",
      "     |      interpret other and call one of the following\n",
      "     |      \n",
      "     |      self._mul_scalar()\n",
      "     |      self._mul_vector()\n",
      "     |      self._mul_multivector()\n",
      "     |      self._mul_sparse_matrix()\n",
      "     |  \n",
      "     |  __ne__(self, other)\n",
      "     |      Return self!=value.\n",
      "     |  \n",
      "     |  __nonzero__ = __bool__(self)\n",
      "     |  \n",
      "     |  __numpy_ufunc__(self, func, method, pos, inputs, **kwargs)\n",
      "     |      Method for compatibility with NumPy's ufuncs and dot\n",
      "     |      functions.\n",
      "     |  \n",
      "     |  __pow__(self, other)\n",
      "     |  \n",
      "     |  __radd__(self, other)\n",
      "     |  \n",
      "     |  __rdiv__(self, other)\n",
      "     |  \n",
      "     |  __repr__(self)\n",
      "     |      Return repr(self).\n",
      "     |  \n",
      "     |  __rmatmul__(self, other)\n",
      "     |  \n",
      "     |  __rmul__(self, other)\n",
      "     |  \n",
      "     |  __rsub__(self, other)\n",
      "     |  \n",
      "     |  __rtruediv__(self, other)\n",
      "     |  \n",
      "     |  __str__(self)\n",
      "     |      Return str(self).\n",
      "     |  \n",
      "     |  __sub__(self, other)\n",
      "     |  \n",
      "     |  __truediv__(self, other)\n",
      "     |  \n",
      "     |  asformat(self, format)\n",
      "     |      Return this matrix in a given sparse format\n",
      "     |      \n",
      "     |      Parameters\n",
      "     |      ----------\n",
      "     |      format : {string, None}\n",
      "     |          desired sparse matrix format\n",
      "     |              - None for no format conversion\n",
      "     |              - \"csr\" for csr_matrix format\n",
      "     |              - \"csc\" for csc_matrix format\n",
      "     |              - \"lil\" for lil_matrix format\n",
      "     |              - \"dok\" for dok_matrix format and so on\n",
      "     |  \n",
      "     |  asfptype(self)\n",
      "     |      Upcast matrix to a floating point format (if necessary)\n",
      "     |  \n",
      "     |  conjugate(self)\n",
      "     |      Element-wise complex conjugation.\n",
      "     |      \n",
      "     |      If the matrix is of non-complex data type, then this method does\n",
      "     |      nothing and the data is not copied.\n",
      "     |  \n",
      "     |  dot(self, other)\n",
      "     |      Ordinary dot product\n",
      "     |      \n",
      "     |      Examples\n",
      "     |      --------\n",
      "     |      >>> import numpy as np\n",
      "     |      >>> from scipy.sparse import csr_matrix\n",
      "     |      >>> A = csr_matrix([[1, 2, 0], [0, 0, 3], [4, 0, 5]])\n",
      "     |      >>> v = np.array([1, 0, -1])\n",
      "     |      >>> A.dot(v)\n",
      "     |      array([ 1, -3, -1], dtype=int64)\n",
      "     |  \n",
      "     |  getH(self)\n",
      "     |      Return the Hermitian transpose of this matrix.\n",
      "     |      \n",
      "     |      See Also\n",
      "     |      --------\n",
      "     |      np.matrix.getH : NumPy's implementation of `getH` for matrices\n",
      "     |  \n",
      "     |  get_shape(self)\n",
      "     |      Get shape of a matrix.\n",
      "     |  \n",
      "     |  getcol(self, j)\n",
      "     |      Returns a copy of column j of the matrix, as an (m x 1) sparse\n",
      "     |      matrix (column vector).\n",
      "     |  \n",
      "     |  getformat(self)\n",
      "     |      Format of a matrix representation as a string.\n",
      "     |  \n",
      "     |  getmaxprint(self)\n",
      "     |      Maximum number of elements to display when printed.\n",
      "     |  \n",
      "     |  getrow(self, i)\n",
      "     |      Returns a copy of row i of the matrix, as a (1 x n) sparse\n",
      "     |      matrix (row vector).\n",
      "     |  \n",
      "     |  maximum(self, other)\n",
      "     |      Element-wise maximum between this and another matrix.\n",
      "     |  \n",
      "     |  mean(self, axis=None, dtype=None, out=None)\n",
      "     |      Compute the arithmetic mean along the specified axis.\n",
      "     |      \n",
      "     |      Returns the average of the matrix elements. The average is taken\n",
      "     |      over all elements in the matrix by default, otherwise over the\n",
      "     |      specified axis. `float64` intermediate and return values are used\n",
      "     |      for integer inputs.\n",
      "     |      \n",
      "     |      Parameters\n",
      "     |      ----------\n",
      "     |      axis : {-2, -1, 0, 1, None} optional\n",
      "     |          Axis along which the mean is computed. The default is to compute\n",
      "     |          the mean of all elements in the matrix (i.e. `axis` = `None`).\n",
      "     |      dtype : data-type, optional\n",
      "     |          Type to use in computing the mean. For integer inputs, the default\n",
      "     |          is `float64`; for floating point inputs, it is the same as the\n",
      "     |          input dtype.\n",
      "     |      \n",
      "     |          .. versionadded: 0.18.0\n",
      "     |      \n",
      "     |      out : np.matrix, optional\n",
      "     |          Alternative output matrix in which to place the result. It must\n",
      "     |          have the same shape as the expected output, but the type of the\n",
      "     |          output values will be cast if necessary.\n",
      "     |      \n",
      "     |          .. versionadded: 0.18.0\n",
      "     |      \n",
      "     |      Returns\n",
      "     |      -------\n",
      "     |      m : np.matrix\n",
      "     |      \n",
      "     |      See Also\n",
      "     |      --------\n",
      "     |      np.matrix.mean : NumPy's implementation of 'mean' for matrices\n",
      "     |  \n",
      "     |  minimum(self, other)\n",
      "     |      Element-wise minimum between this and another matrix.\n",
      "     |  \n",
      "     |  multiply(self, other)\n",
      "     |      Point-wise multiplication by another matrix\n",
      "     |  \n",
      "     |  nonzero(self)\n",
      "     |      nonzero indices\n",
      "     |      \n",
      "     |      Returns a tuple of arrays (row,col) containing the indices\n",
      "     |      of the non-zero elements of the matrix.\n",
      "     |      \n",
      "     |      Examples\n",
      "     |      --------\n",
      "     |      >>> from scipy.sparse import csr_matrix\n",
      "     |      >>> A = csr_matrix([[1,2,0],[0,0,3],[4,0,5]])\n",
      "     |      >>> A.nonzero()\n",
      "     |      (array([0, 0, 1, 2, 2]), array([0, 1, 2, 0, 2]))\n",
      "     |  \n",
      "     |  reshape(self, shape, order='C')\n",
      "     |      Gives a new shape to a sparse matrix without changing its data.\n",
      "     |      \n",
      "     |      Parameters\n",
      "     |      ----------\n",
      "     |      shape : length-2 tuple of ints\n",
      "     |          The new shape should be compatible with the original shape.\n",
      "     |      order : 'C', optional\n",
      "     |          This argument is in the signature *solely* for NumPy\n",
      "     |          compatibility reasons. Do not pass in anything except\n",
      "     |          for the default value, as this argument is not used.\n",
      "     |      \n",
      "     |      Returns\n",
      "     |      -------\n",
      "     |      reshaped_matrix : `self` with the new dimensions of `shape`\n",
      "     |      \n",
      "     |      See Also\n",
      "     |      --------\n",
      "     |      np.matrix.reshape : NumPy's implementation of 'reshape' for matrices\n",
      "     |  \n",
      "     |  set_shape(self, shape)\n",
      "     |      See `reshape`.\n",
      "     |  \n",
      "     |  setdiag(self, values, k=0)\n",
      "     |      Set diagonal or off-diagonal elements of the array.\n",
      "     |      \n",
      "     |      Parameters\n",
      "     |      ----------\n",
      "     |      values : array_like\n",
      "     |          New values of the diagonal elements.\n",
      "     |      \n",
      "     |          Values may have any length.  If the diagonal is longer than values,\n",
      "     |          then the remaining diagonal entries will not be set.  If values if\n",
      "     |          longer than the diagonal, then the remaining values are ignored.\n",
      "     |      \n",
      "     |          If a scalar value is given, all of the diagonal is set to it.\n",
      "     |      \n",
      "     |      k : int, optional\n",
      "     |          Which off-diagonal to set, corresponding to elements a[i,i+k].\n",
      "     |          Default: 0 (the main diagonal).\n",
      "     |  \n",
      "     |  sum(self, axis=None, dtype=None, out=None)\n",
      "     |      Sum the matrix elements over a given axis.\n",
      "     |      \n",
      "     |      Parameters\n",
      "     |      ----------\n",
      "     |      axis : {-2, -1, 0, 1, None} optional\n",
      "     |          Axis along which the sum is computed. The default is to\n",
      "     |          compute the sum of all the matrix elements, returning a scalar\n",
      "     |          (i.e. `axis` = `None`).\n",
      "     |      dtype : dtype, optional\n",
      "     |          The type of the returned matrix and of the accumulator in which\n",
      "     |          the elements are summed.  The dtype of `a` is used by default\n",
      "     |          unless `a` has an integer dtype of less precision than the default\n",
      "     |          platform integer.  In that case, if `a` is signed then the platform\n",
      "     |          integer is used while if `a` is unsigned then an unsigned integer\n",
      "     |          of the same precision as the platform integer is used.\n",
      "     |      \n",
      "     |          .. versionadded: 0.18.0\n",
      "     |      \n",
      "     |      out : np.matrix, optional\n",
      "     |          Alternative output matrix in which to place the result. It must\n",
      "     |          have the same shape as the expected output, but the type of the\n",
      "     |          output values will be cast if necessary.\n",
      "     |      \n",
      "     |          .. versionadded: 0.18.0\n",
      "     |      \n",
      "     |      Returns\n",
      "     |      -------\n",
      "     |      sum_along_axis : np.matrix\n",
      "     |          A matrix with the same shape as `self`, with the specified\n",
      "     |          axis removed.\n",
      "     |      \n",
      "     |      See Also\n",
      "     |      --------\n",
      "     |      np.matrix.sum : NumPy's implementation of 'sum' for matrices\n",
      "     |  \n",
      "     |  tobsr(self, blocksize=None, copy=False)\n",
      "     |      Convert this matrix to Block Sparse Row format.\n",
      "     |      \n",
      "     |      With copy=False, the data/indices may be shared between this matrix and\n",
      "     |      the resultant bsr_matrix.\n",
      "     |      \n",
      "     |      When blocksize=(R, C) is provided, it will be used for construction of\n",
      "     |      the bsr_matrix.\n",
      "     |  \n",
      "     |  todense(self, order=None, out=None)\n",
      "     |      Return a dense matrix representation of this matrix.\n",
      "     |      \n",
      "     |      Parameters\n",
      "     |      ----------\n",
      "     |      order : {'C', 'F'}, optional\n",
      "     |          Whether to store multi-dimensional data in C (row-major)\n",
      "     |          or Fortran (column-major) order in memory. The default\n",
      "     |          is 'None', indicating the NumPy default of C-ordered.\n",
      "     |          Cannot be specified in conjunction with the `out`\n",
      "     |          argument.\n",
      "     |      \n",
      "     |      out : ndarray, 2-dimensional, optional\n",
      "     |          If specified, uses this array (or `numpy.matrix`) as the\n",
      "     |          output buffer instead of allocating a new array to\n",
      "     |          return. The provided array must have the same shape and\n",
      "     |          dtype as the sparse matrix on which you are calling the\n",
      "     |          method.\n",
      "     |      \n",
      "     |      Returns\n",
      "     |      -------\n",
      "     |      arr : numpy.matrix, 2-dimensional\n",
      "     |          A NumPy matrix object with the same shape and containing\n",
      "     |          the same data represented by the sparse matrix, with the\n",
      "     |          requested memory order. If `out` was passed and was an\n",
      "     |          array (rather than a `numpy.matrix`), it will be filled\n",
      "     |          with the appropriate values and returned wrapped in a\n",
      "     |          `numpy.matrix` object that shares the same memory.\n",
      "     |  \n",
      "     |  tolil(self, copy=False)\n",
      "     |      Convert this matrix to LInked List format.\n",
      "     |      \n",
      "     |      With copy=False, the data/indices may be shared between this matrix and\n",
      "     |      the resultant lil_matrix.\n",
      "     |  \n",
      "     |  ----------------------------------------------------------------------\n",
      "     |  Data descriptors inherited from scipy.sparse.base.spmatrix:\n",
      "     |  \n",
      "     |  __dict__\n",
      "     |      dictionary for instance variables (if defined)\n",
      "     |  \n",
      "     |  __weakref__\n",
      "     |      list of weak references to the object (if defined)\n",
      "     |  \n",
      "     |  nnz\n",
      "     |      Number of stored values, including explicit zeros.\n",
      "     |      \n",
      "     |      See also\n",
      "     |      --------\n",
      "     |      count_nonzero : Number of non-zero entries\n",
      "     |  \n",
      "     |  shape\n",
      "     |      Get shape of a matrix.\n",
      "     |  \n",
      "     |  ----------------------------------------------------------------------\n",
      "     |  Data and other attributes inherited from scipy.sparse.base.spmatrix:\n",
      "     |  \n",
      "     |  __array_priority__ = 10.1\n",
      "     |  \n",
      "     |  __hash__ = None\n",
      "     |  \n",
      "     |  ndim = 2\n",
      "     |  \n",
      "     |  ----------------------------------------------------------------------\n",
      "     |  Methods inherited from scipy.sparse.data._minmax_mixin:\n",
      "     |  \n",
      "     |  argmax(self, axis=None, out=None)\n",
      "     |      Return indices of minimum elements along an axis.\n",
      "     |      \n",
      "     |      Implicit zero elements are also taken into account. If there are\n",
      "     |      several maximum values, the index of the first occurrence is returned.\n",
      "     |      \n",
      "     |      Parameters\n",
      "     |      ----------\n",
      "     |      axis : {-2, -1, 0, 1, None}, optional\n",
      "     |          Axis along which the argmax is computed. If None (default), index\n",
      "     |          of the maximum element in the flatten data is returned.\n",
      "     |      out : None, optional\n",
      "     |          This argument is in the signature *solely* for NumPy\n",
      "     |          compatibility reasons. Do not pass in anything except for\n",
      "     |          the default value, as this argument is not used.\n",
      "     |      \n",
      "     |      Returns\n",
      "     |      -------\n",
      "     |      ind : np.matrix or int\n",
      "     |          Indices of maximum elements. If matrix, its size along `axis` is 1.\n",
      "     |  \n",
      "     |  argmin(self, axis=None, out=None)\n",
      "     |      Return indices of minimum elements along an axis.\n",
      "     |      \n",
      "     |      Implicit zero elements are also taken into account. If there are\n",
      "     |      several minimum values, the index of the first occurrence is returned.\n",
      "     |      \n",
      "     |      Parameters\n",
      "     |      ----------\n",
      "     |      axis : {-2, -1, 0, 1, None}, optional\n",
      "     |          Axis along which the argmin is computed. If None (default), index\n",
      "     |          of the minimum element in the flatten data is returned.\n",
      "     |      out : None, optional\n",
      "     |          This argument is in the signature *solely* for NumPy\n",
      "     |          compatibility reasons. Do not pass in anything except for\n",
      "     |          the default value, as this argument is not used.\n",
      "     |      \n",
      "     |      Returns\n",
      "     |      -------\n",
      "     |       ind : np.matrix or int\n",
      "     |          Indices of minimum elements. If matrix, its size along `axis` is 1.\n",
      "     |  \n",
      "     |  max(self, axis=None, out=None)\n",
      "     |      Return the maximum of the matrix or maximum along an axis.\n",
      "     |      This takes all elements into account, not just the non-zero ones.\n",
      "     |      \n",
      "     |      Parameters\n",
      "     |      ----------\n",
      "     |      axis : {-2, -1, 0, 1, None} optional\n",
      "     |          Axis along which the sum is computed. The default is to\n",
      "     |          compute the maximum over all the matrix elements, returning\n",
      "     |          a scalar (i.e. `axis` = `None`).\n",
      "     |      \n",
      "     |      out : None, optional\n",
      "     |          This argument is in the signature *solely* for NumPy\n",
      "     |          compatibility reasons. Do not pass in anything except\n",
      "     |          for the default value, as this argument is not used.\n",
      "     |      \n",
      "     |      Returns\n",
      "     |      -------\n",
      "     |      amax : coo_matrix or scalar\n",
      "     |          Maximum of `a`. If `axis` is None, the result is a scalar value.\n",
      "     |          If `axis` is given, the result is a sparse.coo_matrix of dimension\n",
      "     |          ``a.ndim - 1``.\n",
      "     |      \n",
      "     |      See Also\n",
      "     |      --------\n",
      "     |      min : The minimum value of a sparse matrix along a given axis.\n",
      "     |      np.matrix.max : NumPy's implementation of 'max' for matrices\n",
      "     |  \n",
      "     |  min(self, axis=None, out=None)\n",
      "     |      Return the minimum of the matrix or maximum along an axis.\n",
      "     |      This takes all elements into account, not just the non-zero ones.\n",
      "     |      \n",
      "     |      Parameters\n",
      "     |      ----------\n",
      "     |      axis : {-2, -1, 0, 1, None} optional\n",
      "     |          Axis along which the sum is computed. The default is to\n",
      "     |          compute the minimum over all the matrix elements, returning\n",
      "     |          a scalar (i.e. `axis` = `None`).\n",
      "     |      \n",
      "     |      out : None, optional\n",
      "     |          This argument is in the signature *solely* for NumPy\n",
      "     |          compatibility reasons. Do not pass in anything except for\n",
      "     |          the default value, as this argument is not used.\n",
      "     |      \n",
      "     |      Returns\n",
      "     |      -------\n",
      "     |      amin : coo_matrix or scalar\n",
      "     |          Minimum of `a`. If `axis` is None, the result is a scalar value.\n",
      "     |          If `axis` is given, the result is a sparse.coo_matrix of dimension\n",
      "     |          ``a.ndim - 1``.\n",
      "     |      \n",
      "     |      See Also\n",
      "     |      --------\n",
      "     |      max : The maximum value of a sparse matrix along a given axis.\n",
      "     |      np.matrix.min : NumPy's implementation of 'min' for matrices\n",
      "\n",
      "FUNCTIONS\n",
      "    isspmatrix_coo(x)\n",
      "\n",
      "DATA\n",
      "    __all__ = ['coo_matrix', 'isspmatrix_coo']\n",
      "    __docformat__ = 'restructuredtext en'\n",
      "\n",
      "FILE\n",
      "    d:\\users\\13884\\lib\\site-packages\\scipy\\sparse\\coo.py\n",
      "\n",
      "\n"
     ]
    }
   ],
   "source": [
    "help(coo)"
   ]
  },
  {
   "cell_type": "code",
   "execution_count": 28,
   "metadata": {
    "collapsed": true
   },
   "outputs": [],
   "source": [
    "from sklearn import datasets\n",
    "iris = datasets.load_iris()\n",
    "X,y = iris.data, iris.target\n",
    "d = np.column_stack((X,y))"
   ]
  },
  {
   "cell_type": "code",
   "execution_count": 39,
   "metadata": {},
   "outputs": [
    {
     "data": {
      "text/plain": [
       "array([[1., 0., 0.],\n",
       "       [1., 0., 0.],\n",
       "       [1., 0., 0.],\n",
       "       [1., 0., 0.],\n",
       "       [1., 0., 0.],\n",
       "       [1., 0., 0.],\n",
       "       [1., 0., 0.],\n",
       "       [1., 0., 0.],\n",
       "       [1., 0., 0.],\n",
       "       [1., 0., 0.],\n",
       "       [1., 0., 0.],\n",
       "       [1., 0., 0.],\n",
       "       [1., 0., 0.],\n",
       "       [1., 0., 0.],\n",
       "       [1., 0., 0.],\n",
       "       [1., 0., 0.],\n",
       "       [1., 0., 0.],\n",
       "       [1., 0., 0.],\n",
       "       [1., 0., 0.],\n",
       "       [1., 0., 0.],\n",
       "       [1., 0., 0.],\n",
       "       [1., 0., 0.],\n",
       "       [1., 0., 0.],\n",
       "       [1., 0., 0.],\n",
       "       [1., 0., 0.],\n",
       "       [1., 0., 0.],\n",
       "       [1., 0., 0.],\n",
       "       [1., 0., 0.],\n",
       "       [1., 0., 0.],\n",
       "       [1., 0., 0.],\n",
       "       [1., 0., 0.],\n",
       "       [1., 0., 0.],\n",
       "       [1., 0., 0.],\n",
       "       [1., 0., 0.],\n",
       "       [1., 0., 0.],\n",
       "       [1., 0., 0.],\n",
       "       [1., 0., 0.],\n",
       "       [1., 0., 0.],\n",
       "       [1., 0., 0.],\n",
       "       [1., 0., 0.],\n",
       "       [1., 0., 0.],\n",
       "       [1., 0., 0.],\n",
       "       [1., 0., 0.],\n",
       "       [1., 0., 0.],\n",
       "       [1., 0., 0.],\n",
       "       [1., 0., 0.],\n",
       "       [1., 0., 0.],\n",
       "       [1., 0., 0.],\n",
       "       [1., 0., 0.],\n",
       "       [1., 0., 0.],\n",
       "       [0., 1., 0.],\n",
       "       [0., 1., 0.],\n",
       "       [0., 1., 0.],\n",
       "       [0., 1., 0.],\n",
       "       [0., 1., 0.],\n",
       "       [0., 1., 0.],\n",
       "       [0., 1., 0.],\n",
       "       [0., 1., 0.],\n",
       "       [0., 1., 0.],\n",
       "       [0., 1., 0.],\n",
       "       [0., 1., 0.],\n",
       "       [0., 1., 0.],\n",
       "       [0., 1., 0.],\n",
       "       [0., 1., 0.],\n",
       "       [0., 1., 0.],\n",
       "       [0., 1., 0.],\n",
       "       [0., 1., 0.],\n",
       "       [0., 1., 0.],\n",
       "       [0., 1., 0.],\n",
       "       [0., 1., 0.],\n",
       "       [0., 1., 0.],\n",
       "       [0., 1., 0.],\n",
       "       [0., 1., 0.],\n",
       "       [0., 1., 0.],\n",
       "       [0., 1., 0.],\n",
       "       [0., 1., 0.],\n",
       "       [0., 1., 0.],\n",
       "       [0., 1., 0.],\n",
       "       [0., 1., 0.],\n",
       "       [0., 1., 0.],\n",
       "       [0., 1., 0.],\n",
       "       [0., 1., 0.],\n",
       "       [0., 1., 0.],\n",
       "       [0., 1., 0.],\n",
       "       [0., 1., 0.],\n",
       "       [0., 1., 0.],\n",
       "       [0., 1., 0.],\n",
       "       [0., 1., 0.],\n",
       "       [0., 1., 0.],\n",
       "       [0., 1., 0.],\n",
       "       [0., 1., 0.],\n",
       "       [0., 1., 0.],\n",
       "       [0., 1., 0.],\n",
       "       [0., 1., 0.],\n",
       "       [0., 1., 0.],\n",
       "       [0., 1., 0.],\n",
       "       [0., 1., 0.],\n",
       "       [0., 1., 0.],\n",
       "       [0., 1., 0.],\n",
       "       [0., 1., 0.],\n",
       "       [0., 0., 1.],\n",
       "       [0., 0., 1.],\n",
       "       [0., 0., 1.],\n",
       "       [0., 0., 1.],\n",
       "       [0., 0., 1.],\n",
       "       [0., 0., 1.],\n",
       "       [0., 0., 1.],\n",
       "       [0., 0., 1.],\n",
       "       [0., 0., 1.],\n",
       "       [0., 0., 1.],\n",
       "       [0., 0., 1.],\n",
       "       [0., 0., 1.],\n",
       "       [0., 0., 1.],\n",
       "       [0., 0., 1.],\n",
       "       [0., 0., 1.],\n",
       "       [0., 0., 1.],\n",
       "       [0., 0., 1.],\n",
       "       [0., 0., 1.],\n",
       "       [0., 0., 1.],\n",
       "       [0., 0., 1.],\n",
       "       [0., 0., 1.],\n",
       "       [0., 0., 1.],\n",
       "       [0., 0., 1.],\n",
       "       [0., 0., 1.],\n",
       "       [0., 0., 1.],\n",
       "       [0., 0., 1.],\n",
       "       [0., 0., 1.],\n",
       "       [0., 0., 1.],\n",
       "       [0., 0., 1.],\n",
       "       [0., 0., 1.],\n",
       "       [0., 0., 1.],\n",
       "       [0., 0., 1.],\n",
       "       [0., 0., 1.],\n",
       "       [0., 0., 1.],\n",
       "       [0., 0., 1.],\n",
       "       [0., 0., 1.],\n",
       "       [0., 0., 1.],\n",
       "       [0., 0., 1.],\n",
       "       [0., 0., 1.],\n",
       "       [0., 0., 1.],\n",
       "       [0., 0., 1.],\n",
       "       [0., 0., 1.],\n",
       "       [0., 0., 1.],\n",
       "       [0., 0., 1.],\n",
       "       [0., 0., 1.]])"
      ]
     },
     "execution_count": 39,
     "metadata": {},
     "output_type": "execute_result"
    }
   ],
   "source": [
    "from sklearn import preprocessing\n",
    "text_encoder = preprocessing.OneHotEncoder()\n",
    "text_encoder.fit_transform(d[:,-1:]).toarray()[:-5]"
   ]
  },
  {
   "cell_type": "code",
   "execution_count": 35,
   "metadata": {},
   "outputs": [
    {
     "data": {
      "text/plain": [
       "array([[0., 1., 0.],\n",
       "       [0., 1., 0.],\n",
       "       [0., 1., 0.]])"
      ]
     },
     "execution_count": 35,
     "metadata": {},
     "output_type": "execute_result"
    }
   ],
   "source": [
    "text_encoder.transform(np.ones((3, 1))).toarray()"
   ]
  },
  {
   "cell_type": "code",
   "execution_count": 40,
   "metadata": {},
   "outputs": [
    {
     "data": {
      "text/plain": [
       "array([[1., 0., 0.],\n",
       "       [1., 0., 0.],\n",
       "       [1., 0., 0.],\n",
       "       [1., 0., 0.],\n",
       "       [1., 0., 0.],\n",
       "       [1., 0., 0.],\n",
       "       [1., 0., 0.],\n",
       "       [1., 0., 0.],\n",
       "       [1., 0., 0.],\n",
       "       [1., 0., 0.],\n",
       "       [1., 0., 0.],\n",
       "       [1., 0., 0.],\n",
       "       [1., 0., 0.],\n",
       "       [1., 0., 0.],\n",
       "       [1., 0., 0.],\n",
       "       [1., 0., 0.],\n",
       "       [1., 0., 0.],\n",
       "       [1., 0., 0.],\n",
       "       [1., 0., 0.],\n",
       "       [1., 0., 0.],\n",
       "       [1., 0., 0.],\n",
       "       [1., 0., 0.],\n",
       "       [1., 0., 0.],\n",
       "       [1., 0., 0.],\n",
       "       [1., 0., 0.],\n",
       "       [1., 0., 0.],\n",
       "       [1., 0., 0.],\n",
       "       [1., 0., 0.],\n",
       "       [1., 0., 0.],\n",
       "       [1., 0., 0.],\n",
       "       [1., 0., 0.],\n",
       "       [1., 0., 0.],\n",
       "       [1., 0., 0.],\n",
       "       [1., 0., 0.],\n",
       "       [1., 0., 0.],\n",
       "       [1., 0., 0.],\n",
       "       [1., 0., 0.],\n",
       "       [1., 0., 0.],\n",
       "       [1., 0., 0.],\n",
       "       [1., 0., 0.],\n",
       "       [1., 0., 0.],\n",
       "       [1., 0., 0.],\n",
       "       [1., 0., 0.],\n",
       "       [1., 0., 0.],\n",
       "       [1., 0., 0.],\n",
       "       [1., 0., 0.],\n",
       "       [1., 0., 0.],\n",
       "       [1., 0., 0.],\n",
       "       [1., 0., 0.],\n",
       "       [1., 0., 0.],\n",
       "       [0., 1., 0.],\n",
       "       [0., 1., 0.],\n",
       "       [0., 1., 0.],\n",
       "       [0., 1., 0.],\n",
       "       [0., 1., 0.],\n",
       "       [0., 1., 0.],\n",
       "       [0., 1., 0.],\n",
       "       [0., 1., 0.],\n",
       "       [0., 1., 0.],\n",
       "       [0., 1., 0.],\n",
       "       [0., 1., 0.],\n",
       "       [0., 1., 0.],\n",
       "       [0., 1., 0.],\n",
       "       [0., 1., 0.],\n",
       "       [0., 1., 0.],\n",
       "       [0., 1., 0.],\n",
       "       [0., 1., 0.],\n",
       "       [0., 1., 0.],\n",
       "       [0., 1., 0.],\n",
       "       [0., 1., 0.],\n",
       "       [0., 1., 0.],\n",
       "       [0., 1., 0.],\n",
       "       [0., 1., 0.],\n",
       "       [0., 1., 0.],\n",
       "       [0., 1., 0.],\n",
       "       [0., 1., 0.],\n",
       "       [0., 1., 0.],\n",
       "       [0., 1., 0.],\n",
       "       [0., 1., 0.],\n",
       "       [0., 1., 0.],\n",
       "       [0., 1., 0.],\n",
       "       [0., 1., 0.],\n",
       "       [0., 1., 0.],\n",
       "       [0., 1., 0.],\n",
       "       [0., 1., 0.],\n",
       "       [0., 1., 0.],\n",
       "       [0., 1., 0.],\n",
       "       [0., 1., 0.],\n",
       "       [0., 1., 0.],\n",
       "       [0., 1., 0.],\n",
       "       [0., 1., 0.],\n",
       "       [0., 1., 0.],\n",
       "       [0., 1., 0.],\n",
       "       [0., 1., 0.],\n",
       "       [0., 1., 0.],\n",
       "       [0., 1., 0.],\n",
       "       [0., 1., 0.],\n",
       "       [0., 1., 0.],\n",
       "       [0., 1., 0.],\n",
       "       [0., 1., 0.],\n",
       "       [0., 0., 1.],\n",
       "       [0., 0., 1.],\n",
       "       [0., 0., 1.],\n",
       "       [0., 0., 1.],\n",
       "       [0., 0., 1.],\n",
       "       [0., 0., 1.],\n",
       "       [0., 0., 1.],\n",
       "       [0., 0., 1.],\n",
       "       [0., 0., 1.],\n",
       "       [0., 0., 1.],\n",
       "       [0., 0., 1.],\n",
       "       [0., 0., 1.],\n",
       "       [0., 0., 1.],\n",
       "       [0., 0., 1.],\n",
       "       [0., 0., 1.],\n",
       "       [0., 0., 1.],\n",
       "       [0., 0., 1.],\n",
       "       [0., 0., 1.],\n",
       "       [0., 0., 1.],\n",
       "       [0., 0., 1.],\n",
       "       [0., 0., 1.],\n",
       "       [0., 0., 1.],\n",
       "       [0., 0., 1.],\n",
       "       [0., 0., 1.],\n",
       "       [0., 0., 1.],\n",
       "       [0., 0., 1.],\n",
       "       [0., 0., 1.],\n",
       "       [0., 0., 1.],\n",
       "       [0., 0., 1.],\n",
       "       [0., 0., 1.],\n",
       "       [0., 0., 1.],\n",
       "       [0., 0., 1.],\n",
       "       [0., 0., 1.],\n",
       "       [0., 0., 1.],\n",
       "       [0., 0., 1.],\n",
       "       [0., 0., 1.],\n",
       "       [0., 0., 1.],\n",
       "       [0., 0., 1.],\n",
       "       [0., 0., 1.],\n",
       "       [0., 0., 1.],\n",
       "       [0., 0., 1.],\n",
       "       [0., 0., 1.],\n",
       "       [0., 0., 1.],\n",
       "       [0., 0., 1.],\n",
       "       [0., 0., 1.]])"
      ]
     },
     "execution_count": 40,
     "metadata": {},
     "output_type": "execute_result"
    }
   ],
   "source": [
    "from sklearn.feature_extraction import DictVectorizer\n",
    "dv = DictVectorizer()\n",
    "my_dict = [{'species':iris.target_names[i]} for i in y]\n",
    "dv.fit_transform(my_dict).toarray()[:-5]"
   ]
  },
  {
   "cell_type": "code",
   "execution_count": 38,
   "metadata": {},
   "outputs": [
    {
     "data": {
      "text/plain": [
       "DesignMatrix with shape (150, 3)\n",
       "  C(species)[0]  C(species)[1]  C(species)[2]\n",
       "              1              0              0\n",
       "              1              0              0\n",
       "              1              0              0\n",
       "              1              0              0\n",
       "              1              0              0\n",
       "              1              0              0\n",
       "              1              0              0\n",
       "              1              0              0\n",
       "              1              0              0\n",
       "              1              0              0\n",
       "              1              0              0\n",
       "              1              0              0\n",
       "              1              0              0\n",
       "              1              0              0\n",
       "              1              0              0\n",
       "              1              0              0\n",
       "              1              0              0\n",
       "              1              0              0\n",
       "              1              0              0\n",
       "              1              0              0\n",
       "              1              0              0\n",
       "              1              0              0\n",
       "              1              0              0\n",
       "              1              0              0\n",
       "              1              0              0\n",
       "              1              0              0\n",
       "              1              0              0\n",
       "              1              0              0\n",
       "              1              0              0\n",
       "              1              0              0\n",
       "  [120 rows omitted]\n",
       "  Terms:\n",
       "    'C(species)' (columns 0:3)\n",
       "  (to view full data, use np.asarray(this_obj))"
      ]
     },
     "execution_count": 38,
     "metadata": {},
     "output_type": "execute_result"
    }
   ],
   "source": [
    "import patsy\n",
    "patsy.dmatrix(\"0 + C(species)\", {'species': iris.target})"
   ]
  },
  {
   "cell_type": "code",
   "execution_count": 41,
   "metadata": {
    "collapsed": true
   },
   "outputs": [],
   "source": [
    "from sklearn import datasets as d\n",
    "iris = d.load_iris()\n",
    "target = iris.target"
   ]
  },
  {
   "cell_type": "code",
   "execution_count": 42,
   "metadata": {
    "collapsed": true
   },
   "outputs": [],
   "source": [
    "from sklearn.preprocessing import LabelBinarizer\n",
    "label_binarizer = LabelBinarizer()\n",
    "new_target = label_binarizer.fit_transform(target)"
   ]
  },
  {
   "cell_type": "code",
   "execution_count": 44,
   "metadata": {},
   "outputs": [
    {
     "data": {
      "text/plain": [
       "array([0, 1, 2])"
      ]
     },
     "execution_count": 44,
     "metadata": {},
     "output_type": "execute_result"
    }
   ],
   "source": [
    "label_binarizer.classes_"
   ]
  },
  {
   "cell_type": "code",
   "execution_count": 45,
   "metadata": {},
   "outputs": [
    {
     "data": {
      "text/plain": [
       "array([[0, 0, 1]])"
      ]
     },
     "execution_count": 45,
     "metadata": {},
     "output_type": "execute_result"
    }
   ],
   "source": [
    "label_binarizer.transform([2])"
   ]
  },
  {
   "cell_type": "code",
   "execution_count": 46,
   "metadata": {},
   "outputs": [
    {
     "data": {
      "text/plain": [
       "array([[ 1000, -1000, -1000],\n",
       "       [ 1000, -1000, -1000],\n",
       "       [ 1000, -1000, -1000],\n",
       "       [ 1000, -1000, -1000],\n",
       "       [ 1000, -1000, -1000]])"
      ]
     },
     "execution_count": 46,
     "metadata": {},
     "output_type": "execute_result"
    }
   ],
   "source": [
    "label_binarizer = LabelBinarizer(neg_label=-1000, pos_label=1000)\n",
    "label_binarizer.fit_transform(target)[:5]"
   ]
  },
  {
   "cell_type": "code",
   "execution_count": 47,
   "metadata": {
    "collapsed": true
   },
   "outputs": [],
   "source": [
    "from sklearn import datasets\n",
    "import numpy as np\n",
    "iris = datasets.load_iris()\n",
    "iris_X = iris.data\n",
    "masking_array = np.random.binomial(1, .25, iris_X.shape).astype(bool)\n",
    "iris_X[masking_array] = np.nan"
   ]
  },
  {
   "cell_type": "code",
   "execution_count": 48,
   "metadata": {},
   "outputs": [
    {
     "data": {
      "text/plain": [
       "array([[5.1, nan, 1.4, 0.2],\n",
       "       [nan, nan, nan, 0.2],\n",
       "       [nan, 3.2, 1.3, nan],\n",
       "       [nan, 3.1, nan, 0.2],\n",
       "       [5. , 3.6, nan, 0.2],\n",
       "       [nan, nan, 1.7, 0.4],\n",
       "       [4.6, 3.4, 1.4, 0.3],\n",
       "       [5. , 3.4, 1.5, 0.2],\n",
       "       [4.4, nan, 1.4, 0.2],\n",
       "       [4.9, 3.1, nan, nan],\n",
       "       [nan, 3.7, 1.5, 0.2],\n",
       "       [4.8, 3.4, 1.6, 0.2],\n",
       "       [4.8, nan, nan, nan],\n",
       "       [4.3, 3. , 1.1, nan],\n",
       "       [5.8, 4. , nan, 0.2],\n",
       "       [5.7, 4.4, 1.5, 0.4],\n",
       "       [5.4, 3.9, 1.3, 0.4],\n",
       "       [5.1, 3.5, 1.4, nan],\n",
       "       [5.7, 3.8, 1.7, 0.3],\n",
       "       [5.1, 3.8, 1.5, 0.3],\n",
       "       [5.4, 3.4, 1.7, nan],\n",
       "       [nan, 3.7, 1.5, 0.4],\n",
       "       [4.6, nan, 1. , 0.2],\n",
       "       [5.1, 3.3, 1.7, 0.5],\n",
       "       [nan, 3.4, 1.9, nan],\n",
       "       [5. , 3. , 1.6, 0.2],\n",
       "       [5. , 3.4, 1.6, 0.4],\n",
       "       [nan, 3.5, 1.5, 0.2],\n",
       "       [5.2, 3.4, 1.4, 0.2],\n",
       "       [nan, 3.2, 1.6, 0.2],\n",
       "       [nan, 3.1, 1.6, 0.2],\n",
       "       [nan, nan, nan, nan],\n",
       "       [5.2, nan, nan, 0.1],\n",
       "       [nan, 4.2, 1.4, 0.2],\n",
       "       [4.9, 3.1, 1.5, 0.1],\n",
       "       [5. , 3.2, nan, 0.2],\n",
       "       [nan, nan, 1.3, 0.2],\n",
       "       [4.9, 3.1, nan, 0.1],\n",
       "       [4.4, nan, nan, 0.2],\n",
       "       [5.1, 3.4, 1.5, 0.2],\n",
       "       [5. , 3.5, nan, 0.3],\n",
       "       [4.5, 2.3, 1.3, 0.3],\n",
       "       [nan, 3.2, nan, 0.2],\n",
       "       [5. , 3.5, 1.6, nan],\n",
       "       [5.1, 3.8, 1.9, 0.4],\n",
       "       [4.8, 3. , 1.4, nan],\n",
       "       [5.1, 3.8, nan, 0.2],\n",
       "       [4.6, 3.2, 1.4, 0.2],\n",
       "       [5.3, 3.7, nan, 0.2],\n",
       "       [nan, 3.3, 1.4, 0.2],\n",
       "       [7. , 3.2, 4.7, 1.4],\n",
       "       [6.4, nan, nan, nan],\n",
       "       [nan, 3.1, nan, 1.5],\n",
       "       [5.5, 2.3, 4. , nan],\n",
       "       [6.5, nan, 4.6, nan],\n",
       "       [nan, nan, 4.5, 1.3],\n",
       "       [6.3, 3.3, 4.7, 1.6],\n",
       "       [4.9, 2.4, nan, 1. ],\n",
       "       [6.6, nan, 4.6, nan],\n",
       "       [5.2, 2.7, 3.9, 1.4],\n",
       "       [5. , nan, 3.5, nan],\n",
       "       [5.9, 3. , 4.2, 1.5],\n",
       "       [6. , 2.2, nan, 1. ],\n",
       "       [6.1, 2.9, 4.7, 1.4],\n",
       "       [nan, 2.9, 3.6, 1.3],\n",
       "       [6.7, 3.1, nan, nan],\n",
       "       [5.6, 3. , 4.5, 1.5],\n",
       "       [5.8, 2.7, nan, 1. ],\n",
       "       [nan, 2.2, nan, 1.5],\n",
       "       [5.6, 2.5, 3.9, 1.1],\n",
       "       [nan, 3.2, 4.8, nan],\n",
       "       [6.1, 2.8, nan, nan],\n",
       "       [6.3, nan, 4.9, nan],\n",
       "       [nan, 2.8, 4.7, nan],\n",
       "       [6.4, nan, nan, nan],\n",
       "       [6.6, 3. , nan, nan],\n",
       "       [6.8, nan, 4.8, 1.4],\n",
       "       [6.7, 3. , nan, 1.7],\n",
       "       [nan, 2.9, 4.5, 1.5],\n",
       "       [5.7, 2.6, 3.5, 1. ],\n",
       "       [5.5, 2.4, 3.8, 1.1],\n",
       "       [nan, 2.4, 3.7, 1. ],\n",
       "       [nan, 2.7, 3.9, 1.2],\n",
       "       [6. , 2.7, 5.1, 1.6],\n",
       "       [5.4, 3. , nan, nan],\n",
       "       [nan, 3.4, nan, nan],\n",
       "       [nan, 3.1, nan, 1.5],\n",
       "       [6.3, nan, 4.4, 1.3],\n",
       "       [5.6, 3. , 4.1, 1.3],\n",
       "       [5.5, 2.5, 4. , 1.3],\n",
       "       [5.5, nan, 4.4, nan],\n",
       "       [6.1, 3. , 4.6, 1.4],\n",
       "       [5.8, nan, 4. , 1.2],\n",
       "       [5. , 2.3, 3.3, 1. ],\n",
       "       [5.6, 2.7, 4.2, 1.3],\n",
       "       [5.7, 3. , nan, 1.2],\n",
       "       [5.7, 2.9, 4.2, nan],\n",
       "       [6.2, 2.9, nan, 1.3],\n",
       "       [5.1, 2.5, nan, nan],\n",
       "       [5.7, 2.8, nan, nan],\n",
       "       [6.3, 3.3, 6. , 2.5],\n",
       "       [5.8, 2.7, 5.1, 1.9],\n",
       "       [7.1, nan, 5.9, 2.1],\n",
       "       [nan, nan, 5.6, 1.8],\n",
       "       [6.5, nan, 5.8, nan],\n",
       "       [nan, 3. , 6.6, nan],\n",
       "       [4.9, 2.5, 4.5, 1.7],\n",
       "       [7.3, nan, nan, nan],\n",
       "       [nan, 2.5, 5.8, 1.8],\n",
       "       [7.2, 3.6, 6.1, nan],\n",
       "       [6.5, 3.2, 5.1, 2. ],\n",
       "       [nan, 2.7, nan, 1.9],\n",
       "       [6.8, 3. , 5.5, 2.1],\n",
       "       [5.7, 2.5, 5. , 2. ],\n",
       "       [nan, 2.8, 5.1, 2.4],\n",
       "       [nan, 3.2, 5.3, 2.3],\n",
       "       [6.5, nan, 5.5, 1.8],\n",
       "       [nan, 3.8, 6.7, nan],\n",
       "       [7.7, 2.6, 6.9, 2.3],\n",
       "       [6. , 2.2, nan, nan],\n",
       "       [6.9, 3.2, 5.7, 2.3],\n",
       "       [nan, 2.8, 4.9, 2. ],\n",
       "       [7.7, 2.8, 6.7, 2. ],\n",
       "       [nan, 2.7, 4.9, 1.8],\n",
       "       [6.7, nan, 5.7, nan],\n",
       "       [7.2, nan, 6. , 1.8],\n",
       "       [6.2, nan, 4.8, 1.8],\n",
       "       [6.1, 3. , 4.9, 1.8],\n",
       "       [nan, nan, 5.6, 2.1],\n",
       "       [7.2, nan, 5.8, 1.6],\n",
       "       [7.4, 2.8, 6.1, 1.9],\n",
       "       [nan, 3.8, nan, 2. ],\n",
       "       [6.4, 2.8, 5.6, 2.2],\n",
       "       [6.3, 2.8, nan, 1.5],\n",
       "       [6.1, 2.6, nan, 1.4],\n",
       "       [nan, 3. , 6.1, 2.3],\n",
       "       [6.3, nan, 5.6, 2.4],\n",
       "       [6.4, 3.1, nan, nan],\n",
       "       [6. , 3. , nan, nan],\n",
       "       [6.9, 3.1, 5.4, 2.1],\n",
       "       [nan, 3.1, 5.6, 2.4],\n",
       "       [6.9, 3.1, nan, 2.3],\n",
       "       [5.8, 2.7, 5.1, 1.9],\n",
       "       [6.8, nan, 5.9, 2.3],\n",
       "       [nan, 3.3, 5.7, 2.5],\n",
       "       [6.7, 3. , 5.2, 2.3],\n",
       "       [nan, 2.5, nan, 1.9],\n",
       "       [6.5, 3. , 5.2, 2. ],\n",
       "       [6.2, nan, 5.4, 2.3],\n",
       "       [5.9, 3. , 5.1, 1.8]])"
      ]
     },
     "execution_count": 48,
     "metadata": {},
     "output_type": "execute_result"
    }
   ],
   "source": [
    "iris_X"
   ]
  },
  {
   "cell_type": "code",
   "execution_count": 50,
   "metadata": {},
   "outputs": [
    {
     "data": {
      "text/plain": [
       "array([[5.1       , 3.05948276, 1.4       , 0.2       ],\n",
       "       [5.81834862, 3.05948276, 3.84953271, 0.2       ],\n",
       "       [5.81834862, 3.2       , 1.3       , 1.19292035],\n",
       "       [5.81834862, 3.1       , 3.84953271, 0.2       ],\n",
       "       [5.        , 3.6       , 3.84953271, 0.2       ],\n",
       "       [5.81834862, 3.05948276, 1.7       , 0.4       ],\n",
       "       [4.6       , 3.4       , 1.4       , 0.3       ],\n",
       "       [5.        , 3.4       , 1.5       , 0.2       ],\n",
       "       [4.4       , 3.05948276, 1.4       , 0.2       ],\n",
       "       [4.9       , 3.1       , 3.84953271, 1.19292035]])"
      ]
     },
     "execution_count": 50,
     "metadata": {},
     "output_type": "execute_result"
    }
   ],
   "source": [
    "from sklearn import preprocessing\n",
    "impute = preprocessing.Imputer()\n",
    "iris_X_prime = impute.fit_transform(iris_X)\n",
    "iris_X_prime[:10]"
   ]
  },
  {
   "cell_type": "code",
   "execution_count": 51,
   "metadata": {},
   "outputs": [
    {
     "data": {
      "text/plain": [
       "array([[5.1, 3. , 1.4, 0.2],\n",
       "       [5.8, 3. , 4.5, 0.2],\n",
       "       [5.8, 3.2, 1.3, 1.3],\n",
       "       [5.8, 3.1, 4.5, 0.2],\n",
       "       [5. , 3.6, 4.5, 0.2]])"
      ]
     },
     "execution_count": 51,
     "metadata": {},
     "output_type": "execute_result"
    }
   ],
   "source": [
    "impute = preprocessing.Imputer(strategy='median')\n",
    "iris_X_prime = impute.fit_transform(iris_X)\n",
    "iris_X_prime[:5]"
   ]
  },
  {
   "cell_type": "code",
   "execution_count": 53,
   "metadata": {},
   "outputs": [
    {
     "data": {
      "text/plain": [
       "array([[ 5.1, -1. ,  1.4,  0.2],\n",
       "       [-1. , -1. , -1. ,  0.2],\n",
       "       [-1. ,  3.2,  1.3, -1. ],\n",
       "       [-1. ,  3.1, -1. ,  0.2],\n",
       "       [ 5. ,  3.6, -1. ,  0.2],\n",
       "       [-1. , -1. ,  1.7,  0.4],\n",
       "       [ 4.6,  3.4,  1.4,  0.3],\n",
       "       [ 5. ,  3.4,  1.5,  0.2],\n",
       "       [ 4.4, -1. ,  1.4,  0.2],\n",
       "       [ 4.9,  3.1, -1. , -1. ]])"
      ]
     },
     "execution_count": 53,
     "metadata": {},
     "output_type": "execute_result"
    }
   ],
   "source": [
    "iris_X[np.isnan(iris_X)] = -1\n",
    "iris_X[:10]"
   ]
  },
  {
   "cell_type": "code",
   "execution_count": 62,
   "metadata": {},
   "outputs": [
    {
     "name": "stdout",
     "output_type": "stream",
     "text": [
      "     sepal length (cm)  sepal width (cm)  petal length (cm)  petal width (cm)\n",
      "0                  5.1               NaN                1.4               0.2\n",
      "1                  NaN               NaN                NaN               0.2\n",
      "2                  NaN               3.2                1.3               NaN\n",
      "3                  NaN               3.1                NaN               0.2\n",
      "4                  5.0               3.6                NaN               0.2\n",
      "5                  NaN               NaN                1.7               0.4\n",
      "6                  4.6               3.4                1.4               0.3\n",
      "7                  5.0               3.4                1.5               0.2\n",
      "8                  4.4               NaN                1.4               0.2\n",
      "9                  4.9               3.1                NaN               NaN\n",
      "10                 NaN               3.7                1.5               0.2\n",
      "11                 4.8               3.4                1.6               0.2\n",
      "12                 4.8               NaN                NaN               NaN\n",
      "13                 4.3               3.0                1.1               NaN\n",
      "14                 5.8               4.0                NaN               0.2\n",
      "15                 5.7               4.4                1.5               0.4\n",
      "16                 5.4               3.9                1.3               0.4\n",
      "17                 5.1               3.5                1.4               NaN\n",
      "18                 5.7               3.8                1.7               0.3\n",
      "19                 5.1               3.8                1.5               0.3\n",
      "20                 5.4               3.4                1.7               NaN\n",
      "21                 NaN               3.7                1.5               0.4\n",
      "22                 4.6               NaN                1.0               0.2\n",
      "23                 5.1               3.3                1.7               0.5\n",
      "24                 NaN               3.4                1.9               NaN\n",
      "25                 5.0               3.0                1.6               0.2\n",
      "26                 5.0               3.4                1.6               0.4\n",
      "27                 NaN               3.5                1.5               0.2\n",
      "28                 5.2               3.4                1.4               0.2\n",
      "29                 NaN               3.2                1.6               0.2\n",
      "..                 ...               ...                ...               ...\n",
      "120                6.9               3.2                5.7               2.3\n",
      "121                NaN               2.8                4.9               2.0\n",
      "122                7.7               2.8                6.7               2.0\n",
      "123                NaN               2.7                4.9               1.8\n",
      "124                6.7               NaN                5.7               NaN\n",
      "125                7.2               NaN                6.0               1.8\n",
      "126                6.2               NaN                4.8               1.8\n",
      "127                6.1               3.0                4.9               1.8\n",
      "128                NaN               NaN                5.6               2.1\n",
      "129                7.2               NaN                5.8               1.6\n",
      "130                7.4               2.8                6.1               1.9\n",
      "131                NaN               3.8                NaN               2.0\n",
      "132                6.4               2.8                5.6               2.2\n",
      "133                6.3               2.8                NaN               1.5\n",
      "134                6.1               2.6                NaN               1.4\n",
      "135                NaN               3.0                6.1               2.3\n",
      "136                6.3               NaN                5.6               2.4\n",
      "137                6.4               3.1                NaN               NaN\n",
      "138                6.0               3.0                NaN               NaN\n",
      "139                6.9               3.1                5.4               2.1\n",
      "140                NaN               3.1                5.6               2.4\n",
      "141                6.9               3.1                NaN               2.3\n",
      "142                5.8               2.7                5.1               1.9\n",
      "143                6.8               NaN                5.9               2.3\n",
      "144                NaN               3.3                5.7               2.5\n",
      "145                6.7               3.0                5.2               2.3\n",
      "146                NaN               2.5                NaN               1.9\n",
      "147                6.5               3.0                5.2               2.0\n",
      "148                6.2               NaN                5.4               2.3\n",
      "149                5.9               3.0                5.1               1.8\n",
      "\n",
      "[150 rows x 4 columns]\n"
     ]
    },
    {
     "data": {
      "text/plain": [
       "0    5.100000\n",
       "1    5.818349\n",
       "2    5.818349\n",
       "3    5.818349\n",
       "4    5.000000\n",
       "5    5.818349\n",
       "6    4.600000\n",
       "7    5.000000\n",
       "8    4.400000\n",
       "9    4.900000\n",
       "Name: sepal length (cm), dtype: float64"
      ]
     },
     "execution_count": 62,
     "metadata": {},
     "output_type": "execute_result"
    }
   ],
   "source": [
    "import pandas as pd\n",
    "iris_X[masking_array] = np.nan\n",
    "iris_df = pd.DataFrame(iris_X, columns=iris.feature_names)\n",
    "print(iris_df)\n",
    "iris_df.fillna(iris_df.mean())['sepal length (cm)'].head(10)"
   ]
  },
  {
   "cell_type": "code",
   "execution_count": 73,
   "metadata": {},
   "outputs": [
    {
     "data": {
      "text/plain": [
       "array([[        nan, -0.91705132, -0.31270163,  0.1495248 ,  0.65280033],\n",
       "       [-0.91705132,  1.49753766,  0.35842665, -0.3026586 , -1.03166127],\n",
       "       [-0.31270163,  0.35842665,  0.54613836, -0.10636808, -0.26925494],\n",
       "       [        nan, -0.3026586 ,         nan,  0.52142625,         nan],\n",
       "       [ 0.65280033,         nan, -0.26925494,  0.2580099 ,         nan]])"
      ]
     },
     "execution_count": 73,
     "metadata": {},
     "output_type": "execute_result"
    }
   ],
   "source": [
    "from sklearn import datasets\n",
    "import numpy as np\n",
    "mat = datasets.make_spd_matrix(10)\n",
    "masking_array = np.random.binomial(1,0.1,mat.shape).astype(bool)\n",
    "mat[masking_array] = np.nan\n",
    "mat[:5,:5]"
   ]
  },
  {
   "cell_type": "code",
   "execution_count": 74,
   "metadata": {},
   "outputs": [
    {
     "data": {
      "text/plain": [
       "array([[-0.50467445, -0.91705132, -0.31270163,  0.1495248 ,  0.65280033],\n",
       "       [-0.91705132,  1.49753766,  0.35842665, -0.3026586 , -1.03166127],\n",
       "       [-0.31270163,  0.35842665,  0.54613836, -0.10636808, -0.26925494],\n",
       "       [-0.50467445, -0.3026586 ,  0.10062866,  0.52142625, -0.67216634],\n",
       "       [ 0.65280033,  0.67243778, -0.26925494,  0.2580099 , -0.67216634]])"
      ]
     },
     "execution_count": 74,
     "metadata": {},
     "output_type": "execute_result"
    }
   ],
   "source": [
    "from sklearn import preprocessing\n",
    "impute = preprocessing.Imputer()\n",
    "scaler = preprocessing.StandardScaler()\n",
    "mat_imputed = impute.fit_transform(mat)\n",
    "mat_imputed[:5, :5]"
   ]
  },
  {
   "cell_type": "code",
   "execution_count": 75,
   "metadata": {},
   "outputs": [
    {
     "data": {
      "text/plain": [
       "array([[ 0.00000000e+00, -1.80920466e+00, -1.41773112e+00,\n",
       "         7.08903909e-01,  2.09070702e+00],\n",
       "       [-7.76442981e-01,  9.39153686e-01,  8.84252243e-01,\n",
       "        -7.23288665e-01, -5.67258483e-01],\n",
       "       [ 3.61455642e-01, -3.57416980e-01,  1.52810713e+00,\n",
       "        -1.01581129e-01,  6.35766703e-01],\n",
       "       [ 0.00000000e+00, -1.10988425e+00, -4.76010882e-17,\n",
       "         1.88682087e+00,  0.00000000e+00],\n",
       "       [ 2.17934912e+00,  0.00000000e+00, -1.26870810e+00,\n",
       "         1.05250688e+00,  0.00000000e+00]])"
      ]
     },
     "execution_count": 75,
     "metadata": {},
     "output_type": "execute_result"
    }
   ],
   "source": [
    "mat_imp_and_scaled = scaler.fit_transform(mat_imputed)\n",
    "mat_imp_and_scaled[:5, :5]"
   ]
  },
  {
   "cell_type": "code",
   "execution_count": 80,
   "metadata": {},
   "outputs": [
    {
     "data": {
      "text/plain": [
       "array([[ 0.00000000e+00, -1.80920466e+00, -1.41773112e+00,\n",
       "         7.08903909e-01,  2.09070702e+00],\n",
       "       [-7.76442981e-01,  9.39153686e-01,  8.84252243e-01,\n",
       "        -7.23288665e-01, -5.67258483e-01],\n",
       "       [ 3.61455642e-01, -3.57416980e-01,  1.52810713e+00,\n",
       "        -1.01581129e-01,  6.35766703e-01],\n",
       "       [ 0.00000000e+00, -1.10988425e+00, -4.76010882e-17,\n",
       "         1.88682087e+00,  0.00000000e+00],\n",
       "       [ 2.17934912e+00,  0.00000000e+00, -1.26870810e+00,\n",
       "         1.05250688e+00,  0.00000000e+00]])"
      ]
     },
     "execution_count": 80,
     "metadata": {},
     "output_type": "execute_result"
    }
   ],
   "source": [
    "from sklearn import pipeline\n",
    "pipe = pipeline.Pipeline([('impute', impute), ('scaler', scaler)])\n",
    "new_mat = pipe.fit_transform(mat)\n",
    "new_mat[:5, :5]"
   ]
  },
  {
   "cell_type": "code",
   "execution_count": 81,
   "metadata": {},
   "outputs": [
    {
     "data": {
      "text/plain": [
       "True"
      ]
     },
     "execution_count": 81,
     "metadata": {},
     "output_type": "execute_result"
    }
   ],
   "source": [
    "np.array_equal(new_mat,mat_imp_and_scaled)"
   ]
  },
  {
   "cell_type": "code",
   "execution_count": 1,
   "metadata": {
    "collapsed": true
   },
   "outputs": [],
   "source": [
    "from sklearn import datasets\n",
    "iris = datasets.load_iris()\n",
    "data = iris.data\n",
    "target = iris.target"
   ]
  },
  {
   "cell_type": "code",
   "execution_count": 3,
   "metadata": {},
   "outputs": [
    {
     "data": {
      "text/plain": [
       "PCA(copy=True, iterated_power='auto', n_components=None, random_state=None,\n",
       "  svd_solver='auto', tol=0.0, whiten=False)"
      ]
     },
     "execution_count": 3,
     "metadata": {},
     "output_type": "execute_result"
    }
   ],
   "source": [
    "from sklearn import decomposition\n",
    "pca = decomposition.PCA()\n",
    "pca"
   ]
  },
  {
   "cell_type": "code",
   "execution_count": 8,
   "metadata": {},
   "outputs": [
    {
     "data": {
      "text/plain": [
       "array([[-2.68420713e+00,  3.26607315e-01, -2.15118370e-02,\n",
       "         1.00615724e-03],\n",
       "       [-2.71539062e+00, -1.69556848e-01, -2.03521425e-01,\n",
       "         9.96024240e-02],\n",
       "       [-2.88981954e+00, -1.37345610e-01,  2.47092410e-02,\n",
       "         1.93045428e-02],\n",
       "       [-2.74643720e+00, -3.11124316e-01,  3.76719753e-02,\n",
       "        -7.59552741e-02],\n",
       "       [-2.72859298e+00,  3.33924564e-01,  9.62296998e-02,\n",
       "        -6.31287327e-02],\n",
       "       [-2.27989736e+00,  7.47782713e-01,  1.74325619e-01,\n",
       "        -2.71468037e-02],\n",
       "       [-2.82089068e+00, -8.21045110e-02,  2.64251085e-01,\n",
       "        -5.00996251e-02],\n",
       "       [-2.62648199e+00,  1.70405349e-01, -1.58015103e-02,\n",
       "        -4.62817610e-02],\n",
       "       [-2.88795857e+00, -5.70798026e-01,  2.73354061e-02,\n",
       "        -2.66154143e-02],\n",
       "       [-2.67384469e+00, -1.06691704e-01, -1.91533300e-01,\n",
       "        -5.58909660e-02],\n",
       "       [-2.50652679e+00,  6.51935014e-01, -6.92749958e-02,\n",
       "        -1.66082478e-02],\n",
       "       [-2.61314272e+00,  2.15206320e-02,  1.07650353e-01,\n",
       "        -1.57704569e-01],\n",
       "       [-2.78743398e+00, -2.27740189e-01, -2.00327788e-01,\n",
       "        -7.23508674e-03],\n",
       "       [-3.22520045e+00, -5.03279909e-01,  6.84136292e-02,\n",
       "        -2.19466641e-02],\n",
       "       [-2.64354322e+00,  1.18619490e+00, -1.44505704e-01,\n",
       "         1.56980962e-01],\n",
       "       [-2.38386932e+00,  1.34475434e+00,  2.83730664e-01,\n",
       "         1.92618171e-03],\n",
       "       [-2.62252620e+00,  8.18089675e-01,  1.45315989e-01,\n",
       "         1.64740791e-01],\n",
       "       [-2.64832273e+00,  3.19136668e-01,  3.33942541e-02,\n",
       "         7.61182133e-02],\n",
       "       [-2.19907796e+00,  8.79244088e-01, -1.14521465e-01,\n",
       "         2.53269397e-02],\n",
       "       [-2.58734619e+00,  5.20473639e-01,  2.19572088e-01,\n",
       "        -6.90819912e-02],\n",
       "       [-2.31053170e+00,  3.97867822e-01, -2.33695607e-01,\n",
       "        -1.53237396e-02],\n",
       "       [-2.54323491e+00,  4.40031755e-01,  2.14836370e-01,\n",
       "         3.84395001e-02],\n",
       "       [-3.21585769e+00,  1.41615572e-01,  2.99618982e-01,\n",
       "         1.85704335e-03],\n",
       "       [-2.30312854e+00,  1.05522678e-01,  4.56800413e-02,\n",
       "         1.47245500e-01],\n",
       "       [-2.35617109e+00, -3.12095891e-02,  1.29407576e-01,\n",
       "        -3.01620265e-01],\n",
       "       [-2.50791723e+00, -1.39056340e-01, -2.47116338e-01,\n",
       "         3.53840813e-02],\n",
       "       [-2.46905600e+00,  1.37887315e-01,  1.01263079e-01,\n",
       "         5.59704524e-02],\n",
       "       [-2.56239095e+00,  3.74684563e-01, -7.23591574e-02,\n",
       "        -1.52402868e-02],\n",
       "       [-2.63982127e+00,  3.19290066e-01, -1.39253374e-01,\n",
       "         6.51410472e-02],\n",
       "       [-2.63284791e+00, -1.90075831e-01,  4.64664636e-02,\n",
       "        -1.24611153e-01],\n",
       "       [-2.58846205e+00, -1.97393079e-01, -7.12750731e-02,\n",
       "        -6.04762634e-02],\n",
       "       [-2.41007734e+00,  4.18080008e-01, -1.38388240e-01,\n",
       "         2.30844170e-01],\n",
       "       [-2.64763667e+00,  8.19982633e-01,  2.30585604e-01,\n",
       "        -2.84808954e-01],\n",
       "       [-2.59715948e+00,  1.10002193e+00,  1.63581913e-01,\n",
       "        -9.89580706e-02],\n",
       "       [-2.67384469e+00, -1.06691704e-01, -1.91533300e-01,\n",
       "        -5.58909660e-02],\n",
       "       [-2.86699985e+00,  7.71930957e-02, -1.56842350e-01,\n",
       "         1.62452806e-01],\n",
       "       [-2.62522846e+00,  6.06800008e-01, -2.61163156e-01,\n",
       "         1.75879875e-01],\n",
       "       [-2.67384469e+00, -1.06691704e-01, -1.91533300e-01,\n",
       "        -5.58909660e-02],\n",
       "       [-2.98184266e+00, -4.80250049e-01,  7.97248074e-02,\n",
       "        -1.10529508e-02],\n",
       "       [-2.59032303e+00,  2.36059337e-01, -7.39012382e-02,\n",
       "        -1.45563062e-02],\n",
       "       [-2.77013891e+00,  2.71059420e-01,  8.42415745e-02,\n",
       "         9.23646573e-02],\n",
       "       [-2.85221108e+00, -9.32865367e-01, -3.40961491e-01,\n",
       "         3.22650607e-01],\n",
       "       [-2.99829644e+00, -3.34307575e-01,  1.99008425e-01,\n",
       "        -7.58718213e-02],\n",
       "       [-2.40551410e+00,  1.95917258e-01,  2.70717070e-01,\n",
       "         1.73785129e-01],\n",
       "       [-2.20883295e+00,  4.42696030e-01,  3.03487809e-01,\n",
       "        -1.85857530e-01],\n",
       "       [-2.71566519e+00, -2.42681483e-01, -9.05156060e-02,\n",
       "         1.42989025e-01],\n",
       "       [-2.53757337e+00,  5.10367545e-01,  1.71918404e-01,\n",
       "        -1.92165946e-01],\n",
       "       [-2.84032130e+00, -2.20576338e-01,  9.00613765e-02,\n",
       "        -6.03928106e-02],\n",
       "       [-2.54268576e+00,  5.86281025e-01, -1.11752678e-02,\n",
       "        -4.83337025e-02],\n",
       "       [-2.70391231e+00,  1.15010852e-01, -8.26957266e-02,\n",
       "         3.40995730e-02],\n",
       "       [ 1.28479459e+00,  6.85439186e-01, -4.06129553e-01,\n",
       "         1.92901169e-02],\n",
       "       [ 9.32410753e-01,  3.19198090e-01, -1.71299092e-02,\n",
       "        -6.75794171e-06],\n",
       "       [ 1.46406132e+00,  5.04189833e-01, -3.38260728e-01,\n",
       "        -8.57644048e-04],\n",
       "       [ 1.80967206e-01, -8.25603944e-01, -1.77082856e-01,\n",
       "         9.57844484e-02],\n",
       "       [ 1.08713449e+00,  7.53903893e-02, -3.06544465e-01,\n",
       "         1.13384539e-01],\n",
       "       [ 6.40436750e-01, -4.17323483e-01,  4.11887694e-02,\n",
       "        -2.42671312e-01],\n",
       "       [ 1.09522371e+00,  2.83891211e-01,  1.70022534e-01,\n",
       "        -8.49733893e-02],\n",
       "       [-7.51467141e-01, -1.00110751e+00,  1.56721942e-02,\n",
       "        -1.65105922e-02],\n",
       "       [ 1.04329778e+00,  2.28956909e-01, -4.14814566e-01,\n",
       "        -3.75235536e-02],\n",
       "       [-1.01900707e-02, -7.20574867e-01,  2.83437246e-01,\n",
       "        -5.94570198e-03],\n",
       "       [-5.11086196e-01, -1.26249195e+00, -2.66489954e-01,\n",
       "         4.89088061e-02],\n",
       "       [ 5.11098061e-01, -1.02284105e-01,  1.32327890e-01,\n",
       "         5.01005352e-02],\n",
       "       [ 2.62335756e-01, -5.47893298e-01, -6.91941578e-01,\n",
       "         6.14849891e-02],\n",
       "       [ 9.84044545e-01, -1.24360420e-01, -6.21574276e-02,\n",
       "        -1.69010670e-01],\n",
       "       [-1.74864002e-01, -2.51815571e-01,  9.36586382e-02,\n",
       "         1.24940887e-01],\n",
       "       [ 9.27572942e-01,  4.68236205e-01, -3.13229401e-01,\n",
       "         1.00438884e-01],\n",
       "       [ 6.59592789e-01, -3.51976291e-01,  3.28384297e-01,\n",
       "        -1.88991525e-01],\n",
       "       [ 2.34540586e-01, -3.31921829e-01, -2.70280671e-01,\n",
       "        -2.11984995e-01],\n",
       "       [ 9.42361707e-01, -5.41822258e-01, -4.97348541e-01,\n",
       "         2.60636685e-01],\n",
       "       [ 4.32464003e-02, -5.81489447e-01, -2.32963556e-01,\n",
       "        -3.95611807e-02],\n",
       "       [ 1.11624072e+00, -8.42140139e-02,  4.59844227e-01,\n",
       "        -7.72135596e-02],\n",
       "       [ 3.56786568e-01, -6.68238279e-02, -2.27472180e-01,\n",
       "         1.24090000e-01],\n",
       "       [ 1.29646885e+00, -3.27561520e-01, -3.47513213e-01,\n",
       "         3.24623910e-03],\n",
       "       [ 9.20502649e-01, -1.82390363e-01, -2.31611419e-01,\n",
       "        -2.86825347e-01],\n",
       "       [ 7.14008214e-01,  1.50379153e-01, -3.20372333e-01,\n",
       "         4.29412332e-02],\n",
       "       [ 8.99640863e-01,  3.29610980e-01, -3.14771481e-01,\n",
       "         1.01122865e-01],\n",
       "       [ 1.33104142e+00,  2.44669521e-01, -5.21244925e-01,\n",
       "         3.75050497e-02],\n",
       "       [ 1.55739627e+00,  2.67392585e-01, -1.64638491e-01,\n",
       "         7.03530951e-02],\n",
       "       [ 8.12455549e-01, -1.62331575e-01,  3.63435763e-02,\n",
       "        -2.96802711e-02],\n",
       "       [-3.07334756e-01, -3.65086613e-01, -3.15337197e-01,\n",
       "         7.65303776e-02],\n",
       "       [-7.03428889e-02, -7.02537932e-01, -2.41758045e-01,\n",
       "         9.09469852e-03],\n",
       "       [-1.91884492e-01, -6.77490544e-01, -3.03916543e-01,\n",
       "        -1.80454588e-02],\n",
       "       [ 1.34994950e-01, -3.11709643e-01, -1.74973304e-01,\n",
       "         3.41829142e-02],\n",
       "       [ 1.37873698e+00, -4.21205138e-01,  1.54804951e-02,\n",
       "        -1.77580737e-01],\n",
       "       [ 5.87274854e-01, -4.83284268e-01,  4.44583753e-01,\n",
       "        -2.52442435e-01],\n",
       "       [ 8.07205497e-01,  1.95053964e-01,  3.89458711e-01,\n",
       "        -1.16615391e-01],\n",
       "       [ 1.22042897e+00,  4.08035337e-01, -2.36566087e-01,\n",
       "         3.16352440e-02],\n",
       "       [ 8.12867790e-01, -3.70678998e-01, -6.12871050e-01,\n",
       "         1.57700491e-01],\n",
       "       [ 2.45195162e-01, -2.66728036e-01,  1.89562485e-01,\n",
       "        -1.47328042e-01],\n",
       "       [ 1.64513428e-01, -6.79661469e-01, -5.77992388e-02,\n",
       "         3.09655779e-02],\n",
       "       [ 4.63030989e-01, -6.69526547e-01, -2.40538909e-02,\n",
       "        -2.68443508e-01],\n",
       "       [ 8.90160446e-01, -3.38124427e-02, -9.76802637e-03,\n",
       "        -1.53448206e-01],\n",
       "       [ 2.28879050e-01, -4.02257620e-01, -2.27362705e-01,\n",
       "         1.86204508e-02],\n",
       "       [-7.07081284e-01, -1.00842476e+00, -1.02069343e-01,\n",
       "         4.76242978e-02],\n",
       "       [ 3.55533039e-01, -5.03218487e-01,  1.78894659e-02,\n",
       "        -9.80716353e-02],\n",
       "       [ 3.31126947e-01, -2.11180141e-01,  8.38090732e-02,\n",
       "        -2.38686542e-01],\n",
       "       [ 3.75238229e-01, -2.91622025e-01,  7.90733555e-02,\n",
       "        -1.31165051e-01],\n",
       "       [ 6.41690278e-01,  1.90711765e-02, -2.04172877e-01,\n",
       "        -2.05096763e-02],\n",
       "       [-9.08463333e-01, -7.51568725e-01, -7.73658451e-03,\n",
       "         2.33558634e-01],\n",
       "       [ 2.97807907e-01, -3.47016522e-01,  1.21791392e-02,\n",
       "        -5.07837171e-02],\n",
       "       [ 2.53172698e+00, -1.18422366e-02,  7.58458652e-01,\n",
       "        -3.25995685e-02],\n",
       "       [ 1.41407223e+00, -5.74925056e-01,  2.96398224e-01,\n",
       "        -1.56954783e-02],\n",
       "       [ 2.61648461e+00,  3.41935287e-01, -1.12141371e-01,\n",
       "         6.59560495e-02],\n",
       "       [ 1.97081495e+00, -1.81125695e-01,  1.06539149e-01,\n",
       "        -2.36858625e-01],\n",
       "       [ 2.34975798e+00, -4.18825497e-02,  2.84110681e-01,\n",
       "        -1.31272400e-03],\n",
       "       [ 3.39687992e+00,  5.47168046e-01, -3.51873158e-01,\n",
       "        -1.11219968e-01],\n",
       "       [ 5.19383245e-01, -1.19135169e+00,  5.46685531e-01,\n",
       "        -9.87984199e-02],\n",
       "       [ 2.93200510e+00,  3.52377006e-01, -4.23691278e-01,\n",
       "        -2.55407369e-01],\n",
       "       [ 2.31967279e+00, -2.45548171e-01, -3.49922183e-01,\n",
       "        -7.62628625e-02],\n",
       "       [ 2.91813423e+00,  7.80380629e-01,  4.21738934e-01,\n",
       "         1.07729319e-01],\n",
       "       [ 1.66193495e+00,  2.42038401e-01,  2.42815263e-01,\n",
       "         1.19447585e-01],\n",
       "       [ 1.80234045e+00, -2.16154607e-01, -3.76953285e-02,\n",
       "         7.87134526e-02],\n",
       "       [ 2.16537886e+00,  2.15280283e-01,  3.31481832e-02,\n",
       "         1.62667280e-01],\n",
       "       [ 1.34459422e+00, -7.76415425e-01,  2.82868018e-01,\n",
       "         1.40481892e-01],\n",
       "       [ 1.58526730e+00, -5.39307054e-01,  6.30570488e-01,\n",
       "         3.27455367e-01],\n",
       "       [ 1.90474358e+00,  1.18818991e-01,  4.80138080e-01,\n",
       "         2.17114500e-01],\n",
       "       [ 1.94924878e+00,  4.07302594e-02,  4.27290939e-02,\n",
       "        -1.57845252e-01],\n",
       "       [ 3.48876538e+00,  1.17154454e+00,  1.29320083e-01,\n",
       "        -3.11629838e-01],\n",
       "       [ 3.79468686e+00,  2.53265571e-01, -5.16970716e-01,\n",
       "         5.64516435e-02],\n",
       "       [ 1.29832982e+00, -7.61013937e-01, -3.44887047e-01,\n",
       "        -4.26737181e-02],\n",
       "       [ 2.42816726e+00,  3.76781971e-01,  2.18649070e-01,\n",
       "         1.83854179e-01],\n",
       "       [ 1.19809737e+00, -6.05578962e-01,  5.12640765e-01,\n",
       "         5.95000305e-02],\n",
       "       [ 3.49926548e+00,  4.56773467e-01, -5.76910187e-01,\n",
       "        -1.37759598e-01],\n",
       "       [ 1.38766825e+00, -2.04030987e-01, -6.35113218e-02,\n",
       "         1.63763537e-01],\n",
       "       [ 2.27585365e+00,  3.33386526e-01,  2.84678153e-01,\n",
       "        -6.22302776e-02],\n",
       "       [ 2.61419383e+00,  5.58366950e-01, -2.08423347e-01,\n",
       "        -2.40445433e-01],\n",
       "       [ 1.25762518e+00, -1.79136997e-01,  4.69778074e-02,\n",
       "         1.47600546e-01],\n",
       "       [ 1.29066965e+00, -1.16425252e-01,  2.31613561e-01,\n",
       "         3.08432157e-03],\n",
       "       [ 2.12285398e+00, -2.10854885e-01,  1.53515885e-01,\n",
       "         5.26124332e-02],\n",
       "       [ 2.38756440e+00,  4.62519251e-01, -4.52023961e-01,\n",
       "        -2.29906877e-01],\n",
       "       [ 2.84096093e+00,  3.72742591e-01, -5.01031539e-01,\n",
       "        -2.02166254e-02],\n",
       "       [ 3.23234290e+00,  1.37052404e+00, -1.18448777e-01,\n",
       "        -2.54487344e-01],\n",
       "       [ 2.15873837e+00, -2.18325532e-01,  2.08421976e-01,\n",
       "         1.27724489e-01],\n",
       "       [ 1.44310260e+00, -1.43801289e-01, -1.54082971e-01,\n",
       "        -1.89925864e-01],\n",
       "       [ 1.77964011e+00, -5.01464795e-01, -1.75811186e-01,\n",
       "        -5.03529453e-01],\n",
       "       [ 3.07652162e+00,  6.85764442e-01, -3.36422741e-01,\n",
       "         3.10589092e-01],\n",
       "       [ 2.14498686e+00,  1.38906609e-01,  7.34184739e-01,\n",
       "         5.17665351e-02],\n",
       "       [ 1.90486293e+00,  4.80475082e-02,  1.60470631e-01,\n",
       "        -2.21980142e-01],\n",
       "       [ 1.16885347e+00, -1.64502500e-01,  2.82460881e-01,\n",
       "         1.93307656e-02],\n",
       "       [ 2.10765373e+00,  3.71482249e-01,  2.74378565e-02,\n",
       "         2.09955199e-01],\n",
       "       [ 2.31430339e+00,  1.82608851e-01,  3.22860401e-01,\n",
       "         2.75896660e-01],\n",
       "       [ 1.92245088e+00,  4.09271176e-01,  1.15492816e-01,\n",
       "         5.04095007e-01],\n",
       "       [ 1.41407223e+00, -5.74925056e-01,  2.96398224e-01,\n",
       "        -1.56954783e-02],\n",
       "       [ 2.56332271e+00,  2.75974502e-01,  2.91253613e-01,\n",
       "         5.61849270e-02],\n",
       "       [ 2.41939122e+00,  3.03503938e-01,  5.04302517e-01,\n",
       "         2.38217947e-01],\n",
       "       [ 1.94401705e+00,  1.87415222e-01,  1.79302871e-01,\n",
       "         4.25081634e-01],\n",
       "       [ 1.52566363e+00, -3.75020848e-01, -1.20636441e-01,\n",
       "         2.55722565e-01],\n",
       "       [ 1.76404594e+00,  7.85191864e-02,  1.30784053e-01,\n",
       "         1.36294556e-01],\n",
       "       [ 1.90162908e+00,  1.15876748e-01,  7.22873561e-01,\n",
       "         4.08728218e-02],\n",
       "       [ 1.38966613e+00, -2.82886709e-01,  3.62317832e-01,\n",
       "        -1.56310385e-01]])"
      ]
     },
     "execution_count": 8,
     "metadata": {},
     "output_type": "execute_result"
    }
   ],
   "source": [
    "iris_pca = pca.fit_transform(data)\n",
    "iris_pca"
   ]
  },
  {
   "cell_type": "code",
   "execution_count": 9,
   "metadata": {},
   "outputs": [
    {
     "data": {
      "text/plain": [
       "array([0.92461621, 0.05301557, 0.01718514, 0.00518309])"
      ]
     },
     "execution_count": 9,
     "metadata": {},
     "output_type": "execute_result"
    }
   ],
   "source": [
    "pca.explained_variance_ratio_"
   ]
  },
  {
   "cell_type": "code",
   "execution_count": 11,
   "metadata": {},
   "outputs": [
    {
     "data": {
      "text/plain": [
       "array([4.22484077, 0.24224357, 0.07852391, 0.02368303])"
      ]
     },
     "execution_count": 11,
     "metadata": {},
     "output_type": "execute_result"
    }
   ],
   "source": [
    "pca.explained_variance_"
   ]
  },
  {
   "cell_type": "code",
   "execution_count": 12,
   "metadata": {},
   "outputs": [
    {
     "data": {
      "text/plain": [
       "array([[ 0.36158968, -0.08226889,  0.85657211,  0.35884393],\n",
       "       [ 0.65653988,  0.72971237, -0.1757674 , -0.07470647],\n",
       "       [-0.58099728,  0.59641809,  0.07252408,  0.54906091],\n",
       "       [ 0.31725455, -0.32409435, -0.47971899,  0.75112056]])"
      ]
     },
     "execution_count": 12,
     "metadata": {},
     "output_type": "execute_result"
    }
   ],
   "source": [
    "pca.components_"
   ]
  },
  {
   "cell_type": "code",
   "execution_count": 13,
   "metadata": {},
   "outputs": [
    {
     "data": {
      "text/plain": [
       "array([25.08986398,  6.00785254,  3.42053538,  1.87850234])"
      ]
     },
     "execution_count": 13,
     "metadata": {},
     "output_type": "execute_result"
    }
   ],
   "source": [
    "pca.singular_values_"
   ]
  },
  {
   "cell_type": "code",
   "execution_count": 19,
   "metadata": {},
   "outputs": [
    {
     "data": {
      "text/plain": [
       "array([[ 0.67919741, -0.03258618,  1.27066452,  0.5321852 ],\n",
       "       [-0.03258618,  0.18113034, -0.31863564, -0.13363564],\n",
       "       [ 1.27066452, -0.31863564,  3.11934547,  1.28541527],\n",
       "       [ 0.5321852 , -0.13363564,  1.28541527,  0.58961806]])"
      ]
     },
     "execution_count": 19,
     "metadata": {},
     "output_type": "execute_result"
    }
   ],
   "source": [
    "pca.get_covariance()"
   ]
  },
  {
   "cell_type": "code",
   "execution_count": 22,
   "metadata": {},
   "outputs": [
    {
     "data": {
      "text/plain": [
       "array([[-2.68420713,  0.32660731],\n",
       "       [-2.71539062, -0.16955685],\n",
       "       [-2.88981954, -0.13734561],\n",
       "       [-2.7464372 , -0.31112432],\n",
       "       [-2.72859298,  0.33392456],\n",
       "       [-2.27989736,  0.74778271],\n",
       "       [-2.82089068, -0.08210451],\n",
       "       [-2.62648199,  0.17040535],\n",
       "       [-2.88795857, -0.57079803],\n",
       "       [-2.67384469, -0.1066917 ],\n",
       "       [-2.50652679,  0.65193501],\n",
       "       [-2.61314272,  0.02152063],\n",
       "       [-2.78743398, -0.22774019],\n",
       "       [-3.22520045, -0.50327991],\n",
       "       [-2.64354322,  1.1861949 ],\n",
       "       [-2.38386932,  1.34475434],\n",
       "       [-2.6225262 ,  0.81808967],\n",
       "       [-2.64832273,  0.31913667],\n",
       "       [-2.19907796,  0.87924409],\n",
       "       [-2.58734619,  0.52047364],\n",
       "       [-2.3105317 ,  0.39786782],\n",
       "       [-2.54323491,  0.44003175],\n",
       "       [-3.21585769,  0.14161557],\n",
       "       [-2.30312854,  0.10552268],\n",
       "       [-2.35617109, -0.03120959],\n",
       "       [-2.50791723, -0.13905634],\n",
       "       [-2.469056  ,  0.13788731],\n",
       "       [-2.56239095,  0.37468456],\n",
       "       [-2.63982127,  0.31929007],\n",
       "       [-2.63284791, -0.19007583],\n",
       "       [-2.58846205, -0.19739308],\n",
       "       [-2.41007734,  0.41808001],\n",
       "       [-2.64763667,  0.81998263],\n",
       "       [-2.59715948,  1.10002193],\n",
       "       [-2.67384469, -0.1066917 ],\n",
       "       [-2.86699985,  0.0771931 ],\n",
       "       [-2.62522846,  0.60680001],\n",
       "       [-2.67384469, -0.1066917 ],\n",
       "       [-2.98184266, -0.48025005],\n",
       "       [-2.59032303,  0.23605934],\n",
       "       [-2.77013891,  0.27105942],\n",
       "       [-2.85221108, -0.93286537],\n",
       "       [-2.99829644, -0.33430757],\n",
       "       [-2.4055141 ,  0.19591726],\n",
       "       [-2.20883295,  0.44269603],\n",
       "       [-2.71566519, -0.24268148],\n",
       "       [-2.53757337,  0.51036755],\n",
       "       [-2.8403213 , -0.22057634],\n",
       "       [-2.54268576,  0.58628103],\n",
       "       [-2.70391231,  0.11501085],\n",
       "       [ 1.28479459,  0.68543919],\n",
       "       [ 0.93241075,  0.31919809],\n",
       "       [ 1.46406132,  0.50418983],\n",
       "       [ 0.18096721, -0.82560394],\n",
       "       [ 1.08713449,  0.07539039],\n",
       "       [ 0.64043675, -0.41732348],\n",
       "       [ 1.09522371,  0.28389121],\n",
       "       [-0.75146714, -1.00110751],\n",
       "       [ 1.04329778,  0.22895691],\n",
       "       [-0.01019007, -0.72057487],\n",
       "       [-0.5110862 , -1.26249195],\n",
       "       [ 0.51109806, -0.10228411],\n",
       "       [ 0.26233576, -0.5478933 ],\n",
       "       [ 0.98404455, -0.12436042],\n",
       "       [-0.174864  , -0.25181557],\n",
       "       [ 0.92757294,  0.46823621],\n",
       "       [ 0.65959279, -0.35197629],\n",
       "       [ 0.23454059, -0.33192183],\n",
       "       [ 0.94236171, -0.54182226],\n",
       "       [ 0.0432464 , -0.58148945],\n",
       "       [ 1.11624072, -0.08421401],\n",
       "       [ 0.35678657, -0.06682383],\n",
       "       [ 1.29646885, -0.32756152],\n",
       "       [ 0.92050265, -0.18239036],\n",
       "       [ 0.71400821,  0.15037915],\n",
       "       [ 0.89964086,  0.32961098],\n",
       "       [ 1.33104142,  0.24466952],\n",
       "       [ 1.55739627,  0.26739258],\n",
       "       [ 0.81245555, -0.16233157],\n",
       "       [-0.30733476, -0.36508661],\n",
       "       [-0.07034289, -0.70253793],\n",
       "       [-0.19188449, -0.67749054],\n",
       "       [ 0.13499495, -0.31170964],\n",
       "       [ 1.37873698, -0.42120514],\n",
       "       [ 0.58727485, -0.48328427],\n",
       "       [ 0.8072055 ,  0.19505396],\n",
       "       [ 1.22042897,  0.40803534],\n",
       "       [ 0.81286779, -0.370679  ],\n",
       "       [ 0.24519516, -0.26672804],\n",
       "       [ 0.16451343, -0.67966147],\n",
       "       [ 0.46303099, -0.66952655],\n",
       "       [ 0.89016045, -0.03381244],\n",
       "       [ 0.22887905, -0.40225762],\n",
       "       [-0.70708128, -1.00842476],\n",
       "       [ 0.35553304, -0.50321849],\n",
       "       [ 0.33112695, -0.21118014],\n",
       "       [ 0.37523823, -0.29162202],\n",
       "       [ 0.64169028,  0.01907118],\n",
       "       [-0.90846333, -0.75156873],\n",
       "       [ 0.29780791, -0.34701652],\n",
       "       [ 2.53172698, -0.01184224],\n",
       "       [ 1.41407223, -0.57492506],\n",
       "       [ 2.61648461,  0.34193529],\n",
       "       [ 1.97081495, -0.18112569],\n",
       "       [ 2.34975798, -0.04188255],\n",
       "       [ 3.39687992,  0.54716805],\n",
       "       [ 0.51938325, -1.19135169],\n",
       "       [ 2.9320051 ,  0.35237701],\n",
       "       [ 2.31967279, -0.24554817],\n",
       "       [ 2.91813423,  0.78038063],\n",
       "       [ 1.66193495,  0.2420384 ],\n",
       "       [ 1.80234045, -0.21615461],\n",
       "       [ 2.16537886,  0.21528028],\n",
       "       [ 1.34459422, -0.77641543],\n",
       "       [ 1.5852673 , -0.53930705],\n",
       "       [ 1.90474358,  0.11881899],\n",
       "       [ 1.94924878,  0.04073026],\n",
       "       [ 3.48876538,  1.17154454],\n",
       "       [ 3.79468686,  0.25326557],\n",
       "       [ 1.29832982, -0.76101394],\n",
       "       [ 2.42816726,  0.37678197],\n",
       "       [ 1.19809737, -0.60557896],\n",
       "       [ 3.49926548,  0.45677347],\n",
       "       [ 1.38766825, -0.20403099],\n",
       "       [ 2.27585365,  0.33338653],\n",
       "       [ 2.61419383,  0.55836695],\n",
       "       [ 1.25762518, -0.179137  ],\n",
       "       [ 1.29066965, -0.11642525],\n",
       "       [ 2.12285398, -0.21085488],\n",
       "       [ 2.3875644 ,  0.46251925],\n",
       "       [ 2.84096093,  0.37274259],\n",
       "       [ 3.2323429 ,  1.37052404],\n",
       "       [ 2.15873837, -0.21832553],\n",
       "       [ 1.4431026 , -0.14380129],\n",
       "       [ 1.77964011, -0.50146479],\n",
       "       [ 3.07652162,  0.68576444],\n",
       "       [ 2.14498686,  0.13890661],\n",
       "       [ 1.90486293,  0.04804751],\n",
       "       [ 1.16885347, -0.1645025 ],\n",
       "       [ 2.10765373,  0.37148225],\n",
       "       [ 2.31430339,  0.18260885],\n",
       "       [ 1.92245088,  0.40927118],\n",
       "       [ 1.41407223, -0.57492506],\n",
       "       [ 2.56332271,  0.2759745 ],\n",
       "       [ 2.41939122,  0.30350394],\n",
       "       [ 1.94401705,  0.18741522],\n",
       "       [ 1.52566363, -0.37502085],\n",
       "       [ 1.76404594,  0.07851919],\n",
       "       [ 1.90162908,  0.11587675],\n",
       "       [ 1.38966613, -0.28288671]])"
      ]
     },
     "execution_count": 22,
     "metadata": {},
     "output_type": "execute_result"
    }
   ],
   "source": [
    "pca = decomposition.PCA(n_components=2)\n",
    "iris_X_prime = pca.fit_transform(data)\n",
    "iris_X_prime"
   ]
  },
  {
   "cell_type": "code",
   "execution_count": 25,
   "metadata": {},
   "outputs": [
    {
     "data": {
      "text/plain": [
       "Text(0.5,1,'PCA 2 components')"
      ]
     },
     "execution_count": 25,
     "metadata": {},
     "output_type": "execute_result"
    },
    {
     "data": {
      "image/png": "[encoded data removed]",
      "text/plain": [
       "<matplotlib.figure.Figure at 0x104c5fad1d0>"
      ]
     },
     "metadata": {},
     "output_type": "display_data"
    }
   ],
   "source": [
    "import matplotlib.pyplot as plt\n",
    "%matplotlib inline\n",
    "f = plt.figure(figsize=(5,5))\n",
    "ax = plt.subplot(111)\n",
    "ax.scatter(iris_X_prime[:,0],iris_X_prime[:,1],c = target)\n",
    "ax.set_title('PCA 2 components')"
   ]
  },
  {
   "cell_type": "code",
   "execution_count": 28,
   "metadata": {},
   "outputs": [
    {
     "data": {
      "text/plain": [
       "0.9776317750248034"
      ]
     },
     "execution_count": 28,
     "metadata": {},
     "output_type": "execute_result"
    }
   ],
   "source": [
    "pca.explained_variance_ratio_.sum()"
   ]
  },
  {
   "cell_type": "code",
   "execution_count": 29,
   "metadata": {},
   "outputs": [
    {
     "data": {
      "text/plain": [
       "array([[-2.68420713,  0.32660731, -0.02151184],\n",
       "       [-2.71539062, -0.16955685, -0.20352143],\n",
       "       [-2.88981954, -0.13734561,  0.02470924],\n",
       "       [-2.7464372 , -0.31112432,  0.03767198],\n",
       "       [-2.72859298,  0.33392456,  0.0962297 ],\n",
       "       [-2.27989736,  0.74778271,  0.17432562],\n",
       "       [-2.82089068, -0.08210451,  0.26425109],\n",
       "       [-2.62648199,  0.17040535, -0.01580151],\n",
       "       [-2.88795857, -0.57079803,  0.02733541],\n",
       "       [-2.67384469, -0.1066917 , -0.1915333 ],\n",
       "       [-2.50652679,  0.65193501, -0.069275  ],\n",
       "       [-2.61314272,  0.02152063,  0.10765035],\n",
       "       [-2.78743398, -0.22774019, -0.20032779],\n",
       "       [-3.22520045, -0.50327991,  0.06841363],\n",
       "       [-2.64354322,  1.1861949 , -0.1445057 ],\n",
       "       [-2.38386932,  1.34475434,  0.28373066],\n",
       "       [-2.6225262 ,  0.81808967,  0.14531599],\n",
       "       [-2.64832273,  0.31913667,  0.03339425],\n",
       "       [-2.19907796,  0.87924409, -0.11452146],\n",
       "       [-2.58734619,  0.52047364,  0.21957209],\n",
       "       [-2.3105317 ,  0.39786782, -0.23369561],\n",
       "       [-2.54323491,  0.44003175,  0.21483637],\n",
       "       [-3.21585769,  0.14161557,  0.29961898],\n",
       "       [-2.30312854,  0.10552268,  0.04568004],\n",
       "       [-2.35617109, -0.03120959,  0.12940758],\n",
       "       [-2.50791723, -0.13905634, -0.24711634],\n",
       "       [-2.469056  ,  0.13788731,  0.10126308],\n",
       "       [-2.56239095,  0.37468456, -0.07235916],\n",
       "       [-2.63982127,  0.31929007, -0.13925337],\n",
       "       [-2.63284791, -0.19007583,  0.04646646],\n",
       "       [-2.58846205, -0.19739308, -0.07127507],\n",
       "       [-2.41007734,  0.41808001, -0.13838824],\n",
       "       [-2.64763667,  0.81998263,  0.2305856 ],\n",
       "       [-2.59715948,  1.10002193,  0.16358191],\n",
       "       [-2.67384469, -0.1066917 , -0.1915333 ],\n",
       "       [-2.86699985,  0.0771931 , -0.15684235],\n",
       "       [-2.62522846,  0.60680001, -0.26116316],\n",
       "       [-2.67384469, -0.1066917 , -0.1915333 ],\n",
       "       [-2.98184266, -0.48025005,  0.07972481],\n",
       "       [-2.59032303,  0.23605934, -0.07390124],\n",
       "       [-2.77013891,  0.27105942,  0.08424157],\n",
       "       [-2.85221108, -0.93286537, -0.34096149],\n",
       "       [-2.99829644, -0.33430757,  0.19900842],\n",
       "       [-2.4055141 ,  0.19591726,  0.27071707],\n",
       "       [-2.20883295,  0.44269603,  0.30348781],\n",
       "       [-2.71566519, -0.24268148, -0.09051561],\n",
       "       [-2.53757337,  0.51036755,  0.1719184 ],\n",
       "       [-2.8403213 , -0.22057634,  0.09006138],\n",
       "       [-2.54268576,  0.58628103, -0.01117527],\n",
       "       [-2.70391231,  0.11501085, -0.08269573],\n",
       "       [ 1.28479459,  0.68543919, -0.40612955],\n",
       "       [ 0.93241075,  0.31919809, -0.01712991],\n",
       "       [ 1.46406132,  0.50418983, -0.33826073],\n",
       "       [ 0.18096721, -0.82560394, -0.17708286],\n",
       "       [ 1.08713449,  0.07539039, -0.30654446],\n",
       "       [ 0.64043675, -0.41732348,  0.04118877],\n",
       "       [ 1.09522371,  0.28389121,  0.17002253],\n",
       "       [-0.75146714, -1.00110751,  0.01567219],\n",
       "       [ 1.04329778,  0.22895691, -0.41481457],\n",
       "       [-0.01019007, -0.72057487,  0.28343725],\n",
       "       [-0.5110862 , -1.26249195, -0.26648995],\n",
       "       [ 0.51109806, -0.10228411,  0.13232789],\n",
       "       [ 0.26233576, -0.5478933 , -0.69194158],\n",
       "       [ 0.98404455, -0.12436042, -0.06215743],\n",
       "       [-0.174864  , -0.25181557,  0.09365864],\n",
       "       [ 0.92757294,  0.46823621, -0.3132294 ],\n",
       "       [ 0.65959279, -0.35197629,  0.3283843 ],\n",
       "       [ 0.23454059, -0.33192183, -0.27028067],\n",
       "       [ 0.94236171, -0.54182226, -0.49734854],\n",
       "       [ 0.0432464 , -0.58148945, -0.23296356],\n",
       "       [ 1.11624072, -0.08421401,  0.45984423],\n",
       "       [ 0.35678657, -0.06682383, -0.22747218],\n",
       "       [ 1.29646885, -0.32756152, -0.34751321],\n",
       "       [ 0.92050265, -0.18239036, -0.23161142],\n",
       "       [ 0.71400821,  0.15037915, -0.32037233],\n",
       "       [ 0.89964086,  0.32961098, -0.31477148],\n",
       "       [ 1.33104142,  0.24466952, -0.52124492],\n",
       "       [ 1.55739627,  0.26739258, -0.16463849],\n",
       "       [ 0.81245555, -0.16233157,  0.03634358],\n",
       "       [-0.30733476, -0.36508661, -0.3153372 ],\n",
       "       [-0.07034289, -0.70253793, -0.24175804],\n",
       "       [-0.19188449, -0.67749054, -0.30391654],\n",
       "       [ 0.13499495, -0.31170964, -0.1749733 ],\n",
       "       [ 1.37873698, -0.42120514,  0.0154805 ],\n",
       "       [ 0.58727485, -0.48328427,  0.44458375],\n",
       "       [ 0.8072055 ,  0.19505396,  0.38945871],\n",
       "       [ 1.22042897,  0.40803534, -0.23656609],\n",
       "       [ 0.81286779, -0.370679  , -0.61287105],\n",
       "       [ 0.24519516, -0.26672804,  0.18956248],\n",
       "       [ 0.16451343, -0.67966147, -0.05779924],\n",
       "       [ 0.46303099, -0.66952655, -0.02405389],\n",
       "       [ 0.89016045, -0.03381244, -0.00976803],\n",
       "       [ 0.22887905, -0.40225762, -0.22736271],\n",
       "       [-0.70708128, -1.00842476, -0.10206934],\n",
       "       [ 0.35553304, -0.50321849,  0.01788947],\n",
       "       [ 0.33112695, -0.21118014,  0.08380907],\n",
       "       [ 0.37523823, -0.29162202,  0.07907336],\n",
       "       [ 0.64169028,  0.01907118, -0.20417288],\n",
       "       [-0.90846333, -0.75156873, -0.00773658],\n",
       "       [ 0.29780791, -0.34701652,  0.01217914],\n",
       "       [ 2.53172698, -0.01184224,  0.75845865],\n",
       "       [ 1.41407223, -0.57492506,  0.29639822],\n",
       "       [ 2.61648461,  0.34193529, -0.11214137],\n",
       "       [ 1.97081495, -0.18112569,  0.10653915],\n",
       "       [ 2.34975798, -0.04188255,  0.28411068],\n",
       "       [ 3.39687992,  0.54716805, -0.35187316],\n",
       "       [ 0.51938325, -1.19135169,  0.54668553],\n",
       "       [ 2.9320051 ,  0.35237701, -0.42369128],\n",
       "       [ 2.31967279, -0.24554817, -0.34992218],\n",
       "       [ 2.91813423,  0.78038063,  0.42173893],\n",
       "       [ 1.66193495,  0.2420384 ,  0.24281526],\n",
       "       [ 1.80234045, -0.21615461, -0.03769533],\n",
       "       [ 2.16537886,  0.21528028,  0.03314818],\n",
       "       [ 1.34459422, -0.77641543,  0.28286802],\n",
       "       [ 1.5852673 , -0.53930705,  0.63057049],\n",
       "       [ 1.90474358,  0.11881899,  0.48013808],\n",
       "       [ 1.94924878,  0.04073026,  0.04272909],\n",
       "       [ 3.48876538,  1.17154454,  0.12932008],\n",
       "       [ 3.79468686,  0.25326557, -0.51697072],\n",
       "       [ 1.29832982, -0.76101394, -0.34488705],\n",
       "       [ 2.42816726,  0.37678197,  0.21864907],\n",
       "       [ 1.19809737, -0.60557896,  0.51264077],\n",
       "       [ 3.49926548,  0.45677347, -0.57691019],\n",
       "       [ 1.38766825, -0.20403099, -0.06351132],\n",
       "       [ 2.27585365,  0.33338653,  0.28467815],\n",
       "       [ 2.61419383,  0.55836695, -0.20842335],\n",
       "       [ 1.25762518, -0.179137  ,  0.04697781],\n",
       "       [ 1.29066965, -0.11642525,  0.23161356],\n",
       "       [ 2.12285398, -0.21085488,  0.15351589],\n",
       "       [ 2.3875644 ,  0.46251925, -0.45202396],\n",
       "       [ 2.84096093,  0.37274259, -0.50103154],\n",
       "       [ 3.2323429 ,  1.37052404, -0.11844878],\n",
       "       [ 2.15873837, -0.21832553,  0.20842198],\n",
       "       [ 1.4431026 , -0.14380129, -0.15408297],\n",
       "       [ 1.77964011, -0.50146479, -0.17581119],\n",
       "       [ 3.07652162,  0.68576444, -0.33642274],\n",
       "       [ 2.14498686,  0.13890661,  0.73418474],\n",
       "       [ 1.90486293,  0.04804751,  0.16047063],\n",
       "       [ 1.16885347, -0.1645025 ,  0.28246088],\n",
       "       [ 2.10765373,  0.37148225,  0.02743786],\n",
       "       [ 2.31430339,  0.18260885,  0.3228604 ],\n",
       "       [ 1.92245088,  0.40927118,  0.11549282],\n",
       "       [ 1.41407223, -0.57492506,  0.29639822],\n",
       "       [ 2.56332271,  0.2759745 ,  0.29125361],\n",
       "       [ 2.41939122,  0.30350394,  0.50430252],\n",
       "       [ 1.94401705,  0.18741522,  0.17930287],\n",
       "       [ 1.52566363, -0.37502085, -0.12063644],\n",
       "       [ 1.76404594,  0.07851919,  0.13078405],\n",
       "       [ 1.90162908,  0.11587675,  0.72287356],\n",
       "       [ 1.38966613, -0.28288671,  0.36231783]])"
      ]
     },
     "execution_count": 29,
     "metadata": {},
     "output_type": "execute_result"
    }
   ],
   "source": [
    "pca = decomposition.PCA(n_components=0.98)\n",
    "iris_pca = pca.fit_transform(data)\n",
    "iris_pca"
   ]
  },
  {
   "cell_type": "code",
   "execution_count": 36,
   "metadata": {},
   "outputs": [
    {
     "data": {
      "text/plain": [
       "0.9948169145498101"
      ]
     },
     "execution_count": 36,
     "metadata": {},
     "output_type": "execute_result"
    }
   ],
   "source": [
    "pca.explained_variance_ratio_.sum()"
   ]
  },
  {
   "cell_type": "code",
   "execution_count": 39,
   "metadata": {
    "collapsed": true
   },
   "outputs": [],
   "source": [
    "from sklearn import datasets\n",
    "iris = datasets.load_iris()\n",
    "data = iris.data\n",
    "target = iris.target"
   ]
  },
  {
   "cell_type": "code",
   "execution_count": 41,
   "metadata": {},
   "outputs": [
    {
     "data": {
      "text/plain": [
       "array([[-1.33125848, -0.55846779],\n",
       "       [-1.33914102,  0.00509715],\n",
       "       [-1.40258715,  0.307983  ],\n",
       "       [-1.29839497,  0.71854288],\n",
       "       [-1.33587575, -0.36533259],\n",
       "       [-1.15235079, -1.04445677],\n",
       "       [-1.35129942,  0.5694537 ],\n",
       "       [-1.28127788, -0.23129246],\n",
       "       [-1.36106852,  1.12273989],\n",
       "       [-1.28700914,  0.05287515],\n",
       "       [-1.26416079, -1.1811278 ],\n",
       "       [-1.23591455,  0.28901806],\n",
       "       [-1.34545171,  0.21328139],\n",
       "       [-1.53020711,  1.05544269],\n",
       "       [-1.40967846, -2.38111677],\n",
       "       [-1.24846728, -1.9932538 ],\n",
       "       [-1.36919712, -1.37799496],\n",
       "       [-1.32937192, -0.54818903],\n",
       "       [-1.14077182, -1.6847967 ],\n",
       "       [-1.27573976, -0.54078787],\n",
       "       [-1.15515819, -0.93837532],\n",
       "       [-1.27366006, -0.50518132],\n",
       "       [-1.5704186 ,  0.17498117],\n",
       "       [-1.16257775, -0.22682229],\n",
       "       [-1.0732798 ,  0.53917171],\n",
       "       [-1.22629372, -0.04659674],\n",
       "       [-1.22329317, -0.1273504 ],\n",
       "       [-1.27262276, -0.69354623],\n",
       "       [-1.32664121, -0.75160299],\n",
       "       [-1.2399524 ,  0.55813664],\n",
       "       [-1.23533512,  0.36500145],\n",
       "       [-1.25980824, -1.0845869 ],\n",
       "       [-1.27566818, -0.85579175],\n",
       "       [-1.31491396, -1.6096143 ],\n",
       "       [-1.28700914,  0.05287515],\n",
       "       [-1.44352635, -0.43079052],\n",
       "       [-1.36777355, -1.51570429],\n",
       "       [-1.28700914,  0.05287515],\n",
       "       [-1.41547325,  1.01402755],\n",
       "       [-1.27685375, -0.44975545],\n",
       "       [-1.38800763, -0.41311059],\n",
       "       [-1.40781056,  0.98313787],\n",
       "       [-1.41585954,  0.96337196],\n",
       "       [-1.21971319, -0.13212068],\n",
       "       [-1.05700686, -0.19697092],\n",
       "       [-1.34167859,  0.2338389 ],\n",
       "       [-1.22341474, -0.46768208],\n",
       "       [-1.35279969,  0.60983053],\n",
       "       [-1.26858492, -0.96266481],\n",
       "       [-1.33529632, -0.28934921],\n",
       "       [ 0.56500043, -1.75824604],\n",
       "       [ 0.43191905, -0.60395845],\n",
       "       [ 0.67107918, -1.33740741],\n",
       "       [ 0.11900913,  1.15267834],\n",
       "       [ 0.49132733, -0.63772572],\n",
       "       [ 0.39794959,  1.00603613],\n",
       "       [ 0.53761151, -0.2337754 ],\n",
       "       [-0.29286957,  1.82360038],\n",
       "       [ 0.4917852 , -0.90207401],\n",
       "       [ 0.05263914,  1.63365034],\n",
       "       [-0.1792497 ,  1.87321765],\n",
       "       [ 0.24754993,  0.28885844],\n",
       "       [ 0.13566323,  0.05485492],\n",
       "       [ 0.5257627 ,  0.28390424],\n",
       "       [-0.09457194,  0.4487104 ],\n",
       "       [ 0.38928643, -1.32768293],\n",
       "       [ 0.3969123 ,  1.19440105],\n",
       "       [ 0.18006084,  0.44852647],\n",
       "       [ 0.42500222,  0.08624546],\n",
       "       [ 0.06506226,  0.7796177 ],\n",
       "       [ 0.57809284,  0.76934641],\n",
       "       [ 0.14458819, -0.28473856],\n",
       "       [ 0.64569326,  0.12533728],\n",
       "       [ 0.52218272,  0.28867451],\n",
       "       [ 0.32030219, -0.71530168],\n",
       "       [ 0.38505545, -1.08389214],\n",
       "       [ 0.61113633, -1.13662435],\n",
       "       [ 0.72040877, -0.77121158],\n",
       "       [ 0.41480196,  0.34587689],\n",
       "       [-0.14943965,  0.19200997],\n",
       "       [ 0.00661969,  0.94002394],\n",
       "       [-0.04947845,  0.84636063],\n",
       "       [ 0.0754108 ,  0.30231489],\n",
       "       [ 0.74234432,  0.90711852],\n",
       "       [ 0.38806404,  1.63132703],\n",
       "       [ 0.41572281,  0.22951668],\n",
       "       [ 0.55380775, -1.06725053],\n",
       "       [ 0.3712485 , -0.26148738],\n",
       "       [ 0.17629284,  0.84030534],\n",
       "       [ 0.11862284,  1.10202275],\n",
       "       [ 0.33338948,  1.39995439],\n",
       "       [ 0.47135797,  0.17519189],\n",
       "       [ 0.12981552,  0.41102724],\n",
       "       [-0.28825229,  1.63046518],\n",
       "       [ 0.23108385,  0.99967327],\n",
       "       [ 0.23304199,  0.69494815],\n",
       "       [ 0.2351217 ,  0.7305547 ],\n",
       "       [ 0.31145393, -0.2783757 ],\n",
       "       [-0.44496264,  1.12147172],\n",
       "       [ 0.18110326,  0.67249794],\n",
       "       [ 1.25934116,  0.94273253],\n",
       "       [ 0.73915574,  1.37488076],\n",
       "       [ 1.23355579, -0.85348758],\n",
       "       [ 1.03006146,  0.63855421],\n",
       "       [ 1.15468599,  0.38418457],\n",
       "       [ 1.63515753, -1.36211069],\n",
       "       [ 0.37068223,  2.87083845],\n",
       "       [ 1.45378385, -0.96238384],\n",
       "       [ 1.15695372,  0.03278253],\n",
       "       [ 1.35279047, -1.0160332 ],\n",
       "       [ 0.77104549, -0.27072037],\n",
       "       [ 0.87412368,  0.23087193],\n",
       "       [ 1.00343706, -0.5316368 ],\n",
       "       [ 0.68279287,  1.57089355],\n",
       "       [ 0.7483954 ,  1.40094676],\n",
       "       [ 0.88070421,  0.14534799],\n",
       "       [ 0.98450499,  0.0929159 ],\n",
       "       [ 1.69413466, -1.68953272],\n",
       "       [ 1.8067621 , -1.20855135],\n",
       "       [ 0.68721188,  0.94009418],\n",
       "       [ 1.1196712 , -0.61342877],\n",
       "       [ 0.62357773,  1.62998861],\n",
       "       [ 1.69229297, -1.4568123 ],\n",
       "       [ 0.65096666,  0.10551797],\n",
       "       [ 1.10685667, -0.2223881 ],\n",
       "       [ 1.28614553, -1.07005788],\n",
       "       [ 0.5921378 ,  0.21526862],\n",
       "       [ 0.64153897,  0.46646057],\n",
       "       [ 1.04033842,  0.47625529],\n",
       "       [ 1.17433553, -1.2067289 ],\n",
       "       [ 1.35186451, -1.31200938],\n",
       "       [ 1.53657504, -2.39716985],\n",
       "       [ 1.04222498,  0.48653405],\n",
       "       [ 0.753537  ,  0.216123  ],\n",
       "       [ 1.01424639,  1.11034854],\n",
       "       [ 1.37229686, -1.9769389 ],\n",
       "       [ 1.04041511,  0.57358779],\n",
       "       [ 0.97988772,  0.28605109],\n",
       "       [ 0.58290325,  0.60153901],\n",
       "       [ 0.95345647, -0.85881213],\n",
       "       [ 1.05869106, -0.22428079],\n",
       "       [ 0.79459483, -1.08840826],\n",
       "       [ 0.73915574,  1.37488076],\n",
       "       [ 1.22367024, -0.22819668],\n",
       "       [ 1.11440292, -0.18127307],\n",
       "       [ 0.8401513 , -0.54276994],\n",
       "       [ 0.70745109,  0.24983686],\n",
       "       [ 0.82564336, -0.13668023],\n",
       "       [ 0.92568125,  0.61500293],\n",
       "       [ 0.74111388,  1.07015564]])"
      ]
     },
     "execution_count": 41,
     "metadata": {},
     "output_type": "execute_result"
    }
   ],
   "source": [
    "from sklearn.decomposition import FactorAnalysis\n",
    "fa = FactorAnalysis(n_components=2)\n",
    "iris_fa = fa.fit_transform(data)\n",
    "iris_fa\n"
   ]
  },
  {
   "cell_type": "code",
   "execution_count": 48,
   "metadata": {},
   "outputs": [
    {
     "data": {
      "text/plain": [
       "Text(0.5,1,'PCA 2 components')"
      ]
     },
     "execution_count": 48,
     "metadata": {},
     "output_type": "execute_result"
    },
    {
     "data": {
      "image/png": "[encoded data removed]",
      "text/plain": [
       "<matplotlib.figure.Figure at 0x104c71e9550>"
      ]
     },
     "metadata": {},
     "output_type": "display_data"
    }
   ],
   "source": [
    "import matplotlib.pyplot as plt\n",
    "%matplotlib inline\n",
    "f = plt.figure(figsize = (10,10))\n",
    "ax = plt.subplot(121)\n",
    "ax.scatter(iris_fa[:,0],iris_fa[:,1],c=target)\n",
    "ax.set_title('FactorAnalysis')\n",
    "bx = plt.subplot(122)\n",
    "bx.scatter(iris_X_prime[:,0],iris_X_prime[:,1],c = target)\n",
    "bx.set_title('PCA 2 components')"
   ]
  },
  {
   "cell_type": "code",
   "execution_count": 49,
   "metadata": {},
   "outputs": [
    {
     "data": {
      "text/plain": [
       "array([[  9.14453527,  -5.32213064,  -4.87398131,   1.40402593],\n",
       "       [ -5.32213064,   9.64903582,   3.05152781,   0.28863511],\n",
       "       [ -4.87398131,   3.05152781,   7.00328558, -10.50029417],\n",
       "       [  1.40402593,   0.28863511, -10.50029417,  23.91329529]])"
      ]
     },
     "execution_count": 49,
     "metadata": {},
     "output_type": "execute_result"
    }
   ],
   "source": [
    "fa.get_precision()"
   ]
  },
  {
   "cell_type": "code",
   "execution_count": 50,
   "metadata": {},
   "outputs": [
    {
     "data": {
      "text/plain": [
       "[-709.7119389328717,\n",
       " -529.2269366397707,\n",
       " -468.68596702535496,\n",
       " -434.50111595315144,\n",
       " -417.54654779012645,\n",
       " -409.75794674407143,\n",
       " -405.7972871567956,\n",
       " -403.3412731498119,\n",
       " -401.6127000941298,\n",
       " -400.33231859132303,\n",
       " -399.35529493573847,\n",
       " -398.5888394754141,\n",
       " -397.9718567629027,\n",
       " -397.4640267736743,\n",
       " -397.0382468240354,\n",
       " -396.6757675668623,\n",
       " -396.3632163543318,\n",
       " -396.0907845789153,\n",
       " -395.85110144495223,\n",
       " -395.6385127802104,\n",
       " -395.4486042331577,\n",
       " -395.2778765530876,\n",
       " -395.1235186120659,\n",
       " -394.98324514724084,\n",
       " -394.85517849969585,\n",
       " -394.7377609467497,\n",
       " -394.62968873016973,\n",
       " -394.5298617362236,\n",
       " -394.437344639891,\n",
       " -394.3513365610487,\n",
       " -394.2711471183668,\n",
       " -394.19617734621517,\n",
       " -394.1259043454475,\n",
       " -394.0598688282215,\n",
       " -393.9976649256912,\n",
       " -393.93893177909234,\n",
       " -393.88334654783637,\n",
       " -393.83061855169626,\n",
       " -393.7804843283215,\n",
       " -393.73270343646817,\n",
       " -393.68705487218426,\n",
       " -393.64333399765377,\n",
       " -393.6013499039564,\n",
       " -393.56092315155115,\n",
       " -393.521883847462,\n",
       " -393.48407003218074,\n",
       " -393.4473263637093,\n",
       " -393.4115030916039,\n",
       " -393.37645532640823,\n",
       " -393.3420426114878,\n",
       " -393.3081288085508,\n",
       " -393.27458230465936,\n",
       " -393.241276544454,\n",
       " -393.2080908780373,\n",
       " -393.17491170305846,\n",
       " -393.1416338533322,\n",
       " -393.1081621707237,\n",
       " -393.07441316619696,\n",
       " -393.0403166608104,\n",
       " -393.00581727812056,\n",
       " -392.9708756584918,\n",
       " -392.9354692710432,\n",
       " -392.89959272378195,\n",
       " -392.863257507572,\n",
       " -392.8264911524019,\n",
       " -392.7893358279029,\n",
       " -392.7518464619371,\n",
       " -392.71408849196456,\n",
       " -392.6761353866708,\n",
       " -392.6380660837768,\n",
       " -392.59996248212633,\n",
       " -392.5619071079608,\n",
       " -392.52398104498906,\n",
       " -392.48626218901046,\n",
       " -392.44882385425484,\n",
       " -392.41173373387676,\n",
       " -392.37505319431125,\n",
       " -392.33883686947354,\n",
       " -392.303132510919,\n",
       " -392.26798104806136,\n",
       " -392.2334168120111,\n",
       " -392.19946788014965,\n",
       " -392.16615650363804,\n",
       " -392.1334995865417,\n",
       " -392.1015091894856,\n",
       " -392.07019303880395,\n",
       " -392.0395550245564,\n",
       " -392.00959567746156,\n",
       " -391.98031261633815,\n",
       " -391.9517009628061,\n",
       " -391.9237537197382,\n",
       " -391.89646211343364,\n",
       " -391.86981590030683,\n",
       " -391.8438036386186,\n",
       " -391.81841292940146,\n",
       " -391.7936306259998,\n",
       " -391.76944301719885,\n",
       " -391.74583598572417,\n",
       " -391.7227951437357,\n",
       " -391.7003059494434,\n",
       " -391.67835380541874,\n",
       " -391.6569241420521,\n",
       " -391.63600248653046,\n",
       " -391.61557452119087,\n",
       " -391.5956261303052,\n",
       " -391.576143438723,\n",
       " -391.5571128430517,\n",
       " -391.53852103489834,\n",
       " -391.5203550199568,\n",
       " -391.5026021312834,\n",
       " -391.48525003872567,\n",
       " -391.4682867551516,\n",
       " -391.45170063922876,\n",
       " -391.4354803963908,\n",
       " -391.41961507690706,\n",
       " -391.40409407305,\n",
       " -391.38890711461676,\n",
       " -391.3740442632428,\n",
       " -391.35949590560557,\n",
       " -391.3452527470799,\n",
       " -391.33130580268397,\n",
       " -391.31764639015915,\n",
       " -391.30426612055425,\n",
       " -391.29115689038,\n",
       " -391.27831087250644,\n",
       " -391.26572050736905,\n",
       " -391.25337849431605,\n",
       " -391.24127778302454,\n",
       " -391.22941156498035,\n",
       " -391.21777326489484,\n",
       " -391.20635653248075,\n",
       " -391.1951552347699,\n",
       " -391.1841634476591,\n",
       " -391.17337544905786,\n",
       " -391.16278571086167,\n",
       " -391.1523888915912,\n",
       " -391.1421798305656,\n",
       " -391.1321535395611,\n",
       " -391.12230519797686]"
      ]
     },
     "execution_count": 50,
     "metadata": {},
     "output_type": "execute_result"
    }
   ],
   "source": [
    "fa.loglike_"
   ]
  },
  {
   "cell_type": "code",
   "execution_count": 52,
   "metadata": {},
   "outputs": [
    {
     "data": {
      "text/plain": [
       "139"
      ]
     },
     "execution_count": 52,
     "metadata": {},
     "output_type": "execute_result"
    }
   ],
   "source": [
    "fa.n_iter_ "
   ]
  },
  {
   "cell_type": "code",
   "execution_count": 53,
   "metadata": {},
   "outputs": [
    {
     "name": "stderr",
     "output_type": "stream",
     "text": [
      "D:\\Users\\13884\\lib\\site-packages\\ipykernel_launcher.py:4: RuntimeWarning: covariance is not positive-semidefinite.\n",
      "  after removing the cwd from sys.path.\n",
      "D:\\Users\\13884\\lib\\site-packages\\ipykernel_launcher.py:7: RuntimeWarning: covariance is not positive-semidefinite.\n",
      "  import sys\n",
      "D:\\Users\\13884\\lib\\site-packages\\ipykernel_launcher.py:11: RuntimeWarning: covariance is not positive-semidefinite.\n",
      "  # This is added back by InteractiveShellApp.init_path()\n"
     ]
    }
   ],
   "source": [
    "import numpy as np\n",
    "A1_mean = [1, 1]\n",
    "A1_cov = [[2, .99], [1, 1]]\n",
    "A1 = np.random.multivariate_normal(A1_mean, A1_cov, 50)\n",
    "A2_mean = [5, 5]\n",
    "A2_cov = [[2, .99], [1, 1]]\n",
    "A2 = np.random.multivariate_normal(A2_mean, A2_cov, 50)\n",
    "A = np.vstack((A1, A2))\n",
    "B_mean = [5, 0]\n",
    "B_cov = [[.5, -1], [.9, -.5]]\n",
    "B = np.random.multivariate_normal(B_mean, B_cov, 100)"
   ]
  },
  {
   "cell_type": "code",
   "execution_count": 63,
   "metadata": {},
   "outputs": [
    {
     "data": {
      "text/plain": [
       "<matplotlib.collections.PathCollection at 0x104c2c7f940>"
      ]
     },
     "execution_count": 63,
     "metadata": {},
     "output_type": "execute_result"
    },
    {
     "data": {
      "image/png": "[encoded data removed]",
      "text/plain": [
       "<matplotlib.figure.Figure at 0x104c71c6160>"
      ]
     },
     "metadata": {},
     "output_type": "display_data"
    }
   ],
   "source": [
    "import matplotlib.pyplot as plt\n",
    "%matplotlib inline\n",
    "f = plt.figure(figsize = (10,10))\n",
    "ax = plt.subplot(111)\n",
    "ax.scatter(A[:, 0], A[:, 1], color='r')\n",
    "ax.scatter(A2[:, 0], A2[:, 1], color='r')\n",
    "ax.scatter(B[:, 0], B[:, 1], color='b')"
   ]
  },
  {
   "cell_type": "code",
   "execution_count": 64,
   "metadata": {
    "collapsed": true
   },
   "outputs": [],
   "source": [
    "from sklearn.decomposition import KernelPCA\n",
    "kpca = KernelPCA(n_components=1, kernel='cosine')\n",
    "AB = np.vstack((A,B))\n",
    "AB_kpca = kpca.fit_transform(AB)\n"
   ]
  },
  {
   "cell_type": "code",
   "execution_count": 69,
   "metadata": {},
   "outputs": [
    {
     "data": {
      "text/plain": [
       "array([38.4724927])"
      ]
     },
     "execution_count": 69,
     "metadata": {},
     "output_type": "execute_result"
    }
   ],
   "source": [
    "AB_kpca.shape\n",
    "kpca.lambdas_\n"
   ]
  },
  {
   "cell_type": "code",
   "execution_count": 71,
   "metadata": {},
   "outputs": [
    {
     "data": {
      "image/png": "[encoded data removed]",
      "text/plain": [
       "<matplotlib.figure.Figure at 0x104c781b4e0>"
      ]
     },
     "metadata": {},
     "output_type": "display_data"
    }
   ],
   "source": [
    "A_color = np.array(['r']*len(B))\n",
    "B_color = np.array(['b']*len(B))\n",
    "colors = np.hstack((A_color, B_color))\n",
    "f = plt.figure(figsize=(10, 4))\n",
    "ax = f.add_subplot(111)\n",
    "ax.set_title(\"Cosine KPCA 1 Dimension\")\n",
    "ax.scatter(AB_kpca, np.zeros_like(AB_kpca), color=colors);"
   ]
  },
  {
   "cell_type": "code",
   "execution_count": null,
   "metadata": {
    "collapsed": true
   },
   "outputs": [],
   "source": [
    "from sklearn.decomposition import PCA\n",
    "pca = PCA(n_components=1)\n",
    "iris_pca = pca.fit_transform(data)\n",
    "f = plt.figure(figsize=(10,))"
   ]
  },
  {
   "cell_type": "code",
   "execution_count": 1,
   "metadata": {
    "collapsed": true
   },
   "outputs": [],
   "source": [
    "from sklearn import datasets\n",
    "iris = datasets.load_iris()\n",
    "data = iris.data\n",
    "target = iris.target\n"
   ]
  },
  {
   "cell_type": "code",
   "execution_count": 4,
   "metadata": {},
   "outputs": [
    {
     "data": {
      "text/plain": [
       "array([[5.91220352, 2.30344211],\n",
       "       [5.57207573, 1.97383104],\n",
       "       [5.4464847 , 2.09653267],\n",
       "       [5.43601924, 1.87168085],\n",
       "       [5.87506555, 2.32934799]])"
      ]
     },
     "execution_count": 4,
     "metadata": {},
     "output_type": "execute_result"
    }
   ],
   "source": [
    "from sklearn.decomposition import TruncatedSVD\n",
    "svd = TruncatedSVD(2)\n",
    "iris_svd = svd.fit_transform(data)\n",
    "iris_svd[:5]"
   ]
  },
  {
   "cell_type": "code",
   "execution_count": 5,
   "metadata": {},
   "outputs": [
    {
     "data": {
      "text/plain": [
       "array([[5.1, 3.5, 1.4, 0.2],\n",
       "       [4.9, 3. , 1.4, 0.2],\n",
       "       [4.7, 3.2, 1.3, 0.2],\n",
       "       [4.6, 3.1, 1.5, 0.2],\n",
       "       [5. , 3.6, 1.4, 0.2]])"
      ]
     },
     "execution_count": 5,
     "metadata": {},
     "output_type": "execute_result"
    }
   ],
   "source": [
    "data[:5]"
   ]
  },
  {
   "cell_type": "code",
   "execution_count": 11,
   "metadata": {},
   "outputs": [
    {
     "data": {
      "text/plain": [
       "Text(0.5,1,'Truncated SVD, 2 Components')"
      ]
     },
     "execution_count": 11,
     "metadata": {},
     "output_type": "execute_result"
    },
    {
     "data": {
      "image/png": "[encoded data removed]",
      "text/plain": [
       "<matplotlib.figure.Figure at 0x1df4b0cceb8>"
      ]
     },
     "metadata": {},
     "output_type": "display_data"
    }
   ],
   "source": [
    "%matplotlib inline\n",
    "import matplotlib.pyplot as plt\n",
    "f = plt.figure(figsize=(5,5))\n",
    "ax = f.add_subplot(111)\n",
    "ax.scatter(iris_svd[:,0],iris_svd[:,1], c = target)\n",
    "ax.set_title(\"Truncated SVD, 2 Components\")"
   ]
  },
  {
   "cell_type": "code",
   "execution_count": 12,
   "metadata": {},
   "outputs": [
    {
     "data": {
      "text/plain": [
       "array([[1, 2],\n",
       "       [1, 3],\n",
       "       [1, 4]])"
      ]
     },
     "execution_count": 12,
     "metadata": {},
     "output_type": "execute_result"
    }
   ],
   "source": [
    "import numpy as np\n",
    "from scipy.linalg import svd\n",
    "D = np.array([[1, 2], [1, 3], [1, 4]])\n",
    "D"
   ]
  },
  {
   "cell_type": "code",
   "execution_count": 13,
   "metadata": {},
   "outputs": [
    {
     "data": {
      "text/plain": [
       "((3, 2), (2,), (2, 2))"
      ]
     },
     "execution_count": 13,
     "metadata": {},
     "output_type": "execute_result"
    }
   ],
   "source": [
    "U, S, V = svd(D, full_matrices=False)\n",
    "U.shape, S.shape, V.shape"
   ]
  },
  {
   "cell_type": "code",
   "execution_count": 17,
   "metadata": {},
   "outputs": [
    {
     "name": "stdout",
     "output_type": "stream",
     "text": [
      "[[-0.39133557  0.8247362 ]\n",
      " [-0.5605708   0.13817999]\n",
      " [-0.72980603 -0.54837623]] [5.64015854 0.43429448] [[-0.29816758 -0.95451354]\n",
      " [ 0.95451354 -0.29816758]]\n"
     ]
    }
   ],
   "source": [
    "print(U,S,V)"
   ]
  },
  {
   "cell_type": "code",
   "execution_count": 18,
   "metadata": {},
   "outputs": [
    {
     "data": {
      "text/plain": [
       "array([[5.64015854, 0.        ],\n",
       "       [0.        , 0.43429448]])"
      ]
     },
     "execution_count": 18,
     "metadata": {},
     "output_type": "execute_result"
    }
   ],
   "source": [
    "np.diag(S)"
   ]
  },
  {
   "cell_type": "code",
   "execution_count": 19,
   "metadata": {},
   "outputs": [
    {
     "data": {
      "text/plain": [
       "array([[1., 2.],\n",
       "       [1., 3.],\n",
       "       [1., 4.]])"
      ]
     },
     "execution_count": 19,
     "metadata": {},
     "output_type": "execute_result"
    }
   ],
   "source": [
    "np.dot(U.dot(np.diag(S)), V)"
   ]
  },
  {
   "cell_type": "code",
   "execution_count": 21,
   "metadata": {
    "collapsed": true
   },
   "outputs": [],
   "source": [
    "import numpy as np\n",
    "from sklearn import datasets\n",
    "iris = datasets.load_iris()\n",
    "data = iris.data\n",
    "target = iris.target"
   ]
  },
  {
   "cell_type": "code",
   "execution_count": 23,
   "metadata": {},
   "outputs": [
    {
     "data": {
      "text/plain": [
       "array([[0.        , 6.34476574, 0.        ],\n",
       "       [0.        , 5.83576461, 0.        ],\n",
       "       [0.        , 6.32038375, 0.        ],\n",
       "       [0.        , 5.89318572, 0.        ],\n",
       "       [0.        , 5.45222715, 0.        ]])"
      ]
     },
     "execution_count": 23,
     "metadata": {},
     "output_type": "execute_result"
    }
   ],
   "source": [
    "from sklearn.decomposition import DictionaryLearning\n",
    "d1 = DictionaryLearning(3)\n",
    "iris_transform = d1.fit_transform(data[::2])\n",
    "iris_transform[:5]"
   ]
  },
  {
   "cell_type": "code",
   "execution_count": 39,
   "metadata": {},
   "outputs": [
    {
     "data": {
      "text/plain": [
       "<mpl_toolkits.mplot3d.art3d.Path3DCollection at 0x1df4b82c4e0>"
      ]
     },
     "execution_count": 39,
     "metadata": {},
     "output_type": "execute_result"
    },
    {
     "data": {
      "image/png": "[encoded data removed]",
      "text/plain": [
       "<matplotlib.figure.Figure at 0x1df4b7af9e8>"
      ]
     },
     "metadata": {},
     "output_type": "display_data"
    }
   ],
   "source": [
    "%matplotlib inline\n",
    "import matplotlib.pyplot as plt\n",
    "from mpl_toolkits.mplot3d import Axes3D\n",
    "colors = np.array(list('rgb'))\n",
    "f = plt.figure()\n",
    "ax = f.add_subplot(111, projection='3d')\n",
    "ax.set_title(\"Training Set\")\n",
    "ax.scatter(iris_transform[:, 0], iris_transform[:, 1], iris_transform[:, 2], color=colors[target[::2]])"
   ]
  },
  {
   "cell_type": "code",
   "execution_count": 34,
   "metadata": {
    "collapsed": true
   },
   "outputs": [],
   "source": [
    "transformed = d1.transform(data[1::2])"
   ]
  },
  {
   "cell_type": "code",
   "execution_count": 40,
   "metadata": {},
   "outputs": [
    {
     "data": {
      "text/plain": [
       "<mpl_toolkits.mplot3d.art3d.Path3DCollection at 0x1df4b064668>"
      ]
     },
     "execution_count": 40,
     "metadata": {},
     "output_type": "execute_result"
    },
    {
     "data": {
      "image/png": "[encoded data removed]",
      "text/plain": [
       "<matplotlib.figure.Figure at 0x1df4b83d240>"
      ]
     },
     "metadata": {},
     "output_type": "display_data"
    }
   ],
   "source": [
    "colors = np.array(list('rgb'))\n",
    "f = plt.figure()\n",
    "ax = f.add_subplot(111, projection='3d')\n",
    "ax.set_title(\"Training Set\")\n",
    "ax.scatter(transformed[:, 0], transformed[:, 1], transformed[:, 2], color=colors[target[1::2]])"
   ]
  },
  {
   "cell_type": "code",
   "execution_count": 41,
   "metadata": {},
   "outputs": [
    {
     "data": {
      "text/plain": [
       "array([[5.1, 3.5, 1.4, 0.2],\n",
       "       [nan, nan, 1.4, 0.2],\n",
       "       [4.7, 3.2, 1.3, 0.2],\n",
       "       [nan, 3.1, 1.5, nan],\n",
       "       [5. , 3.6, nan, nan],\n",
       "       [5.4, 3.9, 1.7, nan],\n",
       "       [4.6, 3.4, 1.4, 0.3],\n",
       "       [5. , 3.4, 1.5, 0.2],\n",
       "       [4.4, nan, 1.4, 0.2],\n",
       "       [4.9, 3.1, 1.5, 0.1]])"
      ]
     },
     "execution_count": 41,
     "metadata": {},
     "output_type": "execute_result"
    }
   ],
   "source": [
    "from sklearn import datasets\n",
    "import numpy as np\n",
    "iris = datasets.load_iris()\n",
    "data = iris.data\n",
    "target = iris.target\n",
    "mask = np.random.binomial(1, 0.25, iris.data.shape).astype(bool)\n",
    "data[mask] = np.nan\n",
    "data[:10]"
   ]
  },
  {
   "cell_type": "code",
   "execution_count": 46,
   "metadata": {},
   "outputs": [
    {
     "data": {
      "text/plain": [
       "array([[-2.68,  0.18, -0.15,  0.18],\n",
       "       [-2.43,  0.75, -0.23, -0.34],\n",
       "       [-2.88, -0.21, -0.06, -0.06],\n",
       "       [-2.05,  0.76,  0.64, -0.24],\n",
       "       [-0.3 , -0.64,  0.09,  0.64],\n",
       "       [-2.06,  0.47,  0.61,  0.63],\n",
       "       [-2.8 , -0.3 ,  0.01,  0.17],\n",
       "       [-2.62,  0.03, -0.16,  0.11],\n",
       "       [-2.87, -0.55, -0.04, -0.13],\n",
       "       [-2.66, -0.12, -0.23, -0.17]])"
      ]
     },
     "execution_count": 46,
     "metadata": {},
     "output_type": "execute_result"
    }
   ],
   "source": [
    "from sklearn import pipeline, preprocessing, decomposition\n",
    "pca = decomposition.PCA()\n",
    "imputer = preprocessing.Imputer()\n",
    "pipe = pipeline.Pipeline([('imputer', imputer), ('pca', pca)])\n",
    "np.set_printoptions(2)\n",
    "iris_transformed = pipe.fit_transform(data)\n",
    "iris_transformed[:10]"
   ]
  },
  {
   "cell_type": "code",
   "execution_count": 48,
   "metadata": {},
   "outputs": [
    {
     "data": {
      "text/plain": [
       "[('imputer',\n",
       "  Imputer(axis=0, copy=True, missing_values='NaN', strategy='mean', verbose=0)),\n",
       " ('pca',\n",
       "  PCA(copy=True, iterated_power='auto', n_components=None, random_state=None,\n",
       "    svd_solver='auto', tol=0.0, whiten=False))]"
      ]
     },
     "execution_count": 48,
     "metadata": {},
     "output_type": "execute_result"
    }
   ],
   "source": [
    "pipe2 = pipeline.make_pipeline(imputer, pca)\n",
    "pipe2.steps"
   ]
  },
  {
   "cell_type": "code",
   "execution_count": 50,
   "metadata": {},
   "outputs": [
    {
     "data": {
      "text/plain": [
       "array([[-2.68,  0.18],\n",
       "       [-2.43,  0.75],\n",
       "       [-2.88, -0.21],\n",
       "       [-2.05,  0.76],\n",
       "       [-0.3 , -0.64],\n",
       "       [-2.06,  0.47],\n",
       "       [-2.8 , -0.3 ],\n",
       "       [-2.62,  0.03],\n",
       "       [-2.87, -0.55],\n",
       "       [-2.66, -0.12]])"
      ]
     },
     "execution_count": 50,
     "metadata": {},
     "output_type": "execute_result"
    }
   ],
   "source": [
    "pipe2.set_params(pca__n_components=2)\n",
    "iris_pipe2 = pipe2.fit_transform(data)\n",
    "np.set_printoptions(2)\n",
    "iris_pipe2[:10]"
   ]
  },
  {
   "cell_type": "code",
   "execution_count": 1,
   "metadata": {
    "collapsed": true
   },
   "outputs": [],
   "source": [
    "import numpy as np\n",
    "from sklearn.datasets import load_boston\n",
    "boston = load_boston()\n",
    "boston_X = boston.data\n",
    "boston_y = boston.target\n",
    "train_set = np.random.choice([True,False], len(boston_X), p = [0.25,0.75])"
   ]
  },
  {
   "cell_type": "code",
   "execution_count": 15,
   "metadata": {},
   "outputs": [
    {
     "data": {
      "text/plain": [
       "(136, 13)"
      ]
     },
     "execution_count": 15,
     "metadata": {},
     "output_type": "execute_result"
    }
   ],
   "source": [
    "boston_X.shape\n",
    "boston_X[train_set].shape"
   ]
  },
  {
   "cell_type": "code",
   "execution_count": 16,
   "metadata": {},
   "outputs": [
    {
     "name": "stderr",
     "output_type": "stream",
     "text": [
      "D:\\Users\\13884\\lib\\site-packages\\sklearn\\utils\\deprecation.py:58: DeprecationWarning: Class GaussianProcess is deprecated; GaussianProcess was deprecated in version 0.18 and will be removed in 0.20. Use the GaussianProcessRegressor instead.\n",
      "  warnings.warn(msg, category=DeprecationWarning)\n",
      "D:\\Users\\13884\\lib\\site-packages\\sklearn\\utils\\deprecation.py:77: DeprecationWarning: Function l1_cross_distances is deprecated; l1_cross_distances was deprecated in version 0.18 and will be removed in 0.20.\n",
      "  warnings.warn(msg, category=DeprecationWarning)\n",
      "D:\\Users\\13884\\lib\\site-packages\\sklearn\\utils\\deprecation.py:77: DeprecationWarning: Function constant is deprecated; The function constant of regression_models is deprecated in version 0.19.1 and will be removed in 0.22.\n",
      "  warnings.warn(msg, category=DeprecationWarning)\n",
      "D:\\Users\\13884\\lib\\site-packages\\sklearn\\utils\\deprecation.py:77: DeprecationWarning: Function squared_exponential is deprecated; The function squared_exponential of correlation_models is deprecated in version 0.19.1 and will be removed in 0.22.\n",
      "  warnings.warn(msg, category=DeprecationWarning)\n"
     ]
    },
    {
     "data": {
      "text/plain": [
       "GaussianProcess(beta0=None,\n",
       "        corr=<function squared_exponential at 0x000002A400CC6158>,\n",
       "        normalize=True, nugget=array(2.22045e-15), optimizer='fmin_cobyla',\n",
       "        random_start=1,\n",
       "        random_state=<mtrand.RandomState object at 0x000002A47FC2EF78>,\n",
       "        regr=<function constant at 0x000002A400CBCC80>,\n",
       "        storage_mode='full', theta0=array([[0.1]]), thetaL=None,\n",
       "        thetaU=None, verbose=False)"
      ]
     },
     "execution_count": 16,
     "metadata": {},
     "output_type": "execute_result"
    }
   ],
   "source": [
    "from sklearn.gaussian_process import GaussianProcess\n",
    "gp = GaussianProcess()\n",
    "gp.fit(boston_X[train_set], boston_y[train_set])\n"
   ]
  },
  {
   "cell_type": "code",
   "execution_count": 17,
   "metadata": {},
   "outputs": [
    {
     "name": "stderr",
     "output_type": "stream",
     "text": [
      "D:\\Users\\13884\\lib\\site-packages\\sklearn\\utils\\deprecation.py:77: DeprecationWarning: Function constant is deprecated; The function constant of regression_models is deprecated in version 0.19.1 and will be removed in 0.22.\n",
      "  warnings.warn(msg, category=DeprecationWarning)\n",
      "D:\\Users\\13884\\lib\\site-packages\\sklearn\\utils\\deprecation.py:77: DeprecationWarning: Function squared_exponential is deprecated; The function squared_exponential of correlation_models is deprecated in version 0.19.1 and will be removed in 0.22.\n",
      "  warnings.warn(msg, category=DeprecationWarning)\n"
     ]
    },
    {
     "data": {
      "text/plain": [
       "array([23.3070255 , 29.76718702, 28.96769185, 18.42122522, 19.21743218,\n",
       "       19.74331029, 19.00101207, 18.28185948, 17.55724117, 20.36625237,\n",
       "       22.31888067, 19.47744127, 21.55726349, 15.73116232, 17.3148356 ,\n",
       "       12.79755751,  8.05796954, 16.87184585, 18.79335579, 11.54733827,\n",
       "        7.54849847, 15.08133613,  3.31628311, 20.6665571 , 19.90134495,\n",
       "       21.95380654, 42.39216617, 32.78855088, 24.79918079, 24.73347044,\n",
       "       21.35062321, 20.91618639, 21.34976657, 18.70677489, 15.23121301,\n",
       "       20.6358909 , 20.14812839, 18.5811786 , 26.1303853 , 21.19022025,\n",
       "       36.00114335, 30.19893726, 22.51009303, 18.89740715, 12.02448073,\n",
       "       16.29852685, 23.53996373, 19.64014468, 24.31091032, 21.53688952,\n",
       "       22.04446634, 22.06237882, 25.97601079, 21.0974341 , 23.21123305,\n",
       "       22.00981846, 20.13845013, 18.2323487 , 18.83000178, 18.04622841,\n",
       "       28.97763259, 16.51916948, 22.86081328, 17.72366216, 22.99445523,\n",
       "       24.24327725, 21.57871759, 27.86724541, 21.91127382, 25.68063449,\n",
       "       23.88699037, 21.80241716, 18.48768161, 20.59008922, 34.93399468,\n",
       "       29.70908816, 20.88344504, 22.22940239, 11.0869505 , 19.37486926,\n",
       "       19.57786239, 19.14417041, 19.68959714, 18.44788534, 17.61247704,\n",
       "       18.96889356, 19.12684752, 18.81405506, 17.97268553, 16.09162678,\n",
       "       17.968198  , 15.8634013 , 23.90665807, 22.78605448, 20.17964413,\n",
       "       17.83383109, 17.79473425, 20.88561454, 15.56645244, 24.25295971,\n",
       "       23.43055439, 24.62146113,  9.84026373, 16.86011884, 21.96172812,\n",
       "       12.54207158, 15.93102926, 11.68021222, 14.66438155, 17.68553788,\n",
       "        8.8714666 , 26.84522059, 17.80680313,  9.88958201, 12.24477452,\n",
       "        2.95506405, 11.32162463, 18.0701087 , 21.88438657, 19.43555746,\n",
       "       21.42175941, 28.46796553, 28.95712138, 17.52061612, 25.40127233,\n",
       "       24.40548939, 27.70929607, 28.19114301, 21.8950117 , 18.95526241,\n",
       "       30.31081764, 28.79835141, 26.0258581 , 29.36461806, 23.62232802,\n",
       "       28.78304414, 38.21809405, 33.99380073, 34.7704674 , 32.77072117,\n",
       "       44.50260674, 27.06230388, 26.19032106, 34.61730581, 30.78182545,\n",
       "       28.13054464, 27.7693568 , 48.65429404, 30.79083162, 26.64980677,\n",
       "       29.70666711, 37.27390894, 25.1164504 , 45.10065164, 26.18208164,\n",
       "       19.4949567 , 19.65576036, 27.83573478, 21.17168987, 33.49157573,\n",
       "       19.53290611, 21.85979057, 27.22575441, 27.66476782, 40.71662917,\n",
       "       42.57500864, 29.4398418 , 43.59388266, 42.63802785, 27.26452918,\n",
       "       24.01281746, 26.84368075, 32.86974666, 24.58764288, 23.9095097 ,\n",
       "       19.14743161, 23.54594031, 18.31919257, 22.09121325, 23.06559795,\n",
       "       13.99587776, 19.86789602, 28.5397082 , 27.59564897, 26.96249595,\n",
       "       42.08315701, 20.70470415, 38.76427592, 34.83425593, 36.59483383,\n",
       "       41.07952538, 48.17171464, 35.80109078, 37.81126225, 25.22640587,\n",
       "       46.86175395, 24.67314917, 22.31027236, 28.79720088, 26.29328158,\n",
       "       30.75495237, 31.61919057, 27.65319818, 34.49754138, 41.02192676,\n",
       "       32.07795394, 31.65326276, 29.09962726, 34.19994156, 22.79199561,\n",
       "       21.96583478, 20.61142838, 20.30567546, 22.13714239, 24.20879373,\n",
       "       21.09928281, 28.92031459, 27.07085001, 22.89560034, 22.71449758,\n",
       "       28.10539097, 23.61243535, 23.38703195, 40.12266534, 18.04489668,\n",
       "       16.51006298, 19.41310915, 19.44202771, 18.78810613, 19.41335164,\n",
       "       23.39554132, 24.21567312, 20.15730647, 18.45900031, 25.98311571,\n",
       "       29.51944099, 26.04623677, 21.25199858, 15.55105997, 19.26011458,\n",
       "       16.34368387, 19.51889033, 18.55484283, 21.87131776, 21.02449941,\n",
       "       20.40240178, 23.53509975, 22.41285274, 21.21092581, 31.5771806 ,\n",
       "       35.21059604, 18.19743455, 16.28087712, 28.05290269, 21.10353734,\n",
       "       22.77378136, 25.75263947, 21.96256179, 22.36928809, 16.02988315,\n",
       "       19.36056481, 19.25615202, 24.37949933, 37.61588335, 24.18880947,\n",
       "       18.39744419, 10.38626322, 28.9041003 , 28.93841524, 23.41296204,\n",
       "       24.40404834, 26.21793741, 18.94829997,  3.38284167,  7.21684494,\n",
       "        9.75465504,  8.96803098, 10.27138968, 13.02045726, 14.53577161,\n",
       "        9.74861655, 15.88231366, 14.47828367,  9.16172453, 14.47567358,\n",
       "       15.43295306, 22.45226888, 11.68314169, 19.76869978, 19.44620473,\n",
       "       12.53739357, 17.42129503,  2.68096456,  9.28196283, 13.71333703,\n",
       "       -2.91508174,  0.44742019,  5.3245523 , 15.12551229, 14.13139521,\n",
       "       16.63900207, 13.45517241,  4.6575672 , 12.28797719, 13.5880193 ,\n",
       "        4.17380693, 20.21439904, 17.29966747, 16.88214727,  8.30139903,\n",
       "       12.82214127, 12.23191182, 16.21668912, 20.25828197, 18.23721642,\n",
       "       13.00688969, 14.41415191, 11.43702849,  6.22071532, -3.06614478,\n",
       "        9.28773274, 17.15705034, 10.78621895,  0.49294726, 10.3260619 ,\n",
       "       12.04178365, 11.24082454,  9.3217867 ,  9.60667193, 15.87094529,\n",
       "       13.05478644, 13.01649522, 11.86306224,  9.177603  , 16.73412185,\n",
       "       23.09862559, 20.12921924, 29.6743184 , 10.83316034, 14.38523036,\n",
       "        6.70459289, 15.53050417, 21.2048437 , 27.75203344, 25.81526093,\n",
       "       16.08450093, 13.80075822, 20.94368617,  7.38250094, 15.83587956,\n",
       "       20.48522235, 22.18345108, 22.35980153, 17.03140669, 25.58868591,\n",
       "        8.86718777, 15.45253669, 16.48396026, 18.94234339, 18.96652173,\n",
       "       20.16115675, 17.53852405, 18.7839906 , 17.50832743, 18.59508389,\n",
       "       30.35254712, 24.88952599, 29.07992595, 27.82675772, 22.92803144])"
      ]
     },
     "execution_count": 17,
     "metadata": {},
     "output_type": "execute_result"
    }
   ],
   "source": [
    "test_preds = gp.predict(boston_X[~train_set])\n",
    "test_preds"
   ]
  },
  {
   "cell_type": "code",
   "execution_count": 18,
   "metadata": {},
   "outputs": [
    {
     "data": {
      "text/plain": [
       "(370, 13)"
      ]
     },
     "execution_count": 18,
     "metadata": {},
     "output_type": "execute_result"
    }
   ],
   "source": [
    "boston_X[~train_set].shape"
   ]
  },
  {
   "cell_type": "code",
   "execution_count": 20,
   "metadata": {},
   "outputs": [
    {
     "data": {
      "image/png": "[encoded data removed]",
      "text/plain": [
       "<matplotlib.figure.Figure at 0x2a400dafac8>"
      ]
     },
     "metadata": {},
     "output_type": "display_data"
    }
   ],
   "source": [
    "%matplotlib inline\n",
    "from matplotlib import pyplot as plt\n",
    "f, ax = plt.subplots(figsize=(10, 7), nrows=3)\n",
    "f.tight_layout()\n",
    "ax[0].plot(range(len(test_preds)), test_preds, label='Predicted Values');\n",
    "ax[0].plot(range(len(test_preds)), boston_y[~train_set], label=' Actual Values');\n",
    "ax[0].set_title(\"Predicted vs Actuals\")\n",
    "ax[0].legend(loc='best')\n",
    "ax[1].plot(range(len(test_preds)),test_preds - boston_y[~train_set]);\n",
    "ax[1].set_title(\"Plotted Residuals\")\n",
    "ax[2].hist(test_preds - boston_y[~train_set]);\n",
    "ax[2].set_title(\"Histogram of Residuals\");\n"
   ]
  },
  {
   "cell_type": "code",
   "execution_count": 64,
   "metadata": {},
   "outputs": [
    {
     "data": {
      "text/plain": [
       "array([24. , 21.6, 33.4, 28.7, 22.9, 16.5, 18.9, 15. , 18.9, 21.7, 20.4,\n",
       "       19.9, 23.1, 17.5, 18.2, 19.6, 15.2, 14.5, 15.6, 16.6, 14.8, 18.4,\n",
       "       21. , 12.7, 13.2, 13.1, 13.5, 20. , 30.8, 34.9, 26.6, 25.3, 24.7,\n",
       "       21.2, 19.3, 20. , 16.6, 14.4, 19.4, 19.7, 25. , 23.4, 18.9, 35.4,\n",
       "       31.6, 23.3, 18.7, 16. , 22.2, 25. , 23.5, 19.4, 22. , 17.4, 20.9,\n",
       "       24.2, 22.8, 23.4, 20. , 20.8, 20.3, 23.9, 22.9, 23.9, 26.6, 22.5,\n",
       "       22.2, 23.6, 22.6, 22. , 22.9, 25. , 20.6, 28.4, 21.4, 43.8, 33.2,\n",
       "       27.5, 18.6, 19.3, 20.1, 19.5, 19.5, 20.4, 19.8, 19.4, 21.7, 18.7,\n",
       "       21.2, 19.2, 20.4, 19.3, 22. , 20.5, 17.3, 18.8, 21.4, 16.2, 18. ,\n",
       "       14.3, 19.2, 19.6, 18.4, 15.6, 18.1, 17.4, 17.1, 17.8, 14. , 14.4,\n",
       "       15.6, 15.6, 17.8, 15.4, 21.5, 19.6, 15.3, 19.4, 17. , 15.6, 13.1,\n",
       "       24.3, 23.3, 50. , 22.7, 25. , 50. , 23.8, 23.8, 22.3, 17.4, 23.1,\n",
       "       23.6, 22.6, 23.2, 29.9, 36.2, 37.9, 32.5, 26.4, 50. , 32. , 29.8,\n",
       "       34.9, 37. , 31.1, 29.1, 50. , 33.3, 30.3, 34.6, 34.9, 32.9, 24.1,\n",
       "       42.3, 48.5, 50. , 22.6, 24.4, 24.4, 20. , 22.4, 28.1, 23.7, 23.3,\n",
       "       28.7, 26.7, 27.5, 30.1, 31.6, 46.7, 31.5, 31.7, 41.7, 48.3, 25.1,\n",
       "       31.5, 23.7, 23.3, 22. , 23.7, 17.6, 18.5, 24.4, 24.8, 21.9, 20.9,\n",
       "       50. , 36. , 33.8, 43.1, 48.8, 31. , 36.5, 22.8, 30.7, 50. , 43.5,\n",
       "       21.1, 25.2, 35.2, 32.4, 32. , 33.2, 29.1, 35.1, 45.4, 35.4, 46. ,\n",
       "       20.1, 23.2, 22.3, 24.8, 28.5, 37.3, 27.9, 23.9, 21.7, 28.6, 27.1,\n",
       "       20.3, 22.5, 29. , 22. , 26.4, 33.1, 36.1, 28.4, 33.4, 16.1, 22.1,\n",
       "       23.8, 16.2, 17.8, 23.1, 21. , 23.8, 23.1, 20.4, 18.5, 25. , 24.6,\n",
       "       23. , 22.2, 19.3, 22.6, 19.8, 17.1, 19.4, 22.2, 20.7, 19.5, 18.5,\n",
       "       20.6, 19. , 18.7, 32.7, 23.9, 31.2, 17.2, 23.1, 24.5, 22.9, 24.1,\n",
       "       18.6, 30.1, 18.2, 20.6, 17.8, 21.7, 22.7, 25. , 20.8, 16.8, 21.9,\n",
       "       50. , 50. , 50. , 50. , 50. , 13.8, 13.8, 15. , 13.9, 13.3, 13.1,\n",
       "       10.2, 10.4, 10.9, 11.3, 12.3,  8.8,  7.2, 10.2, 11.5, 15.1, 23.2,\n",
       "        9.7, 13.8, 12.7, 13.1, 12.1,  8.3,  8.5, 11.9, 27.9, 17.2, 27.5,\n",
       "       15. , 17.2, 17.9, 16.3,  7. ,  7.5, 10.4,  8.8,  8.4, 16.7, 14.2,\n",
       "       20.8, 13.4, 10.2, 10.9, 11. ,  9.5, 14.1, 16.1, 14.3, 13.4, 12.8,\n",
       "       10.5, 17.1, 18.4, 15.4, 10.8, 11.8, 14.9, 12.6, 14.1, 13. , 16.1,\n",
       "       17.8, 14.9, 14.1, 13.5, 14.9, 20. , 16.4, 17.7, 19.5, 20.2, 21.4,\n",
       "       19.9, 19. , 20.1, 19.9, 19.6, 23.2, 16.7, 12. , 23. , 23.7, 25. ,\n",
       "       21.8, 21.2, 19.1, 20.6,  8.1, 13.6, 20.1, 21.8, 24.5, 23.1, 19.7,\n",
       "       18.3, 21.2, 17.5, 16.8, 22.4, 20.6, 23.9, 11.9])"
      ]
     },
     "execution_count": 64,
     "metadata": {},
     "output_type": "execute_result"
    }
   ],
   "source": [
    "boston_y[~train_set]"
   ]
  },
  {
   "cell_type": "code",
   "execution_count": 65,
   "metadata": {},
   "outputs": [
    {
     "data": {
      "text/plain": [
       "array([[6.32e-03, 1.80e+01, 2.31e+00, ..., 1.53e+01, 3.97e+02, 4.98e+00],\n",
       "       [2.73e-02, 0.00e+00, 7.07e+00, ..., 1.78e+01, 3.97e+02, 9.14e+00],\n",
       "       [3.24e-02, 0.00e+00, 2.18e+00, ..., 1.87e+01, 3.95e+02, 2.94e+00],\n",
       "       ...,\n",
       "       [4.53e-02, 0.00e+00, 1.19e+01, ..., 2.10e+01, 3.97e+02, 9.08e+00],\n",
       "       [6.08e-02, 0.00e+00, 1.19e+01, ..., 2.10e+01, 3.97e+02, 5.64e+00],\n",
       "       [4.74e-02, 0.00e+00, 1.19e+01, ..., 2.10e+01, 3.97e+02, 7.88e+00]])"
      ]
     },
     "execution_count": 65,
     "metadata": {},
     "output_type": "execute_result"
    }
   ],
   "source": [
    "boston_X[~train_set]"
   ]
  },
  {
   "cell_type": "code",
   "execution_count": 21,
   "metadata": {},
   "outputs": [
    {
     "name": "stderr",
     "output_type": "stream",
     "text": [
      "D:\\Users\\13884\\lib\\site-packages\\sklearn\\utils\\deprecation.py:58: DeprecationWarning: Class GaussianProcess is deprecated; GaussianProcess was deprecated in version 0.18 and will be removed in 0.20. Use the GaussianProcessRegressor instead.\n",
      "  warnings.warn(msg, category=DeprecationWarning)\n",
      "D:\\Users\\13884\\lib\\site-packages\\sklearn\\utils\\deprecation.py:77: DeprecationWarning: Function l1_cross_distances is deprecated; l1_cross_distances was deprecated in version 0.18 and will be removed in 0.20.\n",
      "  warnings.warn(msg, category=DeprecationWarning)\n",
      "D:\\Users\\13884\\lib\\site-packages\\sklearn\\utils\\deprecation.py:77: DeprecationWarning: Function linear is deprecated; The function linear of regression_models is deprecated in version 0.19.1 and will be removed in 0.22.\n",
      "  warnings.warn(msg, category=DeprecationWarning)\n",
      "D:\\Users\\13884\\lib\\site-packages\\sklearn\\utils\\deprecation.py:77: DeprecationWarning: Function squared_exponential is deprecated; The function squared_exponential of correlation_models is deprecated in version 0.19.1 and will be removed in 0.22.\n",
      "  warnings.warn(msg, category=DeprecationWarning)\n",
      "D:\\Users\\13884\\lib\\site-packages\\sklearn\\utils\\deprecation.py:77: DeprecationWarning: Function linear is deprecated; The function linear of regression_models is deprecated in version 0.19.1 and will be removed in 0.22.\n",
      "  warnings.warn(msg, category=DeprecationWarning)\n",
      "D:\\Users\\13884\\lib\\site-packages\\sklearn\\utils\\deprecation.py:77: DeprecationWarning: Function squared_exponential is deprecated; The function squared_exponential of correlation_models is deprecated in version 0.19.1 and will be removed in 0.22.\n",
      "  warnings.warn(msg, category=DeprecationWarning)\n"
     ]
    },
    {
     "data": {
      "image/png": "[encoded data removed]",
      "text/plain": [
       "<matplotlib.figure.Figure at 0x2a400bfee10>"
      ]
     },
     "metadata": {},
     "output_type": "display_data"
    }
   ],
   "source": [
    "gp = GaussianProcess(regr='linear', theta0=5e-1)\n",
    "gp.fit(boston_X[train_set], boston_y[train_set]);\n",
    "linear_preds = gp.predict(boston_X[~train_set])\n",
    "f, ax = plt.subplots(figsize=(7, 5))\n",
    "f.tight_layout()\n",
    "ax.hist(test_preds - boston_y[~train_set],label='Residuals Original', color='b', alpha=.5);\n",
    "ax.hist(linear_preds - boston_y[~train_set],label='Residuals Linear', color='r', alpha=.5);\n",
    "ax.set_title(\"Residuals\")\n",
    "ax.legend(loc='best');"
   ]
  },
  {
   "cell_type": "code",
   "execution_count": 22,
   "metadata": {},
   "outputs": [
    {
     "data": {
      "text/plain": [
       "27.45696931348112"
      ]
     },
     "execution_count": 22,
     "metadata": {},
     "output_type": "execute_result"
    }
   ],
   "source": [
    "np.power(test_preds - boston_y[~train_set], 2).mean()"
   ]
  },
  {
   "cell_type": "code",
   "execution_count": 24,
   "metadata": {},
   "outputs": [
    {
     "data": {
      "text/plain": [
       "16.7560006413891"
      ]
     },
     "execution_count": 24,
     "metadata": {},
     "output_type": "execute_result"
    }
   ],
   "source": [
    "np.power(linear_preds - boston_y[~train_set], 2).mean()"
   ]
  },
  {
   "cell_type": "code",
   "execution_count": 26,
   "metadata": {},
   "outputs": [
    {
     "name": "stderr",
     "output_type": "stream",
     "text": [
      "D:\\Users\\13884\\lib\\site-packages\\sklearn\\utils\\deprecation.py:77: DeprecationWarning: Function linear is deprecated; The function linear of regression_models is deprecated in version 0.19.1 and will be removed in 0.22.\n",
      "  warnings.warn(msg, category=DeprecationWarning)\n",
      "D:\\Users\\13884\\lib\\site-packages\\sklearn\\utils\\deprecation.py:77: DeprecationWarning: Function squared_exponential is deprecated; The function squared_exponential of correlation_models is deprecated in version 0.19.1 and will be removed in 0.22.\n",
      "  warnings.warn(msg, category=DeprecationWarning)\n"
     ]
    },
    {
     "data": {
      "text/plain": [
       "array([32.49384728, 25.59095679, 24.71068327, 21.54288689, 10.5883377 ])"
      ]
     },
     "execution_count": 26,
     "metadata": {},
     "output_type": "execute_result"
    }
   ],
   "source": [
    "test_preds, MSE = gp.predict(boston_X[~train_set], eval_MSE=True\n",
    ")\n",
    "MSE[:5]"
   ]
  },
  {
   "cell_type": "code",
   "execution_count": 28,
   "metadata": {},
   "outputs": [
    {
     "data": {
      "image/png": "[encoded data removed]",
      "text/plain": [
       "<matplotlib.figure.Figure at 0x2a40637b860>"
      ]
     },
     "metadata": {},
     "output_type": "display_data"
    }
   ],
   "source": [
    "f, ax = plt.subplots(figsize=(7, 5))\n",
    "n = 120\n",
    "rng = range(n)\n",
    "ax.scatter(rng, test_preds[:n])\n",
    "ax.errorbar(rng, test_preds[:n], yerr=1.96*MSE[:n])\n",
    "ax.set_title(\"Predictions with Error Bars\")\n",
    "ax.set_xlim((-20, 140));"
   ]
  },
  {
   "cell_type": "code",
   "execution_count": 29,
   "metadata": {
    "collapsed": true
   },
   "outputs": [],
   "source": [
    "from sklearn.datasets import make_regression\n",
    "X,y = make_regression(1000, 1, 1)\n",
    "from sklearn.gaussian_process import regression_models"
   ]
  },
  {
   "cell_type": "code",
   "execution_count": 30,
   "metadata": {},
   "outputs": [
    {
     "name": "stderr",
     "output_type": "stream",
     "text": [
      "D:\\Users\\13884\\lib\\site-packages\\sklearn\\utils\\deprecation.py:77: DeprecationWarning: Function constant is deprecated; The function constant of regression_models is deprecated in version 0.19.1 and will be removed in 0.22.\n",
      "  warnings.warn(msg, category=DeprecationWarning)\n"
     ]
    },
    {
     "data": {
      "text/plain": [
       "array([[1.],\n",
       "       [1.],\n",
       "       [1.],\n",
       "       [1.],\n",
       "       [1.]])"
      ]
     },
     "execution_count": 30,
     "metadata": {},
     "output_type": "execute_result"
    }
   ],
   "source": [
    "regression_models.constant(X)[:5]"
   ]
  },
  {
   "cell_type": "code",
   "execution_count": 31,
   "metadata": {},
   "outputs": [
    {
     "name": "stderr",
     "output_type": "stream",
     "text": [
      "D:\\Users\\13884\\lib\\site-packages\\sklearn\\utils\\deprecation.py:77: DeprecationWarning: Function linear is deprecated; The function linear of regression_models is deprecated in version 0.19.1 and will be removed in 0.22.\n",
      "  warnings.warn(msg, category=DeprecationWarning)\n"
     ]
    },
    {
     "data": {
      "text/plain": [
       "array([[1.       , 1.1031017]])"
      ]
     },
     "execution_count": 31,
     "metadata": {},
     "output_type": "execute_result"
    }
   ],
   "source": [
    "regression_models.linear(X)[:1]"
   ]
  },
  {
   "cell_type": "code",
   "execution_count": 32,
   "metadata": {},
   "outputs": [
    {
     "name": "stderr",
     "output_type": "stream",
     "text": [
      "D:\\Users\\13884\\lib\\site-packages\\sklearn\\utils\\deprecation.py:77: DeprecationWarning: Function quadratic is deprecated; The function quadratic of regression_models is deprecated in version 0.19.1 and will be removed in 0.22.\n",
      "  warnings.warn(msg, category=DeprecationWarning)\n"
     ]
    },
    {
     "data": {
      "text/plain": [
       "array([[1.        , 1.1031017 , 1.21683335]])"
      ]
     },
     "execution_count": 32,
     "metadata": {},
     "output_type": "execute_result"
    }
   ],
   "source": [
    "regression_models.quadratic(X)[:1]"
   ]
  },
  {
   "cell_type": "code",
   "execution_count": 34,
   "metadata": {},
   "outputs": [
    {
     "name": "stdout",
     "output_type": "stream",
     "text": [
      "1,000,000\n"
     ]
    }
   ],
   "source": [
    "from sklearn import datasets\n",
    "X,y = datasets.make_regression(int(1e6))\n",
    "print('{:,}'.format(int(1e6)))"
   ]
  },
  {
   "cell_type": "code",
   "execution_count": 36,
   "metadata": {},
   "outputs": [
    {
     "name": "stdout",
     "output_type": "stream",
     "text": [
      "800,000,000\n"
     ]
    }
   ],
   "source": [
    "print(\"{:,}\".format(X.nbytes))"
   ]
  },
  {
   "cell_type": "code",
   "execution_count": 37,
   "metadata": {},
   "outputs": [
    {
     "data": {
      "text/plain": [
       "8.0"
      ]
     },
     "execution_count": 37,
     "metadata": {},
     "output_type": "execute_result"
    }
   ],
   "source": [
    "X.nbytes / (X.shape[0] * X.shape[1])"
   ]
  },
  {
   "cell_type": "code",
   "execution_count": 40,
   "metadata": {},
   "outputs": [
    {
     "name": "stderr",
     "output_type": "stream",
     "text": [
      "D:\\Users\\13884\\lib\\site-packages\\sklearn\\linear_model\\stochastic_gradient.py:128: FutureWarning: max_iter and tol parameters have been added in <class 'sklearn.linear_model.stochastic_gradient.SGDRegressor'> in 0.19. If both are left unset, they default to max_iter=5 and tol=None. If tol is not None, max_iter defaults to max_iter=1000. From 0.21, default max_iter will be 1000, and default tol will be 1e-3.\n",
      "  \"and default tol will be 1e-3.\" % type(self), FutureWarning)\n"
     ]
    },
    {
     "data": {
      "text/plain": [
       "SGDRegressor(alpha=0.0001, average=False, epsilon=0.1, eta0=0.01,\n",
       "       fit_intercept=True, l1_ratio=0.15, learning_rate='invscaling',\n",
       "       loss='squared_loss', max_iter=None, n_iter=None, penalty='l2',\n",
       "       power_t=0.25, random_state=None, shuffle=True, tol=None, verbose=0,\n",
       "       warm_start=False)"
      ]
     },
     "execution_count": 40,
     "metadata": {},
     "output_type": "execute_result"
    }
   ],
   "source": [
    "import numpy as np\n",
    "from sklearn import linear_model\n",
    "sgd = linear_model.SGDRegressor()\n",
    "train = np.random.choice([True,False], size = len(y), p = [0.75,0.25])\n",
    "sgd.fit(X[train],y[train])"
   ]
  },
  {
   "cell_type": "code",
   "execution_count": 43,
   "metadata": {},
   "outputs": [],
   "source": [
    "linear_preds = sgd.predict(X[~train])"
   ]
  },
  {
   "cell_type": "code",
   "execution_count": 45,
   "metadata": {},
   "outputs": [
    {
     "data": {
      "image/png": "[encoded data removed]",
      "text/plain": [
       "<matplotlib.figure.Figure at 0x2a42a804240>"
      ]
     },
     "metadata": {},
     "output_type": "display_data"
    }
   ],
   "source": [
    "%matplotlib inline\n",
    "import matplotlib.pyplot as plt\n",
    "f,ax = plt.subplots(figsize=(7,5))\n",
    "f.tight_layout()\n",
    "ax.hist(linear_preds - y[~train],label='Residuals Linear', color='b', alpha=.5);\n",
    "ax.set_title(\"Residuals\")\n",
    "ax.legend(loc='best');"
   ]
  },
  {
   "cell_type": "code",
   "execution_count": 83,
   "metadata": {},
   "outputs": [
    {
     "data": {
      "text/plain": [
       "(506, 13)"
      ]
     },
     "execution_count": 83,
     "metadata": {},
     "output_type": "execute_result"
    }
   ],
   "source": [
    "from sklearn import datasets\n",
    "boston = datasets.load_boston()\n",
    "boston_X = boston.data\n",
    "boston_y = boston.target\n",
    "boston_X.shape"
   ]
  },
  {
   "cell_type": "code",
   "execution_count": 48,
   "metadata": {},
   "outputs": [],
   "source": [
    "from sklearn.linear_model import LinearRegression\n",
    "lr = LinearRegression()\n",
    "lr.fit(boston_X,boston_y)\n",
    "predictions = lr.predict(boston.data)\n"
   ]
  },
  {
   "cell_type": "code",
   "execution_count": 54,
   "metadata": {},
   "outputs": [
    {
     "data": {
      "text/plain": [
       "<matplotlib.legend.Legend at 0x2a4066c05f8>"
      ]
     },
     "execution_count": 54,
     "metadata": {},
     "output_type": "execute_result"
    },
    {
     "data": {
      "image/png": "[encoded data removed]",
      "text/plain": [
       "<matplotlib.figure.Figure at 0x2a4066efef0>"
      ]
     },
     "metadata": {},
     "output_type": "display_data"
    }
   ],
   "source": [
    "%matplotlib inline\n",
    "import matplotlib.pyplot as plt\n",
    "f, ax = plt.subplots(figsize=(10,8))\n",
    "f.tight_layout()\n",
    "ax.hist(boston_y-predictions, bins=40, label='Residuals Linear', color='b', alpha=.5, edgecolor='black')\n",
    "ax.set_title('Histogram of Residuals')\n",
    "ax.legend(loc='best')\n"
   ]
  },
  {
   "cell_type": "code",
   "execution_count": 55,
   "metadata": {},
   "outputs": [
    {
     "data": {
      "text/plain": [
       "7.372231942174953e-15"
      ]
     },
     "execution_count": 55,
     "metadata": {},
     "output_type": "execute_result"
    }
   ],
   "source": [
    "import numpy as np\n",
    "np.mean(boston_y-predictions)"
   ]
  },
  {
   "cell_type": "code",
   "execution_count": 57,
   "metadata": {},
   "outputs": [
    {
     "data": {
      "image/png": "[encoded data removed]",
      "text/plain": [
       "<matplotlib.figure.Figure at 0x2a4067e84a8>"
      ]
     },
     "metadata": {},
     "output_type": "display_data"
    }
   ],
   "source": [
    "from scipy.stats import probplot\n",
    "f = plt.figure(figsize=(7, 5))\n",
    "ax = f.add_subplot(111)\n",
    "probplot(boston.target - predictions, plot=ax)\n",
    "plt.show()"
   ]
  },
  {
   "cell_type": "code",
   "execution_count": 59,
   "metadata": {},
   "outputs": [
    {
     "data": {
      "text/plain": [
       "21.897779217687496"
      ]
     },
     "execution_count": 59,
     "metadata": {},
     "output_type": "execute_result"
    }
   ],
   "source": [
    "mse = np.mean(np.power(boston_y-predictions, 2))\n",
    "mse"
   ]
  },
  {
   "cell_type": "code",
   "execution_count": 62,
   "metadata": {},
   "outputs": [
    {
     "data": {
      "text/plain": [
       "3.272944637996926"
      ]
     },
     "execution_count": 62,
     "metadata": {},
     "output_type": "execute_result"
    }
   ],
   "source": [
    "mad = np.mean(np.abs(boston_y-predictions))\n",
    "mad"
   ]
  },
  {
   "cell_type": "code",
   "execution_count": 67,
   "metadata": {},
   "outputs": [
    {
     "data": {
      "image/png": "[encoded data removed]",
      "text/plain": [
       "<matplotlib.figure.Figure at 0x2a40624fc88>"
      ]
     },
     "metadata": {},
     "output_type": "display_data"
    }
   ],
   "source": [
    "n_bootstraps = 1000\n",
    "len_boston = len(boston.target)\n",
    "subsample_size = np.int(0.5*len_boston)\n",
    "subsample = lambda: np.random.choice(np.arange(0, len_boston),size=subsample_size)\n",
    "coefs = np.ones(n_bootstraps) #相关系数初始值设为1\n",
    "for i in range(n_bootstraps):\n",
    "    subsample_idx = subsample()\n",
    "    subsample_X = boston.data[subsample_idx]\n",
    "    subsample_y = boston.target[subsample_idx]\n",
    "    lr.fit(subsample_X, subsample_y)\n",
    "    coefs[i] = lr.coef_[0]\n",
    "f = plt.figure(figsize=(7, 5))\n",
    "ax = f.add_subplot(111)\n",
    "ax.hist(coefs, bins=50, color='b', alpha=.5,edgecolor='black')\n",
    "ax.set_title(\"Histogram of the lr.coef_[0].\");"
   ]
  },
  {
   "cell_type": "code",
   "execution_count": 85,
   "metadata": {},
   "outputs": [
    {
     "data": {
      "text/plain": [
       "(13,)"
      ]
     },
     "execution_count": 85,
     "metadata": {},
     "output_type": "execute_result"
    }
   ],
   "source": [
    "coefs.shape\n",
    "len_boston\n",
    "subsample()\n",
    "lr.coef_.shape"
   ]
  },
  {
   "cell_type": "code",
   "execution_count": 86,
   "metadata": {},
   "outputs": [
    {
     "data": {
      "text/plain": [
       "array([-0.18805374,  0.03615281])"
      ]
     },
     "execution_count": 86,
     "metadata": {},
     "output_type": "execute_result"
    }
   ],
   "source": [
    "np.percentile(coefs, [2.5, 97.5])"
   ]
  },
  {
   "cell_type": "code",
   "execution_count": null,
   "metadata": {
    "collapsed": true
   },
   "outputs": [],
   "source": []
  }
 ],
 "metadata": {
  "kernelspec": {
   "display_name": "Python 3",
   "language": "python",
   "name": "python3"
  },
  "language_info": {
   "codemirror_mode": {
    "name": "ipython",
    "version": 3
   },
   "file_extension": ".py",
   "mimetype": "text/x-python",
   "name": "python",
   "nbconvert_exporter": "python",
   "pygments_lexer": "ipython3",
   "version": "3.6.3"
  }
 },
 "nbformat": 4,
 "nbformat_minor": 2
}
