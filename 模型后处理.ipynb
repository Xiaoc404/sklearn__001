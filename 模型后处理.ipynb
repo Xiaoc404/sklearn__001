{
 "cells": [
  {
   "cell_type": "code",
   "execution_count": 5,
   "metadata": {
    "collapsed": true
   },
   "outputs": [],
   "source": [
    "N = 1000\n",
    "holdout = 200\n",
    "from sklearn import datasets\n",
    "X, y = datasets.make_regression(N, shuffle=holdout)"
   ]
  },
  {
   "cell_type": "code",
   "execution_count": 8,
   "metadata": {},
   "outputs": [
    {
     "name": "stderr",
     "output_type": "stream",
     "text": [
      "D:\\Users\\13884\\lib\\site-packages\\sklearn\\cross_validation.py:41: DeprecationWarning: This module was deprecated in version 0.18 in favor of the model_selection module into which all the refactored classes and functions are moved. Also note that the interface of the new CV iterators are different from that of this module. This module will be removed in 0.20.\n",
      "  \"This module will be removed in 0.20.\", DeprecationWarning)\n"
     ]
    }
   ],
   "source": [
    "X_h, y_h = X[:holdout], y[:holdout]\n",
    "X_t, y_t = X[holdout:], y[holdout:]\n",
    "from sklearn.cross_validation import KFold\n"
   ]
  },
  {
   "cell_type": "code",
   "execution_count": 9,
   "metadata": {
    "collapsed": true
   },
   "outputs": [],
   "source": [
    "kfold = KFold(len(y_t), n_folds=4)\n"
   ]
  },
  {
   "cell_type": "code",
   "execution_count": 11,
   "metadata": {},
   "outputs": [
    {
     "name": "stdout",
     "output_type": "stream",
     "text": [
      "Fold: 0, N_train: 600, N_test: 200\n",
      "Fold: 1, N_train: 600, N_test: 200\n",
      "Fold: 2, N_train: 600, N_test: 200\n",
      "Fold: 3, N_train: 600, N_test: 200\n"
     ]
    }
   ],
   "source": [
    "output_string = \"Fold: {}, N_train: {}, N_test: {}\"\n",
    "for i,(train,test) in enumerate(kfold):\n",
    "    print(output_string.format(i, len(y_t[train]), len(y_t[test])))"
   ]
  },
  {
   "cell_type": "code",
   "execution_count": 12,
   "metadata": {
    "collapsed": true
   },
   "outputs": [],
   "source": [
    "import numpy as np\n",
    "import pandas as pd\n",
    "patients = np.repeat(np.arange(0, 100, dtype=np.int8), 8)\n",
    "measurements = pd.DataFrame({'patient_id': patients, 'ys': np.random.normal(0, 1, 800)})"
   ]
  },
  {
   "cell_type": "code",
   "execution_count": 19,
   "metadata": {},
   "outputs": [
    {
     "data": {
      "text/plain": [
       "array([ 0,  1,  2,  3,  4,  5,  6,  7,  8,  9, 10, 11, 12, 13, 14, 15, 16,\n",
       "       17, 18, 19, 20, 21, 22, 23, 24, 25, 26, 27, 28, 29, 30, 31, 32, 33,\n",
       "       34, 35, 36, 37, 38, 39, 40, 41, 42, 43, 44, 45, 46, 47, 48, 49, 50,\n",
       "       51, 52, 53, 54, 55, 56, 57, 58, 59, 60, 61, 62, 63, 64, 65, 66, 67,\n",
       "       68, 69, 70, 71, 72, 73, 74, 75, 76, 77, 78, 79, 80, 81, 82, 83, 84,\n",
       "       85, 86, 87, 88, 89, 90, 91, 92, 93, 94, 95, 96, 97, 98, 99],\n",
       "      dtype=int8)"
      ]
     },
     "execution_count": 19,
     "metadata": {},
     "output_type": "execute_result"
    }
   ],
   "source": [
    "custids = np.unique(measurements.patient_id)\n",
    "custids"
   ]
  },
  {
   "cell_type": "code",
   "execution_count": 20,
   "metadata": {
    "collapsed": true
   },
   "outputs": [],
   "source": [
    "customer_kfold = KFold(custids.size, n_folds=4)"
   ]
  },
  {
   "cell_type": "code",
   "execution_count": 23,
   "metadata": {},
   "outputs": [
    {
     "name": "stdout",
     "output_type": "stream",
     "text": [
      "Fold: 0, N_train: 600, N_test: 200\n",
      "Fold: 1, N_train: 600, N_test: 200\n",
      "Fold: 2, N_train: 600, N_test: 200\n",
      "Fold: 3, N_train: 600, N_test: 200\n"
     ]
    }
   ],
   "source": [
    "output_string = \"Fold: {}, N_train: {}, N_test: {}\"\n",
    "for i, (train, test) in enumerate(customer_kfold):\n",
    "    train_cust_ids = custids[train]\n",
    "    training = measurements[measurements.patient_id.isin(train_cust_ids)]\n",
    "    testing  = measurements[~measurements.patient_id.isin(train_cust_ids)]\n",
    "    print(output_string.format(i, len(training), len(testing)))\n",
    "    "
   ]
  },
  {
   "cell_type": "code",
   "execution_count": 25,
   "metadata": {},
   "outputs": [
    {
     "data": {
      "text/plain": [
       "array([0.8420572 , 0.84465143, 0.83248596])"
      ]
     },
     "execution_count": 25,
     "metadata": {},
     "output_type": "execute_result"
    }
   ],
   "source": [
    "from sklearn import ensemble\n",
    "from sklearn import datasets\n",
    "from sklearn import cross_validation\n",
    "X,y = datasets.make_regression(10000, 10)\n",
    "rf = ensemble.RandomForestRegressor(max_features='auto')\n",
    "scores = cross_validation.cross_val_score(rf, X, y)\n",
    "scores"
   ]
  },
  {
   "cell_type": "code",
   "execution_count": 1,
   "metadata": {},
   "outputs": [
    {
     "data": {
      "text/plain": [
       "Text(0.5,1,'Histogram of dataset')"
      ]
     },
     "execution_count": 1,
     "metadata": {},
     "output_type": "execute_result"
    },
    {
     "data": {
      "image/png": "[encoded data removed]",
      "text/plain": [
       "<matplotlib.figure.Figure at 0x1bed34d9ba8>"
      ]
     },
     "metadata": {},
     "output_type": "display_data"
    }
   ],
   "source": [
    "%matplotlib inline\n",
    "import numpy as np\n",
    "true_loc = 1000\n",
    "true_scale = 10\n",
    "N = 1000\n",
    "dataset = np.random.normal(true_loc, true_scale, N)\n",
    "import matplotlib.pyplot as plt\n",
    "f, ax = plt.subplots(figsize=(7,5))\n",
    "ax.hist(dataset, color='blue', edgecolor='black', alpha=0.75, histtype='stepfilled')\n",
    "ax.set_title(\"Histogram of dataset\")\n"
   ]
  },
  {
   "cell_type": "code",
   "execution_count": 7,
   "metadata": {},
   "outputs": [
    {
     "data": {
      "text/plain": [
       "<matplotlib.legend.Legend at 0x1bed63b3630>"
      ]
     },
     "execution_count": 7,
     "metadata": {},
     "output_type": "execute_result"
    },
    {
     "data": {
      "image/png": "[encoded data removed]",
      "text/plain": [
       "<matplotlib.figure.Figure at 0x1bed6377a58>"
      ]
     },
     "metadata": {},
     "output_type": "display_data"
    }
   ],
   "source": [
    "from sklearn import cross_validation\n",
    "holdout_set = dataset[:500]\n",
    "fitting_set = dataset[500:]\n",
    "estimate = fitting_set.mean()\n",
    "import matplotlib.pyplot as plt\n",
    "f, ax = plt.subplots(figsize=(7, 5))\n",
    "ax.set_title(\"True Mean vs Regular Estimate\")\n",
    "ax.vlines(true_loc, 0, 1, color='r', linestyles='-', lw=5, alpha=.65, label='true mean')\n",
    "ax.vlines(estimate, 0, 1, color='g', linestyles='-', lw=5, alpha=.65, label='regular estimate')\n",
    "ax.set_xlim(999, 1001)\n",
    "ax.legend()"
   ]
  },
  {
   "cell_type": "code",
   "execution_count": 8,
   "metadata": {},
   "outputs": [
    {
     "data": {
      "text/plain": [
       "<matplotlib.legend.Legend at 0x1bed73f4eb8>"
      ]
     },
     "execution_count": 8,
     "metadata": {},
     "output_type": "execute_result"
    },
    {
     "data": {
      "image/png": "[encoded data removed]",
      "text/plain": [
       "<matplotlib.figure.Figure at 0x1bed73b71d0>"
      ]
     },
     "metadata": {},
     "output_type": "display_data"
    }
   ],
   "source": [
    "from sklearn.cross_validation import ShuffleSplit\n",
    "shuffle_split = ShuffleSplit(len(fitting_set))\n",
    "mean_p = []\n",
    "for train, _ in shuffle_split:\n",
    "    mean_p.append(fitting_set[train].mean())\n",
    "    shuf_estimate = np.mean(mean_p)\n",
    "f, ax = plt.subplots(figsize=(7, 5))\n",
    "ax.vlines(true_loc, 0, 1, color='r', linestyles='-', lw=5,alpha=.65, label='true mean')\n",
    "ax.vlines(estimate, 0, 1, color='g', linestyles='-', lw=5,alpha=.65, label='regular estimate')\n",
    "ax.vlines(shuf_estimate, 0, 1, color='b', linestyles='-', lw=5, alpha=.65, label='shufflesplit estimate')\n",
    "ax.set_title(\"All Estimates\")\n",
    "ax.set_xlim(999, 1001)\n",
    "ax.legend(loc=3)"
   ]
  },
  {
   "cell_type": "code",
   "execution_count": 13,
   "metadata": {
    "collapsed": true
   },
   "outputs": [],
   "source": [
    "from sklearn import datasets\n",
    "X,y = datasets.make_classification(n_samples=1000, weights=[1./11])"
   ]
  },
  {
   "cell_type": "code",
   "execution_count": 20,
   "metadata": {},
   "outputs": [
    {
     "data": {
      "text/plain": [
       "0.906"
      ]
     },
     "execution_count": 20,
     "metadata": {},
     "output_type": "execute_result"
    }
   ],
   "source": [
    "y.mean()"
   ]
  },
  {
   "cell_type": "code",
   "execution_count": 25,
   "metadata": {},
   "outputs": [
    {
     "data": {
      "text/plain": [
       "<matplotlib.legend.Legend at 0x1bed762f940>"
      ]
     },
     "execution_count": 25,
     "metadata": {},
     "output_type": "execute_result"
    },
    {
     "data": {
      "image/png": "[encoded data removed]",
      "text/plain": [
       "<matplotlib.figure.Figure at 0x1bed7590470>"
      ]
     },
     "metadata": {},
     "output_type": "display_data"
    }
   ],
   "source": [
    "from sklearn import cross_validation\n",
    "n_folds = 50\n",
    "strat_kfold = cross_validation.StratifiedKFold(y,n_folds=n_folds)\n",
    "shuff_split = cross_validation.ShuffleSplit(n=len(y), n_iter=n_folds)\n",
    "kfold_y_props = []\n",
    "shuff_y_props = []\n",
    "for (k_train, k_test), (s_train, s_test) in zip(strat_kfold,shuff_split):\n",
    "    kfold_y_props.append(y[k_train].mean())\n",
    "    shuff_y_props.append(y[s_train].mean())\n",
    "\n",
    "f, ax = plt.subplots(figsize=(7, 5))\n",
    "ax.plot(range(n_folds), shuff_y_props, label=\"ShuffleSplit\",color='b')\n",
    "ax.plot(range(n_folds), kfold_y_props, label=\"Stratified\",color='r', ls='--')\n",
    "ax.set_title(\"Comparing class proportions.\")\n",
    "ax.legend(loc='best')"
   ]
  },
  {
   "cell_type": "code",
   "execution_count": 1,
   "metadata": {
    "collapsed": true
   },
   "outputs": [],
   "source": [
    "from sklearn import datasets\n",
    "X,y = datasets.make_classification(n_samples=1000, n_features=5)\n"
   ]
  },
  {
   "cell_type": "code",
   "execution_count": 4,
   "metadata": {},
   "outputs": [
    {
     "data": {
      "text/plain": [
       "LogisticRegression(C=1.0, class_weight=None, dual=False, fit_intercept=True,\n",
       "          intercept_scaling=1, max_iter=100, multi_class='ovr', n_jobs=1,\n",
       "          penalty='l2', random_state=None, solver='liblinear', tol=0.0001,\n",
       "          verbose=0, warm_start=False)"
      ]
     },
     "execution_count": 4,
     "metadata": {},
     "output_type": "execute_result"
    }
   ],
   "source": [
    "from sklearn.linear_model import LogisticRegression\n",
    "lr = LogisticRegression()\n",
    "lr.fit(X,y)"
   ]
  },
  {
   "cell_type": "code",
   "execution_count": 5,
   "metadata": {},
   "outputs": [
    {
     "name": "stderr",
     "output_type": "stream",
     "text": [
      "D:\\Users\\13884\\lib\\site-packages\\sklearn\\cross_validation.py:41: DeprecationWarning: This module was deprecated in version 0.18 in favor of the model_selection module into which all the refactored classes and functions are moved. Also note that the interface of the new CV iterators are different from that of this module. This module will be removed in 0.20.\n",
      "  \"This module will be removed in 0.20.\", DeprecationWarning)\n",
      "D:\\Users\\13884\\lib\\site-packages\\sklearn\\grid_search.py:42: DeprecationWarning: This module was deprecated in version 0.18 in favor of the model_selection module into which all the refactored classes and functions are moved. This module will be removed in 0.20.\n",
      "  DeprecationWarning)\n"
     ]
    },
    {
     "data": {
      "text/plain": [
       "GridSearchCV(cv=None, error_score='raise',\n",
       "       estimator=LogisticRegression(C=1.0, class_weight=None, dual=False, fit_intercept=True,\n",
       "          intercept_scaling=1, max_iter=100, multi_class='ovr', n_jobs=1,\n",
       "          penalty='l2', random_state=None, solver='liblinear', tol=0.0001,\n",
       "          verbose=0, warm_start=False),\n",
       "       fit_params={}, iid=True, n_jobs=1,\n",
       "       param_grid={'penalty': ['l1', 'l2'], 'C': [1, 10, 100, 0.1]},\n",
       "       pre_dispatch='2*n_jobs', refit=True, scoring=None, verbose=0)"
      ]
     },
     "execution_count": 5,
     "metadata": {},
     "output_type": "execute_result"
    }
   ],
   "source": [
    "from sklearn.grid_search import GridSearchCV, RandomizedSearchCV\n",
    "grid_search_params = {'penalty': ['l1', 'l2'],'C': [1, 10, 100, 0.1]}\n",
    "gs = GridSearchCV(lr, grid_search_params)\n",
    "gs.fit(X,y)"
   ]
  },
  {
   "cell_type": "code",
   "execution_count": 6,
   "metadata": {},
   "outputs": [
    {
     "data": {
      "text/plain": [
       "[mean: 0.89600, std: 0.01698, params: {'C': 1, 'penalty': 'l1'},\n",
       " mean: 0.89700, std: 0.01571, params: {'C': 1, 'penalty': 'l2'},\n",
       " mean: 0.89600, std: 0.01698, params: {'C': 10, 'penalty': 'l1'},\n",
       " mean: 0.89700, std: 0.01571, params: {'C': 10, 'penalty': 'l2'},\n",
       " mean: 0.89600, std: 0.01698, params: {'C': 100, 'penalty': 'l1'},\n",
       " mean: 0.89600, std: 0.01698, params: {'C': 100, 'penalty': 'l2'},\n",
       " mean: 0.89500, std: 0.01584, params: {'C': 0.1, 'penalty': 'l1'},\n",
       " mean: 0.89800, std: 0.01342, params: {'C': 0.1, 'penalty': 'l2'}]"
      ]
     },
     "execution_count": 6,
     "metadata": {},
     "output_type": "execute_result"
    }
   ],
   "source": [
    "gs.grid_scores_"
   ]
  },
  {
   "cell_type": "code",
   "execution_count": 18,
   "metadata": {},
   "outputs": [
    {
     "data": {
      "text/plain": [
       "mean: 0.89800, std: 0.01342, params: {'C': 0.1, 'penalty': 'l2'}"
      ]
     },
     "execution_count": 18,
     "metadata": {},
     "output_type": "execute_result"
    }
   ],
   "source": [
    "max(gs.grid_scores_, key = lambda x: x[1])"
   ]
  },
  {
   "cell_type": "code",
   "execution_count": 19,
   "metadata": {},
   "outputs": [
    {
     "data": {
      "text/plain": [
       "DummyRegressor(constant=None, quantile=None, strategy='mean')"
      ]
     },
     "execution_count": 19,
     "metadata": {},
     "output_type": "execute_result"
    }
   ],
   "source": [
    "X,y = datasets.make_regression()\n",
    "from sklearn import dummy\n",
    "dum = dummy.DummyRegressor()\n",
    "dum.fit(X,y)\n"
   ]
  },
  {
   "cell_type": "code",
   "execution_count": 25,
   "metadata": {},
   "outputs": [
    {
     "data": {
      "text/plain": [
       "array([11.48497907, 11.48497907, 11.48497907, 11.48497907, 11.48497907,\n",
       "       11.48497907, 11.48497907, 11.48497907, 11.48497907, 11.48497907])"
      ]
     },
     "execution_count": 25,
     "metadata": {},
     "output_type": "execute_result"
    }
   ],
   "source": [
    "dum.predict(X)[:10]"
   ]
  },
  {
   "cell_type": "code",
   "execution_count": 36,
   "metadata": {},
   "outputs": [
    {
     "name": "stdout",
     "output_type": "stream",
     "text": [
      "strategy: mean 11.484979065181603,11.484979065181603,11.484979065181603,11.484979065181603,11.484979065181603\n",
      "strategy: median -1.9323965302851,-1.9323965302851,-1.9323965302851,-1.9323965302851,-1.9323965302851\n",
      "strategy: constant 10.0,10.0,10.0,10.0,10.0\n"
     ]
    }
   ],
   "source": [
    "predictors = [(\"mean\", None),(\"median\", None),(\"constant\", 10)]\n",
    "for strategy,constant in predictors:\n",
    "    dumdum = dummy.DummyRegressor(strategy=strategy,constant=constant)\n",
    "    \n",
    "    dumdum.fit(X,y)\n",
    "    print(\"strategy: {}\".format(strategy), \",\".join(map(str,dumdum.predict(X)[:5])))"
   ]
  },
  {
   "cell_type": "code",
   "execution_count": 38,
   "metadata": {},
   "outputs": [
    {
     "name": "stdout",
     "output_type": "stream",
     "text": [
      "strategy: constant 0,0,0,0,0\n",
      "strategy: stratified 0,1,1,1,0\n",
      "strategy: uniform 0,0,1,1,0\n",
      "strategy: most_frequent 0,0,0,0,0\n"
     ]
    }
   ],
   "source": [
    "predictors = [(\"constant\", 0),(\"stratified\", None),(\"uniform\", None),(\"most_frequent\", None)]\n",
    "X, y = datasets.make_classification()\n",
    "for strategy, constant in predictors:\n",
    "    dumdum = dummy.DummyClassifier(strategy=strategy,constant=constant)\n",
    "    dumdum.fit(X, y)\n",
    "    print(\"strategy: {}\".format(strategy), \",\".join(map(str,dumdum.predict(X)[:5])))"
   ]
  },
  {
   "cell_type": "code",
   "execution_count": 40,
   "metadata": {},
   "outputs": [
    {
     "data": {
      "text/plain": [
       "DummyClassifier(constant=None, random_state=None, strategy='most_frequent')"
      ]
     },
     "execution_count": 40,
     "metadata": {},
     "output_type": "execute_result"
    }
   ],
   "source": [
    "X, y = datasets.make_classification(20000, weights=[.95, .05])\n",
    "umdum = dummy.DummyClassifier(strategy='most_frequent')\n",
    "dumdum.fit(X, y)"
   ]
  },
  {
   "cell_type": "code",
   "execution_count": 41,
   "metadata": {},
   "outputs": [
    {
     "name": "stdout",
     "output_type": "stream",
     "text": [
      "0.9453\n"
     ]
    }
   ],
   "source": [
    "from sklearn.metrics import accuracy_score\n",
    "print(accuracy_score(y, dumdum.predict(X)))"
   ]
  },
  {
   "cell_type": "code",
   "execution_count": 1,
   "metadata": {
    "collapsed": true
   },
   "outputs": [],
   "source": [
    "import numpy as np\n",
    "import matplotlib.pyplot as plt\n",
    "from sklearn import metrics\n",
    "%matplotlib inline\n",
    "def data(x, m=2, b=1, e=None, s=10):\n",
    "    if e is None:\n",
    "        e_i = 0\n",
    "    elif e is True:\n",
    "        e_i = np.random.normal(0, s, len(xs))\n",
    "    else:\n",
    "        e_i = e\n",
    "    \n",
    "    return x * m + b + e_i"
   ]
  },
  {
   "cell_type": "code",
   "execution_count": 3,
   "metadata": {},
   "outputs": [
    {
     "data": {
      "text/plain": [
       "<matplotlib.legend.Legend at 0x1fafa2cd898>"
      ]
     },
     "execution_count": 3,
     "metadata": {},
     "output_type": "execute_result"
    },
    {
     "data": {
      "image/png": "[encoded data removed]",
      "text/plain": [
       "<matplotlib.figure.Figure at 0x1fafa2a4160>"
      ]
     },
     "metadata": {},
     "output_type": "display_data"
    }
   ],
   "source": [
    "from functools import partial\n",
    "N = 100\n",
    "xs = np.sort(np.random.rand(N)*100)\n",
    "y_pred_gen = partial(data, x=xs, e=True)\n",
    "y_true_gen = partial(data, x=xs)\n",
    "y_pred = y_pred_gen()\n",
    "y_true = y_true_gen()\n",
    "f,ax = plt.subplots(figsize = (7,5))\n",
    "ax.set_title('Plotting the fit vs the underlying process.')\n",
    "ax.scatter(xs, y_pred, label=r'$\\hat{y}$')\n",
    "ax.plot(xs, y_true, label=r'$y$')\n",
    "ax.legend(loc='best')"
   ]
  },
  {
   "cell_type": "code",
   "execution_count": 6,
   "metadata": {},
   "outputs": [
    {
     "data": {
      "text/plain": [
       "(array([ 2.,  2.,  8., 24., 17., 21., 16.,  8.,  1.,  1.]),\n",
       " array([-27.90476515, -22.20411345, -16.50346176, -10.80281006,\n",
       "         -5.10215836,   0.59849334,   6.29914503,  11.99979673,\n",
       "         17.70044843,  23.40110013,  29.10175182]),\n",
       " <a list of 1 Patch objects>)"
      ]
     },
     "execution_count": 6,
     "metadata": {},
     "output_type": "execute_result"
    },
    {
     "data": {
      "image/png": "[encoded data removed]",
      "text/plain": [
       "<matplotlib.figure.Figure at 0x1fafa2b45c0>"
      ]
     },
     "metadata": {},
     "output_type": "display_data"
    }
   ],
   "source": [
    "e_hat = y_true - y_pred\n",
    "f, ax = plt.subplots(figsize=(7,5))\n",
    "ax.set_title('Residuals')\n",
    "ax.hist(e_hat, color='pink', edgecolor='black', alpha=0.6, histtype='stepfilled')\n"
   ]
  },
  {
   "cell_type": "code",
   "execution_count": 11,
   "metadata": {},
   "outputs": [
    {
     "data": {
      "text/plain": [
       "99.971727664891"
      ]
     },
     "execution_count": 11,
     "metadata": {},
     "output_type": "execute_result"
    }
   ],
   "source": [
    "mse = ((y_true - y_pred) ** 2).mean()\n",
    "mse\n"
   ]
  },
  {
   "cell_type": "code",
   "execution_count": 12,
   "metadata": {},
   "outputs": [
    {
     "data": {
      "text/plain": [
       "99.971727664891"
      ]
     },
     "execution_count": 12,
     "metadata": {},
     "output_type": "execute_result"
    }
   ],
   "source": [
    "metrics.mean_squared_error(y_true, y_pred)"
   ]
  },
  {
   "cell_type": "code",
   "execution_count": 13,
   "metadata": {},
   "outputs": [
    {
     "data": {
      "text/plain": [
       "8.051596372203408"
      ]
     },
     "execution_count": 13,
     "metadata": {},
     "output_type": "execute_result"
    }
   ],
   "source": [
    "mad = np.abs(y_true - y_pred).mean()\n",
    "mad"
   ]
  },
  {
   "cell_type": "code",
   "execution_count": 18,
   "metadata": {},
   "outputs": [
    {
     "data": {
      "text/plain": [
       "0.9697579626243845"
      ]
     },
     "execution_count": 18,
     "metadata": {},
     "output_type": "execute_result"
    }
   ],
   "source": [
    "rsq = 1 - ((y_true - y_pred) ** 2).sum() / ((y_true - y_true.mean()) ** 2).sum()\n",
    "rsq"
   ]
  },
  {
   "cell_type": "code",
   "execution_count": 19,
   "metadata": {},
   "outputs": [
    {
     "data": {
      "text/plain": [
       "0.9697579626243845"
      ]
     },
     "execution_count": 19,
     "metadata": {},
     "output_type": "execute_result"
    }
   ],
   "source": [
    "metrics.r2_score(y_true, y_pred)"
   ]
  },
  {
   "cell_type": "code",
   "execution_count": 20,
   "metadata": {
    "collapsed": true
   },
   "outputs": [],
   "source": [
    "from sklearn import datasets\n",
    "X,y = datasets.make_regression(n_samples=1000, n_features=10000)"
   ]
  },
  {
   "cell_type": "code",
   "execution_count": 21,
   "metadata": {
    "collapsed": true
   },
   "outputs": [],
   "source": [
    "from sklearn import feature_selection\n",
    "f, p = feature_selection.f_regression(X, y)"
   ]
  },
  {
   "cell_type": "code",
   "execution_count": 22,
   "metadata": {},
   "outputs": [
    {
     "data": {
      "text/plain": [
       "array([0.0510807 , 1.76316256, 1.74595362, 2.96249689, 0.34797158])"
      ]
     },
     "execution_count": 22,
     "metadata": {},
     "output_type": "execute_result"
    }
   ],
   "source": [
    "f[:5]"
   ]
  },
  {
   "cell_type": "code",
   "execution_count": 23,
   "metadata": {},
   "outputs": [
    {
     "data": {
      "text/plain": [
       "array([0.8212396 , 0.18453415, 0.18668907, 0.08552617, 0.55539715])"
      ]
     },
     "execution_count": 23,
     "metadata": {},
     "output_type": "execute_result"
    }
   ],
   "source": [
    "p[:5]"
   ]
  },
  {
   "cell_type": "code",
   "execution_count": 24,
   "metadata": {},
   "outputs": [
    {
     "data": {
      "text/plain": [
       "496"
      ]
     },
     "execution_count": 24,
     "metadata": {},
     "output_type": "execute_result"
    }
   ],
   "source": [
    "import numpy as np\n",
    "idx = np.arange(0, X.shape[1])\n",
    "feature_to_keep = idx[p < 0.05]\n",
    "len(feature_to_keep)"
   ]
  },
  {
   "cell_type": "code",
   "execution_count": 28,
   "metadata": {
    "collapsed": true
   },
   "outputs": [],
   "source": [
    "X, y = datasets.make_regression(10000, 20)\n",
    "f_0, p = feature_selection.f_regression(X, y)"
   ]
  },
  {
   "cell_type": "code",
   "execution_count": 29,
   "metadata": {},
   "outputs": [
    {
     "data": {
      "text/plain": [
       "Text(0.5,1,'Feature p values')"
      ]
     },
     "execution_count": 29,
     "metadata": {},
     "output_type": "execute_result"
    },
    {
     "data": {
      "image/png": "[encoded data removed]",
      "text/plain": [
       "<matplotlib.figure.Figure at 0x1fa8046d048>"
      ]
     },
     "metadata": {},
     "output_type": "display_data"
    }
   ],
   "source": [
    "f, ax = plt.subplots(figsize=(7,5))\n",
    "ax.bar(np.arange(20), p, color='b')\n",
    "ax.set_title(\"Feature p values\")"
   ]
  },
  {
   "cell_type": "code",
   "execution_count": 32,
   "metadata": {},
   "outputs": [
    {
     "data": {
      "text/plain": [
       "Text(0.5,1,'Feature f values')"
      ]
     },
     "execution_count": 32,
     "metadata": {},
     "output_type": "execute_result"
    },
    {
     "data": {
      "image/png": "[encoded data removed]",
      "text/plain": [
       "<matplotlib.figure.Figure at 0x1fa80398320>"
      ]
     },
     "metadata": {},
     "output_type": "display_data"
    }
   ],
   "source": [
    "f, ax = plt.subplots(figsize=(7,5))\n",
    "ax.bar(np.arange(20), f_0, color='b')\n",
    "ax.set_title(\"Feature f values\")"
   ]
  },
  {
   "cell_type": "code",
   "execution_count": 35,
   "metadata": {},
   "outputs": [],
   "source": [
    "from sklearn import datasets\n",
    "diabetes = datasets.load_diabetes()\n",
    "X = diabetes.data\n",
    "y = diabetes.target\n"
   ]
  },
  {
   "cell_type": "code",
   "execution_count": 54,
   "metadata": {},
   "outputs": [],
   "source": [
    "from sklearn.linear_model import LinearRegression\n",
    "from sklearn import linear_model\n",
    "from sklearn import cross_validation\n",
    "from sklearn import metrics\n",
    "shuff = cross_validation.ShuffleSplit(y.size, n_iter=10, test_size=0.2, random_state=7)"
   ]
  },
  {
   "cell_type": "code",
   "execution_count": 53,
   "metadata": {},
   "outputs": [
    {
     "name": "stdout",
     "output_type": "stream",
     "text": [
      "2882.120759642488\n"
     ]
    }
   ],
   "source": [
    "mses = []\n",
    "for train,test in shuff:\n",
    "    train_X = X[train]\n",
    "    test_X = X[test]\n",
    "    train_y = y[train]\n",
    "    test_y = y[test]\n",
    "    lr = LinearRegression()\n",
    "    lr.fit(train_X, train_y)\n",
    "    mses.append(metrics.mean_squared_error(test_y,lr.predict(test_X)))\n",
    "    \n",
    "print(np.mean(mses))    "
   ]
  },
  {
   "cell_type": "code",
   "execution_count": 57,
   "metadata": {},
   "outputs": [
    {
     "data": {
      "text/plain": [
       "array([  -0.        , -226.2375274 ,  526.85738059,  314.44026013,\n",
       "       -196.92164002,    1.48742026, -151.78054083,  106.52846989,\n",
       "        530.58541123,   64.50588257])"
      ]
     },
     "execution_count": 57,
     "metadata": {},
     "output_type": "execute_result"
    }
   ],
   "source": [
    "from sklearn import feature_selection\n",
    "cv = linear_model.LassoCV()\n",
    "cv = cv.fit(X, y)\n",
    "cv.coef_"
   ]
  },
  {
   "cell_type": "code",
   "execution_count": 58,
   "metadata": {},
   "outputs": [
    {
     "data": {
      "text/plain": [
       "array([1, 2, 3, 4, 5, 6, 7, 8, 9])"
      ]
     },
     "execution_count": 58,
     "metadata": {},
     "output_type": "execute_result"
    }
   ],
   "source": [
    "columns = np.arange(X.shape[1])[cv.coef_ != 0]\n",
    "columns"
   ]
  },
  {
   "cell_type": "code",
   "execution_count": 84,
   "metadata": {},
   "outputs": [
    {
     "name": "stdout",
     "output_type": "stream",
     "text": [
      "27.580593776763436\n"
     ]
    }
   ],
   "source": [
    "l1mses = []\n",
    "for train, test in shuff:\n",
    "    train_X = X[train][:, columns]\n",
    "    train_y = y[train]\n",
    "    test_X = X[test][:, columns]\n",
    "    test_y = y[test]\n",
    "    lr.fit(train_X, train_y)\n",
    "    l1mses.append(metrics.mean_squared_error(test_y, lr.predict(test_X)))\n",
    "print(np.mean(l1mses))"
   ]
  },
  {
   "cell_type": "code",
   "execution_count": 63,
   "metadata": {},
   "outputs": [
    {
     "data": {
      "text/plain": [
       "-13.472607369092202"
      ]
     },
     "execution_count": 63,
     "metadata": {},
     "output_type": "execute_result"
    }
   ],
   "source": [
    "np.mean(l1mses) - np.mean(mses)"
   ]
  },
  {
   "cell_type": "code",
   "execution_count": 65,
   "metadata": {},
   "outputs": [],
   "source": [
    "X,y = datasets.make_regression(noise=5)"
   ]
  },
  {
   "cell_type": "code",
   "execution_count": 90,
   "metadata": {},
   "outputs": [
    {
     "name": "stdout",
     "output_type": "stream",
     "text": [
      "2418.3859999699316\n"
     ]
    }
   ],
   "source": [
    "mses = []\n",
    "shuff = cross_validation.ShuffleSplit(y.size)\n",
    "for train,test in shuff:\n",
    "    train_X = X[train]\n",
    "    train_y = y[train]\n",
    "    test_X = X[test]\n",
    "    test_y = y[test]\n",
    "    lr.fit(train_X, train_y)\n",
    "    mses.append(metrics.mean_squared_error(test_y, lr.predict(test_X)))\n",
    "print(np.mean(mses))"
   ]
  },
  {
   "cell_type": "code",
   "execution_count": 71,
   "metadata": {},
   "outputs": [
    {
     "data": {
      "text/plain": [
       "LassoCV(alphas=None, copy_X=True, cv=None, eps=0.001, fit_intercept=True,\n",
       "    max_iter=1000, n_alphas=100, n_jobs=1, normalize=False, positive=False,\n",
       "    precompute='auto', random_state=None, selection='cyclic', tol=0.0001,\n",
       "    verbose=False)"
      ]
     },
     "execution_count": 71,
     "metadata": {},
     "output_type": "execute_result"
    }
   ],
   "source": [
    "cv.fit(X, y)\n"
   ]
  },
  {
   "cell_type": "code",
   "execution_count": 73,
   "metadata": {},
   "outputs": [
    {
     "data": {
      "text/plain": [
       "array([ 0,  8, 25, 31, 32, 34, 39, 41, 54, 55, 57, 59, 77, 78, 81, 88, 97])"
      ]
     },
     "execution_count": 73,
     "metadata": {},
     "output_type": "execute_result"
    }
   ],
   "source": [
    "columns = np.arange(X.shape[1])[cv.coef_!=0]\n",
    "columns"
   ]
  },
  {
   "cell_type": "code",
   "execution_count": 94,
   "metadata": {},
   "outputs": [
    {
     "name": "stdout",
     "output_type": "stream",
     "text": [
      "26.604443196049754\n"
     ]
    }
   ],
   "source": [
    "mses = []\n",
    "shuff = cross_validation.ShuffleSplit(y.size)\n",
    "for train,test in shuff:\n",
    "    train_X = X[train][:, columns]\n",
    "    train_y = y[train]\n",
    "    test_X = X[test][:, columns]\n",
    "    test_y = y[test]\n",
    "    lr.fit(train_X, train_y)\n",
    "    mses.append(metrics.mean_squared_error(test_y, lr.predict(test_X)))\n",
    "print(np.mean(mses))"
   ]
  },
  {
   "cell_type": "code",
   "execution_count": 96,
   "metadata": {},
   "outputs": [
    {
     "data": {
      "text/plain": [
       "['dtree.clf']"
      ]
     },
     "execution_count": 96,
     "metadata": {},
     "output_type": "execute_result"
    }
   ],
   "source": [
    "from sklearn import datasets,tree\n",
    "X, y = datasets.make_classification()\n",
    "dt = tree.DecisionTreeClassifier()\n",
    "dt.fit(X, y)\n",
    "from sklearn.externals import joblib\n",
    "joblib.dump(dt, \"dtree.clf\")"
   ]
  },
  {
   "cell_type": "code",
   "execution_count": 97,
   "metadata": {},
   "outputs": [
    {
     "data": {
      "text/plain": [
       "['rf.clf']"
      ]
     },
     "execution_count": 97,
     "metadata": {},
     "output_type": "execute_result"
    }
   ],
   "source": [
    "from sklearn import ensemble\n",
    "rf = ensemble.RandomForestClassifier()\n",
    "rf.fit(X, y)\n",
    "joblib.dump(rf, \"rf.clf\")"
   ]
  },
  {
   "cell_type": "code",
   "execution_count": null,
   "metadata": {
    "collapsed": true
   },
   "outputs": [],
   "source": []
  }
 ],
 "metadata": {
  "kernelspec": {
   "display_name": "Python 3",
   "language": "python",
   "name": "python3"
  },
  "language_info": {
   "codemirror_mode": {
    "name": "ipython",
    "version": 3
   },
   "file_extension": ".py",
   "mimetype": "text/x-python",
   "name": "python",
   "nbconvert_exporter": "python",
   "pygments_lexer": "ipython3",
   "version": "3.6.3"
  }
 },
 "nbformat": 4,
 "nbformat_minor": 2
}
